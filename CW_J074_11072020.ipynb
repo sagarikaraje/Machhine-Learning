{
  "nbformat": 4,
  "nbformat_minor": 0,
  "metadata": {
    "colab": {
      "name": "CW_J074_11072020.ipynb",
      "provenance": [],
      "collapsed_sections": [],
      "authorship_tag": "ABX9TyNg1L1vvTwSjzO9mp1PD/6/",
      "include_colab_link": true
    },
    "kernelspec": {
      "name": "python3",
      "display_name": "Python 3"
    }
  },
  "cells": [
    {
      "cell_type": "markdown",
      "metadata": {
        "id": "view-in-github",
        "colab_type": "text"
      },
      "source": [
        "<a href=\"https://colab.research.google.com/github/sagarikaraje/Machine-Learning/blob/master/CW_J074_11072020.ipynb\" target=\"_parent\"><img src=\"https://colab.research.google.com/assets/colab-badge.svg\" alt=\"Open In Colab\"/></a>"
      ]
    },
    {
      "cell_type": "code",
      "metadata": {
        "id": "C9_WXXPTOlnG",
        "colab_type": "code",
        "colab": {}
      },
      "source": [
        "import numpy as np\n",
        "import pandas as pd\n",
        "import matplotlib.pyplot as plt"
      ],
      "execution_count": 1,
      "outputs": []
    },
    {
      "cell_type": "markdown",
      "metadata": {
        "id": "nYJbMXrMRLg6",
        "colab_type": "text"
      },
      "source": [
        "FUNCTIONS AND GLOBAL VARIABLES"
      ]
    },
    {
      "cell_type": "code",
      "metadata": {
        "id": "9gY9eRMJOzv8",
        "colab_type": "code",
        "colab": {}
      },
      "source": [
        "a = 5\n",
        "b = 6\n",
        "c = 9"
      ],
      "execution_count": 4,
      "outputs": []
    },
    {
      "cell_type": "code",
      "metadata": {
        "id": "g9AbNj4ROmJN",
        "colab_type": "code",
        "colab": {}
      },
      "source": [
        "def printer():\n",
        "  print(a+b)\n",
        "def sum(a,b):\n",
        "  print(a+b)"
      ],
      "execution_count": 5,
      "outputs": []
    },
    {
      "cell_type": "code",
      "metadata": {
        "id": "Y2o21ri8Ouxx",
        "colab_type": "code",
        "colab": {
          "base_uri": "https://localhost:8080/",
          "height": 35
        },
        "outputId": "8ceffc1a-e115-4ba4-ff0c-e622512d970d"
      },
      "source": [
        "printer()"
      ],
      "execution_count": 6,
      "outputs": [
        {
          "output_type": "stream",
          "text": [
            "11\n"
          ],
          "name": "stdout"
        }
      ]
    },
    {
      "cell_type": "code",
      "metadata": {
        "id": "qpx5Z9_0Ovfe",
        "colab_type": "code",
        "colab": {
          "base_uri": "https://localhost:8080/",
          "height": 35
        },
        "outputId": "12b80f3b-d3ea-4d77-d1e3-796ea7ca813e"
      },
      "source": [
        "sum(a,c)"
      ],
      "execution_count": 7,
      "outputs": [
        {
          "output_type": "stream",
          "text": [
            "14\n"
          ],
          "name": "stdout"
        }
      ]
    },
    {
      "cell_type": "markdown",
      "metadata": {
        "id": "5dkIACulRG1K",
        "colab_type": "text"
      },
      "source": [
        "CONVERTING BINARY NUMBERS TO DECIMAL"
      ]
    },
    {
      "cell_type": "code",
      "metadata": {
        "id": "psE0wTKqO3Hz",
        "colab_type": "code",
        "colab": {
          "base_uri": "https://localhost:8080/",
          "height": 35
        },
        "outputId": "f31059ed-f730-47b9-c2f0-de7647e04877"
      },
      "source": [
        "str(int('101',2))"
      ],
      "execution_count": 9,
      "outputs": [
        {
          "output_type": "execute_result",
          "data": {
            "application/vnd.google.colaboratory.intrinsic": {
              "type": "string"
            },
            "text/plain": [
              "'5'"
            ]
          },
          "metadata": {
            "tags": []
          },
          "execution_count": 9
        }
      ]
    },
    {
      "cell_type": "markdown",
      "metadata": {
        "id": "Qy-whcfXRD4z",
        "colab_type": "text"
      },
      "source": [
        "END OF LINE IN STRINGS"
      ]
    },
    {
      "cell_type": "code",
      "metadata": {
        "id": "fYTxS9cnPNSW",
        "colab_type": "code",
        "colab": {
          "base_uri": "https://localhost:8080/",
          "height": 52
        },
        "outputId": "b538302c-340e-4a66-d6ca-82e1b6e3af7f"
      },
      "source": [
        "def printfunct():\n",
        "  a = 'my name\\n is\\\n",
        "  sagarika\\\n",
        "  raje'\n",
        "  print(a)\n",
        "printfunct()"
      ],
      "execution_count": 14,
      "outputs": [
        {
          "output_type": "stream",
          "text": [
            "my name\n",
            " is  sagarika  raje\n"
          ],
          "name": "stdout"
        }
      ]
    },
    {
      "cell_type": "markdown",
      "metadata": {
        "id": "vPzc4IiJQ-gN",
        "colab_type": "text"
      },
      "source": [
        "NAME MANGLING, CLASSES, OBJECTS AND CONSTRUCTORS"
      ]
    },
    {
      "cell_type": "code",
      "metadata": {
        "id": "Ou6SQ1XJPaso",
        "colab_type": "code",
        "colab": {
          "base_uri": "https://localhost:8080/",
          "height": 52
        },
        "outputId": "7a917556-bc1f-4ed0-81ad-7276ef76788d"
      },
      "source": [
        "class student:\n",
        "  def __init__(self, name):\n",
        "    self.name = name\n",
        "  def displayName(self):\n",
        "    print(self.name)\n",
        "\n",
        "x1 = student('Santosh')\n",
        "x1.displayName()\n",
        "\n",
        "print(x1.name)"
      ],
      "execution_count": 15,
      "outputs": [
        {
          "output_type": "stream",
          "text": [
            "Santosh\n",
            "Santosh\n"
          ],
          "name": "stdout"
        }
      ]
    },
    {
      "cell_type": "code",
      "metadata": {
        "id": "g3_AUbJsQc-t",
        "colab_type": "code",
        "colab": {
          "base_uri": "https://localhost:8080/",
          "height": 52
        },
        "outputId": "037d8ee9-37c3-4a9a-fe7d-00ba9f24f9a8"
      },
      "source": [
        "class stud(student):\n",
        "  def __init__(self, a, name):\n",
        "    self.a = a\n",
        "    student.__init__(student, name) \n",
        "\n",
        "x2 = stud(45, 'Santosh')\n",
        "print(x2.name)\n",
        "print(x2.a)"
      ],
      "execution_count": 16,
      "outputs": [
        {
          "output_type": "stream",
          "text": [
            "Santosh\n",
            "45\n"
          ],
          "name": "stdout"
        }
      ]
    },
    {
      "cell_type": "code",
      "metadata": {
        "id": "4evplEaCQl6H",
        "colab_type": "code",
        "colab": {}
      },
      "source": [
        ""
      ],
      "execution_count": null,
      "outputs": []
    }
  ]
}