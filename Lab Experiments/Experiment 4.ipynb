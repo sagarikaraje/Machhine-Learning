{
  "nbformat": 4,
  "nbformat_minor": 0,
  "metadata": {
    "colab": {
      "name": "Experiment 4",
      "provenance": [],
      "toc_visible": true,
      "include_colab_link": true
    },
    "kernelspec": {
      "name": "python3",
      "display_name": "Python 3"
    }
  },
  "cells": [
    {
      "cell_type": "markdown",
      "metadata": {
        "id": "view-in-github",
        "colab_type": "text"
      },
      "source": [
        "<a href=\"https://colab.research.google.com/github/sagarikaraje/Machine-Learning/blob/master/Lab%20Experiments/Experiment%204.ipynb\" target=\"_parent\"><img src=\"https://colab.research.google.com/assets/colab-badge.svg\" alt=\"Open In Colab\"/></a>"
      ]
    },
    {
      "cell_type": "code",
      "metadata": {
        "id": "tOaQ4vx23Wtq",
        "colab_type": "code",
        "colab": {}
      },
      "source": [
        "import numpy as np  # useful for many scientific computing in Python\n",
        "import pandas as pd # primary data structure library\n",
        "\n",
        "df_can = pd.read_excel('https://s3-api.us-geo.objectstorage.softlayer.net/cf-courses-data/CognitiveClass/DV0101EN/labs/Data_Files/Canada.xlsx',\n",
        "                       sheet_name='Canada by Citizenship',\n",
        "                       skiprows=range(20),\n",
        "                       skipfooter=2\n",
        "                      )\n",
        "\n",
        "print('Data downloaded and read into a dataframe!')"
      ],
      "execution_count": null,
      "outputs": []
    },
    {
      "cell_type": "code",
      "metadata": {
        "id": "bLmZWtXw32E0",
        "colab_type": "code",
        "colab": {}
      },
      "source": [
        "df_can.head()"
      ],
      "execution_count": null,
      "outputs": []
    },
    {
      "cell_type": "code",
      "metadata": {
        "id": "yfBHALmz4MBS",
        "colab_type": "code",
        "colab": {}
      },
      "source": [
        "df_can.drop(['AREA','Type','Coverage','DEV','REG'], inplace=True, axis='columns')\n",
        "\n",
        "df_can.rename(columns={'OdName':'Country','AreaName':'Continent','RegName':'Continent-Region','DevName':'Development-status'}, inplace=True)\n",
        "\n",
        "df_can.set_index('Country', inplace=True)\n",
        "\n",
        "df_can['Total'] = df_can.sum(axis='columns')\n",
        "\n",
        "years = range(1980, 2014)\n",
        "\n",
        "df_can.head()"
      ],
      "execution_count": null,
      "outputs": []
    },
    {
      "cell_type": "code",
      "metadata": {
        "id": "-sysGjkv5Xwl",
        "colab_type": "code",
        "colab": {}
      },
      "source": [
        "import matplotlib.pyplot as plt\n",
        "import matplotlib as mpl"
      ],
      "execution_count": null,
      "outputs": []
    },
    {
      "cell_type": "markdown",
      "metadata": {
        "id": "8uqmddM5S4Uk",
        "colab_type": "text"
      },
      "source": [
        "#Waffle Charts\n",
        "\n",
        "A waffle chart is an interesting visualization that is normally created to display progress toward goals. It is commonly an effective option when you are trying to add interesting visualization features to a visual that consists mainly of cells, such as an Excel dashboard."
      ]
    },
    {
      "cell_type": "code",
      "metadata": {
        "id": "1i8bQgXTTSsA",
        "colab_type": "code",
        "colab": {}
      },
      "source": [
        "%matplotlib inline\n",
        "\n",
        "import matplotlib as mpl\n",
        "import matplotlib.pyplot as plt\n",
        "import matplotlib.patches as mpatches # needed for waffle Charts\n",
        "\n",
        "mpl.style.use('ggplot') # optional: for ggplot-like style\n",
        "\n",
        "# check for latest version of Matplotlib\n",
        "print ('Matplotlib version: ', mpl.__version__) # >= 2.0.0"
      ],
      "execution_count": null,
      "outputs": []
    },
    {
      "cell_type": "code",
      "metadata": {
        "id": "DHUy8ZpRSdiv",
        "colab_type": "code",
        "colab": {}
      },
      "source": [
        "def create_waffle_chart(categories, values, height, width, colormap, value_sign=''):\n",
        "\n",
        "    # compute the proportion of each category with respect to the total\n",
        "    total_values = sum(values)\n",
        "    category_proportions = [(float(value) / total_values) for value in values]\n",
        "\n",
        "    # compute the total number of tiles\n",
        "    total_num_tiles = width * height # total number of tiles\n",
        "    print ('Total number of tiles is', total_num_tiles)\n",
        "    \n",
        "    # compute the number of tiles for each catagory\n",
        "    tiles_per_category = [round(proportion * total_num_tiles) for proportion in category_proportions]\n",
        "\n",
        "    # print out number of tiles per category\n",
        "    for i, tiles in enumerate(tiles_per_category):\n",
        "        print (df_dsn.index.values[i] + ': ' + str(tiles))\n",
        "    \n",
        "    # initialize the waffle chart as an empty matrix\n",
        "    waffle_chart = np.zeros((height, width))\n",
        "\n",
        "    # define indices to loop through waffle chart\n",
        "    category_index = 0\n",
        "    tile_index = 0\n",
        "\n",
        "    # populate the waffle chart\n",
        "    for col in range(width):\n",
        "        for row in range(height):\n",
        "            tile_index += 1\n",
        "\n",
        "            # if the number of tiles populated for the current category \n",
        "            # is equal to its corresponding allocated tiles...\n",
        "            if tile_index > sum(tiles_per_category[0:category_index]):\n",
        "                # ...proceed to the next category\n",
        "                category_index += 1       \n",
        "            \n",
        "            # set the class value to an integer, which increases with class\n",
        "            waffle_chart[row, col] = category_index\n",
        "    \n",
        "    # instantiate a new figure object\n",
        "    fig = plt.figure()\n",
        "\n",
        "    # use matshow to display the waffle chart\n",
        "    colormap = plt.cm.coolwarm\n",
        "    plt.matshow(waffle_chart, cmap=colormap)\n",
        "    plt.colorbar()\n",
        "\n",
        "    # get the axis\n",
        "    ax = plt.gca()\n",
        "\n",
        "    # set minor ticks\n",
        "    ax.set_xticks(np.arange(-.5, (width), 1), minor=True)\n",
        "    ax.set_yticks(np.arange(-.5, (height), 1), minor=True)\n",
        "    \n",
        "    # add dridlines based on minor ticks\n",
        "    ax.grid(which='minor', color='w', linestyle='-', linewidth=2)\n",
        "\n",
        "    plt.xticks([])\n",
        "    plt.yticks([])\n",
        "\n",
        "    # compute cumulative sum of individual categories to match color schemes between chart and legend\n",
        "    values_cumsum = np.cumsum(values)\n",
        "    total_values = values_cumsum[len(values_cumsum) - 1]\n",
        "\n",
        "    # create legend\n",
        "    legend_handles = []\n",
        "    for i, category in enumerate(categories):\n",
        "        if value_sign == '%':\n",
        "            label_str = category + ' (' + str(values[i]) + value_sign + ')'\n",
        "        else:\n",
        "            label_str = category + ' (' + value_sign + str(values[i]) + ')'\n",
        "            \n",
        "        color_val = colormap(float(values_cumsum[i])/total_values)\n",
        "        legend_handles.append(mpatches.Patch(color=color_val, label=label_str))\n",
        "\n",
        "    # add legend to chart\n",
        "    plt.legend(\n",
        "        handles=legend_handles,\n",
        "        loc='lower center', \n",
        "        ncol=len(categories),\n",
        "        bbox_to_anchor=(0., -0.2, 0.95, .1)\n",
        "    )"
      ],
      "execution_count": null,
      "outputs": []
    },
    {
      "cell_type": "code",
      "metadata": {
        "id": "1OZuw4ENm6Np",
        "colab_type": "code",
        "colab": {}
      },
      "source": [
        "dfindopakchina = df_can.loc[['India', 'Pakistan', 'China'], :]\n",
        "\n",
        "dfindopakchina"
      ],
      "execution_count": null,
      "outputs": []
    },
    {
      "cell_type": "code",
      "metadata": {
        "id": "T9fuYMpxnPIN",
        "colab_type": "code",
        "colab": {}
      },
      "source": [
        "df_dsn = df_can.loc[['India', 'Pakistan', 'China'], :]\n",
        "\n",
        "categories = df_dsn.index.values\n",
        "\n",
        "value = df_dsn['Total']\n",
        "\n",
        "#create a waffle chart\n",
        "\n",
        "width=40\n",
        "height=10\n",
        "\n",
        "colormap = plt.cm.coolwarm"
      ],
      "execution_count": null,
      "outputs": []
    },
    {
      "cell_type": "code",
      "metadata": {
        "id": "zGjoxiVOnveX",
        "colab_type": "code",
        "colab": {}
      },
      "source": [
        "create_waffle_chart(categories, value, height, width, colormap)"
      ],
      "execution_count": null,
      "outputs": []
    },
    {
      "cell_type": "code",
      "metadata": {
        "id": "lZIqQffApQLp",
        "colab_type": "code",
        "colab": {}
      },
      "source": [
        ""
      ],
      "execution_count": null,
      "outputs": []
    },
    {
      "cell_type": "markdown",
      "metadata": {
        "id": "K9Sx51SCTnoP",
        "colab_type": "text"
      },
      "source": [
        "#Word clouds"
      ]
    },
    {
      "cell_type": "code",
      "metadata": {
        "id": "bobBc1q_TpGH",
        "colab_type": "code",
        "colab": {}
      },
      "source": [
        "# install wordcloud\n",
        "!conda install -c conda-forge wordcloud==1.4.1 --yes\n",
        "\n",
        "# import package and its set of stopwords\n",
        "from wordcloud import WordCloud, STOPWORDS\n",
        "\n",
        "print ('Wordcloud is installed and imported!')\n",
        "\n",
        "# download file and save as alice_novel.txt\n",
        "!wget --quiet https://s3-api.us-geo.objectstorage.softlayer.net/cf-courses-data/CognitiveClass/DV0101EN/labs/Data_Files/alice_novel.txt\n",
        "\n",
        "# open the file and read it into a variable alice_novel\n",
        "alice_novel = open('alice_novel.txt', 'r').read()\n",
        "    \n",
        "print ('File downloaded and saved!')"
      ],
      "execution_count": null,
      "outputs": []
    },
    {
      "cell_type": "code",
      "metadata": {
        "id": "SGWD8mWZqiVg",
        "colab_type": "code",
        "colab": {}
      },
      "source": [
        "#step1 - preprocessing\n",
        "\n",
        "stopwordsrem = set(STOPWORDS)\n",
        "\n",
        "#step 2-wordcloud object\n",
        "\n",
        "alicewc = WordCloud(\n",
        "    background_color = 'white',\n",
        "    max_words = 2000,\n",
        "    stopwords = stopwordsrem\n",
        ")\n",
        "\n",
        "\n",
        "#step3 - use the object to call function\n",
        "\n",
        "alicewc.generate(alice_novel)\n",
        "\n",
        "# step 4 - display\n",
        "\n",
        "plt.imshow(alicewc)\n",
        "plt.show()"
      ],
      "execution_count": null,
      "outputs": []
    },
    {
      "cell_type": "code",
      "metadata": {
        "id": "9I20h-dtrro8",
        "colab_type": "code",
        "colab": {}
      },
      "source": [
        "#step1 - preprocessing\n",
        "\n",
        "stopwordsrem = set(STOPWORDS)\n",
        "stopwordsrem.add('said')\n",
        "\n",
        "\n",
        "#step 2-wordcloud object\n",
        "\n",
        "alicewc = WordCloud(\n",
        "    background_color = 'white',\n",
        "    max_words = 2000,\n",
        "    stopwords = stopwordsrem\n",
        ")\n",
        "\n",
        "\n",
        "#step3 - use the object to call function\n",
        "\n",
        "alicewc.generate(alice_novel)\n",
        "\n",
        "# step 4 - display\n",
        "fig = plt.figure()\n",
        "fig.set_figwidth(20)\n",
        "fig.set_figheight(20)\n",
        "plt.imshow(alicewc)\n",
        "plt.axis('off')\n",
        "plt.show()"
      ],
      "execution_count": null,
      "outputs": []
    },
    {
      "cell_type": "markdown",
      "metadata": {
        "id": "IXxZ_vCoskY3",
        "colab_type": "text"
      },
      "source": [
        "#Maps"
      ]
    },
    {
      "cell_type": "code",
      "metadata": {
        "id": "PfntZVFXsitF",
        "colab_type": "code",
        "colab": {}
      },
      "source": [
        "import numpy as np\n",
        "\n",
        "import pandas as pd\n",
        "\n",
        "import folium"
      ],
      "execution_count": null,
      "outputs": []
    },
    {
      "cell_type": "code",
      "metadata": {
        "id": "sOe80RSLtpdu",
        "colab_type": "code",
        "colab": {}
      },
      "source": [
        "map1 = folium.Map()\n",
        "map1"
      ],
      "execution_count": null,
      "outputs": []
    },
    {
      "cell_type": "code",
      "metadata": {
        "id": "koMaydROt2Rg",
        "colab_type": "code",
        "colab": {}
      },
      "source": [
        "map2 = folium.Map(location=[37.22, -122.16], zoom_start=12)\n",
        "map2"
      ],
      "execution_count": null,
      "outputs": []
    },
    {
      "cell_type": "code",
      "metadata": {
        "id": "i81IhzlzuaLX",
        "colab_type": "code",
        "colab": {}
      },
      "source": [
        "map3 = folium.Map(location=[56.130, -106.35], zoom_start=10, tiles='Stamen Toner')\n",
        "map3"
      ],
      "execution_count": null,
      "outputs": []
    },
    {
      "cell_type": "code",
      "metadata": {
        "id": "Gt5IDt1Hu5Qr",
        "colab_type": "code",
        "colab": {}
      },
      "source": [
        ""
      ],
      "execution_count": null,
      "outputs": []
    },
    {
      "cell_type": "code",
      "metadata": {
        "id": "G2RhNFP6u7PG",
        "colab_type": "code",
        "colab": {}
      },
      "source": [
        "map4 = folium.Map(location=[56.130, -106.35], zoom_start=5, tiles='Stamen Terrain')\n",
        "map4"
      ],
      "execution_count": null,
      "outputs": []
    },
    {
      "cell_type": "code",
      "metadata": {
        "id": "-ZNDWwXevPF1",
        "colab_type": "code",
        "colab": {}
      },
      "source": [
        "#Find coordinates of mumbai and plot on maps\n",
        "mumbai = folium.Map(location=[19.0760, 72.877], zoom_start=12)\n",
        "mumbai"
      ],
      "execution_count": null,
      "outputs": []
    },
    {
      "cell_type": "code",
      "metadata": {
        "id": "Roo9bqHdwfay",
        "colab_type": "code",
        "colab": {}
      },
      "source": [
        "df_incidents = pd.read_csv('https://s3-api.us-geo.objectstorage.softlayer.net/cf-courses-data/CognitiveClass/DV0101EN/labs/Data_Files/Police_Department_Incidents_-_Previous_Year__2016_.csv')\n",
        "\n",
        "print('Dataset downloaded and read into a pandas dataframe!')\n",
        "\n",
        "df_incidents.head()\n",
        "\n",
        "df_incidents.shape"
      ],
      "execution_count": null,
      "outputs": []
    },
    {
      "cell_type": "markdown",
      "metadata": {
        "id": "dsqueX_zxPQ1",
        "colab_type": "text"
      },
      "source": [
        "#Markers with maps"
      ]
    },
    {
      "cell_type": "code",
      "metadata": {
        "id": "YgeStbhwxRQJ",
        "colab_type": "code",
        "colab": {}
      },
      "source": [
        "#step1 - obtain dataset\n",
        "df1 = df_incidents.iloc[0:100,:]\n",
        "\n",
        "#step 2 - map\n",
        "lat = 37.77\n",
        "longs = -122.42\n",
        "\n",
        "map1 = folium.Map(location=[lat, longs], zoom_start=12)\n",
        "\n",
        "\n",
        "for lat, longs, labels in zip(df1.Y, df1.X, df1.Category):\n",
        "  folium.CircleMarker(\n",
        "      [lat, longs],\n",
        "      radius=5,\n",
        "      color='yellow',\n",
        "      fill=True,\n",
        "      popup=labels,\n",
        "      fill_color='blue',\n",
        "      fill_opacity=0.6\n",
        "  ).add_to(map1)\n",
        "\n",
        "map1"
      ],
      "execution_count": null,
      "outputs": []
    },
    {
      "cell_type": "code",
      "metadata": {
        "id": "wLXZwal80lH8",
        "colab_type": "code",
        "colab": {}
      },
      "source": [
        "#step1 - obtain dataset\n",
        "df1 = df_incidents.iloc[0:100,:]\n",
        "\n",
        "#step 2 - map\n",
        "lat = 37.77\n",
        "longs = -122.42\n",
        "\n",
        "map1 = folium.Map(location=[lat, longs], zoom_start=12)\n",
        "\n",
        "#cluster\n",
        "from folium import plugins\n",
        "clust = plugins.MarkerCluster().add_to(map1)\n",
        "\n",
        "\n",
        "for lat, longs, labels in zip(df1.Y, df1.X, df1.Category):\n",
        "  folium.CircleMarker(\n",
        "      [lat, longs],\n",
        "      radius=5,\n",
        "      color='yellow',\n",
        "      fill=True,\n",
        "      popup=labels,\n",
        "      fill_color='blue',\n",
        "      fill_opacity=0.6\n",
        "  ).add_to(clust)\n",
        "\n",
        "map1"
      ],
      "execution_count": null,
      "outputs": []
    },
    {
      "cell_type": "markdown",
      "metadata": {
        "id": "IXNR5LyS2l7a",
        "colab_type": "text"
      },
      "source": [
        "#Choropleth map"
      ]
    },
    {
      "cell_type": "code",
      "metadata": {
        "id": "_NU-fFs62rPO",
        "colab_type": "code",
        "colab": {}
      },
      "source": [
        "df_can.reset_index(inplace=True)"
      ],
      "execution_count": null,
      "outputs": []
    },
    {
      "cell_type": "code",
      "metadata": {
        "id": "tMtGueNh3VUW",
        "colab_type": "code",
        "colab": {}
      },
      "source": [
        "# download countries geojson file\n",
        "!wget --quiet https://s3-api.us-geo.objectstorage.softlayer.net/cf-courses-data/CognitiveClass/DV0101EN/labs/Data_Files/world_countries.json -O world_countries.json\n",
        "    \n",
        "print('GeoJSON file downloaded!')"
      ],
      "execution_count": null,
      "outputs": []
    },
    {
      "cell_type": "code",
      "metadata": {
        "id": "OzpF49aT32Wj",
        "colab_type": "code",
        "colab": {}
      },
      "source": [
        "worldmap = folium.Map(location=[0,0], zoom_start=2, tiles='Stamen Watercolor')\n",
        "worldmap\n",
        "\n",
        "world_geo = r'world_countries.json'\n",
        "\n",
        "worldmap.choropleth(\n",
        "    geo_data = world_geo,\n",
        "    data=df_can,\n",
        "    columns=['Country','Total'],\n",
        "    key_on='feature.properties.name',\n",
        "    legend='Immigration to Canada',\n",
        "    fill_color='YlOrRd'\n",
        " )\n",
        "\n",
        "worldmap"
      ],
      "execution_count": null,
      "outputs": []
    },
    {
      "cell_type": "code",
      "metadata": {
        "id": "zUxNBXXP5XGV",
        "colab_type": "code",
        "colab": {}
      },
      "source": [
        "worldmap = folium.Map(location=[0,0], zoom_start=2, tiles='Stamen Watercolor')\n",
        "worldmap\n",
        "\n",
        "world_geo = r'world_countries.json'\n",
        "\n",
        "\n",
        "scale = np.linspace(df_can['Total'].min(), df_can['Total'].max(), 6, dtype=int)\n",
        "scale = scale.tolist()\n",
        "scale[-1] = scale[-1]+1\n",
        "\n",
        "worldmap.choropleth(\n",
        "    geo_data = world_geo,\n",
        "    data=df_can,\n",
        "    columns=['Country','Total'],\n",
        "    key_on='feature.properties.name',\n",
        "    legend='Immigration to Canada',\n",
        "    fill_color='YlOrRd',\n",
        "    threshold_scale=scale\n",
        " )\n",
        "\n",
        "worldmap"
      ],
      "execution_count": null,
      "outputs": []
    }
  ]
}