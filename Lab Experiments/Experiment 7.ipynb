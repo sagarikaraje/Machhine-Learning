{
  "nbformat": 4,
  "nbformat_minor": 0,
  "metadata": {
    "accelerator": "GPU",
    "colab": {
      "name": "Experiment 7.ipynb",
      "provenance": [],
      "collapsed_sections": [
        "k488g80SepgH",
        "Eai1MmVqUkNE",
        "Z8wv_6whTmGr",
        "V0JNDH-Doxhn",
        "AyKSN9ZD8A_F",
        "Il4XUxkLFR8s",
        "Fk2ubQss1p-H",
        "TNPLboC_1sli"
      ],
      "toc_visible": true,
      "include_colab_link": true
    },
    "kernelspec": {
      "display_name": "Python 3",
      "language": "python",
      "name": "python3"
    },
    "language_info": {
      "codemirror_mode": {
        "name": "ipython",
        "version": 3
      },
      "file_extension": ".py",
      "mimetype": "text/x-python",
      "name": "python",
      "nbconvert_exporter": "python",
      "pygments_lexer": "ipython3",
      "version": "3.7.6"
    },
    "toc": {
      "base_numbering": 1,
      "nav_menu": {},
      "number_sections": true,
      "sideBar": true,
      "skip_h1_title": true,
      "title_cell": "Table of Contents",
      "title_sidebar": "Contents",
      "toc_cell": false,
      "toc_position": {},
      "toc_section_display": true,
      "toc_window_display": false
    }
  },
  "cells": [
    {
      "cell_type": "markdown",
      "metadata": {
        "id": "view-in-github",
        "colab_type": "text"
      },
      "source": [
        "<a href=\"https://colab.research.google.com/github/sagarikaraje/Machine-Learning/blob/master/Lab%20Experiments/Experiment%207.ipynb\" target=\"_parent\"><img src=\"https://colab.research.google.com/assets/colab-badge.svg\" alt=\"Open In Colab\"/></a>"
      ]
    },
    {
      "cell_type": "code",
      "metadata": {
        "colab_type": "code",
        "id": "qRvOZy6cUcmR",
        "colab": {}
      },
      "source": [
        "import pandas as pd\n",
        "import numpy as np\n",
        "from sklearn.datasets import fetch_covtype, fetch_kddcup99, fetch_lfw_pairs, fetch_lfw_people, fetch_olivetti_faces\n",
        "from sklearn.datasets import fetch_rcv1, load_breast_cancer, load_digits, load_wine"
      ],
      "execution_count": null,
      "outputs": []
    },
    {
      "cell_type": "code",
      "metadata": {
        "colab_type": "code",
        "id": "Md0CGMe8XZAr",
        "colab": {}
      },
      "source": [
        "from sklearn.model_selection import train_test_split\n",
        "from sklearn.preprocessing import LabelEncoder, StandardScaler\n",
        "from scipy.sparse import csr_matrix\n",
        "import matplotlib.pyplot as plt"
      ],
      "execution_count": null,
      "outputs": []
    },
    {
      "cell_type": "code",
      "metadata": {
        "colab_type": "code",
        "id": "J2HN_WLXatPP",
        "colab": {}
      },
      "source": [
        "from keras import models\n",
        "from keras import layers\n",
        "from keras.utils import to_categorical"
      ],
      "execution_count": null,
      "outputs": []
    },
    {
      "cell_type": "markdown",
      "metadata": {
        "colab_type": "text",
        "id": "h_HIZABtU1RZ"
      },
      "source": [
        "# Forest Cover"
      ]
    },
    {
      "cell_type": "markdown",
      "metadata": {
        "colab_type": "text",
        "id": "NJ2X3GDlU3G3"
      },
      "source": [
        "## Loading Dataset and Preprocessing"
      ]
    },
    {
      "cell_type": "code",
      "metadata": {
        "colab_type": "code",
        "id": "ECsMj56KU7np",
        "colab": {}
      },
      "source": [
        "forest = fetch_covtype()\n",
        "x_fetch_covtype = forest.data\n",
        "y_fetch_covtype = forest.target"
      ],
      "execution_count": null,
      "outputs": []
    },
    {
      "cell_type": "code",
      "metadata": {
        "colab_type": "code",
        "id": "9ECDMsZNVr48",
        "colab": {
          "base_uri": "https://localhost:8080/",
          "height": 51
        },
        "outputId": "67aee030-1426-468b-d071-3c35fc5bcee7"
      },
      "source": [
        "x_forest = pd.DataFrame(x_fetch_covtype)\n",
        "y_forest = pd.DataFrame(y_fetch_covtype)\n",
        "print(x_forest.shape)\n",
        "print(y_forest.shape)"
      ],
      "execution_count": null,
      "outputs": [
        {
          "output_type": "stream",
          "text": [
            "(581012, 54)\n",
            "(581012, 1)\n"
          ],
          "name": "stdout"
        }
      ]
    },
    {
      "cell_type": "markdown",
      "metadata": {
        "colab_type": "text",
        "id": "FuJgNviHW0qh"
      },
      "source": [
        "## Making a Neural Network"
      ]
    },
    {
      "cell_type": "code",
      "metadata": {
        "colab_type": "code",
        "id": "CqiH7Im0XWQh",
        "colab": {
          "base_uri": "https://localhost:8080/",
          "height": 119
        },
        "outputId": "593d3069-f840-4b8f-96f6-e9bd2d2837fa"
      },
      "source": [
        "y_fore = y_forest.replace([1,2,3,4,5,6,7], [0,1,2,3,4,5,6])\n",
        "y_fore = to_categorical(y_fore)\n",
        "x_train, x_test, y_train, y_test = train_test_split(x_forest, y_fore, test_size = 0.2)\n",
        "x_dev, x_test, y_dev, y_test = train_test_split(x_test, y_test, test_size = 0.5)\n",
        "print(x_train.shape)\n",
        "print(x_dev.shape)\n",
        "print(x_test.shape)\n",
        "print(y_train.shape)\n",
        "print(y_dev.shape)\n",
        "print(y_test.shape)"
      ],
      "execution_count": null,
      "outputs": [
        {
          "output_type": "stream",
          "text": [
            "(464809, 54)\n",
            "(58101, 54)\n",
            "(58102, 54)\n",
            "(464809, 7)\n",
            "(58101, 7)\n",
            "(58102, 7)\n"
          ],
          "name": "stdout"
        }
      ]
    },
    {
      "cell_type": "code",
      "metadata": {
        "colab_type": "code",
        "id": "dGU_Us8XWxTY",
        "colab": {}
      },
      "source": [
        "nn_forest = models.Sequential()\n",
        "nn_forest.add(layers.Dense(512, activation = 'relu', input_shape = (54, )))\n",
        "nn_forest.add(layers.Dense(256, activation = 'relu'))\n",
        "nn_forest.add(layers.Dense(128, activation = 'relu'))\n",
        "nn_forest.add(layers.Dense(54, activation = 'relu'))\n",
        "nn_forest.add(layers.Dense(7, activation = 'softmax'))\n",
        "nn_forest.compile(optimizer = 'rmsprop', loss = 'categorical_crossentropy', metrics = ['accuracy'])"
      ],
      "execution_count": null,
      "outputs": []
    },
    {
      "cell_type": "code",
      "metadata": {
        "colab_type": "code",
        "id": "4970JdHuWxd8",
        "colab": {
          "base_uri": "https://localhost:8080/",
          "height": 1000
        },
        "outputId": "1c13d8c5-9303-4f31-acb9-36d4d747dbf3"
      },
      "source": [
        "forest_history = nn_forest.fit(x_train, y_train, epochs = 75, batch_size = 5000, validation_data = (x_dev, y_dev))\n",
        "for_dev_acc = nn_forest.evaluate(x_dev, y_dev)[1]\n",
        "print('The dev accuracy is',for_dev_acc)"
      ],
      "execution_count": null,
      "outputs": [
        {
          "output_type": "stream",
          "text": [
            "Epoch 1/75\n",
            "93/93 [==============================] - 1s 9ms/step - loss: 24.6702 - accuracy: 0.3931 - val_loss: 4.4100 - val_accuracy: 0.3758\n",
            "Epoch 2/75\n",
            "93/93 [==============================] - 1s 6ms/step - loss: 3.7444 - accuracy: 0.4162 - val_loss: 1.3251 - val_accuracy: 0.3720\n",
            "Epoch 3/75\n",
            "93/93 [==============================] - 1s 6ms/step - loss: 2.6065 - accuracy: 0.4186 - val_loss: 1.5195 - val_accuracy: 0.4537\n",
            "Epoch 4/75\n",
            "93/93 [==============================] - 1s 5ms/step - loss: 1.5951 - accuracy: 0.4328 - val_loss: 1.2005 - val_accuracy: 0.3716\n",
            "Epoch 5/75\n",
            "93/93 [==============================] - 1s 6ms/step - loss: 1.4345 - accuracy: 0.4453 - val_loss: 1.2613 - val_accuracy: 0.3687\n",
            "Epoch 6/75\n",
            "93/93 [==============================] - 1s 6ms/step - loss: 1.3166 - accuracy: 0.4469 - val_loss: 1.1155 - val_accuracy: 0.3861\n",
            "Epoch 7/75\n",
            "93/93 [==============================] - 1s 6ms/step - loss: 1.2900 - accuracy: 0.4606 - val_loss: 1.1586 - val_accuracy: 0.3917\n",
            "Epoch 8/75\n",
            "93/93 [==============================] - 1s 6ms/step - loss: 1.2195 - accuracy: 0.4732 - val_loss: 1.0196 - val_accuracy: 0.5027\n",
            "Epoch 9/75\n",
            "93/93 [==============================] - 1s 6ms/step - loss: 1.1835 - accuracy: 0.4802 - val_loss: 1.1909 - val_accuracy: 0.4449\n",
            "Epoch 10/75\n",
            "93/93 [==============================] - 1s 6ms/step - loss: 1.1248 - accuracy: 0.5005 - val_loss: 1.0105 - val_accuracy: 0.5149\n",
            "Epoch 11/75\n",
            "93/93 [==============================] - 1s 5ms/step - loss: 1.0651 - accuracy: 0.5217 - val_loss: 0.9620 - val_accuracy: 0.5473\n",
            "Epoch 12/75\n",
            "93/93 [==============================] - 1s 5ms/step - loss: 1.0189 - accuracy: 0.5342 - val_loss: 0.9793 - val_accuracy: 0.5490\n",
            "Epoch 13/75\n",
            "93/93 [==============================] - 1s 6ms/step - loss: 0.9687 - accuracy: 0.5580 - val_loss: 0.8555 - val_accuracy: 0.6273\n",
            "Epoch 14/75\n",
            "93/93 [==============================] - 1s 5ms/step - loss: 0.9406 - accuracy: 0.5736 - val_loss: 1.2614 - val_accuracy: 0.4343\n",
            "Epoch 15/75\n",
            "93/93 [==============================] - 1s 5ms/step - loss: 0.8995 - accuracy: 0.5890 - val_loss: 0.9089 - val_accuracy: 0.5613\n",
            "Epoch 16/75\n",
            "93/93 [==============================] - 1s 5ms/step - loss: 0.8696 - accuracy: 0.6114 - val_loss: 0.7483 - val_accuracy: 0.6772\n",
            "Epoch 17/75\n",
            "93/93 [==============================] - 1s 6ms/step - loss: 0.8371 - accuracy: 0.6318 - val_loss: 0.6886 - val_accuracy: 0.7019\n",
            "Epoch 18/75\n",
            "93/93 [==============================] - 1s 6ms/step - loss: 0.7965 - accuracy: 0.6415 - val_loss: 0.7014 - val_accuracy: 0.7056\n",
            "Epoch 19/75\n",
            "93/93 [==============================] - 1s 5ms/step - loss: 0.7590 - accuracy: 0.6581 - val_loss: 0.8290 - val_accuracy: 0.6057\n",
            "Epoch 20/75\n",
            "93/93 [==============================] - 1s 5ms/step - loss: 0.7450 - accuracy: 0.6698 - val_loss: 0.6878 - val_accuracy: 0.7019\n",
            "Epoch 21/75\n",
            "93/93 [==============================] - 1s 5ms/step - loss: 0.7106 - accuracy: 0.6784 - val_loss: 0.6610 - val_accuracy: 0.7130\n",
            "Epoch 22/75\n",
            "93/93 [==============================] - 1s 6ms/step - loss: 0.6912 - accuracy: 0.6943 - val_loss: 0.5780 - val_accuracy: 0.7447\n",
            "Epoch 23/75\n",
            "93/93 [==============================] - 1s 5ms/step - loss: 0.6680 - accuracy: 0.6983 - val_loss: 0.7079 - val_accuracy: 0.6846\n",
            "Epoch 24/75\n",
            "93/93 [==============================] - 1s 5ms/step - loss: 0.6498 - accuracy: 0.7100 - val_loss: 0.5447 - val_accuracy: 0.7621\n",
            "Epoch 25/75\n",
            "93/93 [==============================] - 1s 5ms/step - loss: 0.6271 - accuracy: 0.7193 - val_loss: 0.5917 - val_accuracy: 0.7294\n",
            "Epoch 26/75\n",
            "93/93 [==============================] - 1s 6ms/step - loss: 0.6062 - accuracy: 0.7254 - val_loss: 0.8940 - val_accuracy: 0.5924\n",
            "Epoch 27/75\n",
            "93/93 [==============================] - 1s 5ms/step - loss: 0.5954 - accuracy: 0.7359 - val_loss: 0.4744 - val_accuracy: 0.8002\n",
            "Epoch 28/75\n",
            "93/93 [==============================] - 1s 6ms/step - loss: 0.5824 - accuracy: 0.7430 - val_loss: 0.4551 - val_accuracy: 0.8078\n",
            "Epoch 29/75\n",
            "93/93 [==============================] - 1s 6ms/step - loss: 0.5681 - accuracy: 0.7482 - val_loss: 0.4434 - val_accuracy: 0.8147\n",
            "Epoch 30/75\n",
            "93/93 [==============================] - 1s 6ms/step - loss: 0.5584 - accuracy: 0.7527 - val_loss: 0.5587 - val_accuracy: 0.7575\n",
            "Epoch 31/75\n",
            "93/93 [==============================] - 1s 5ms/step - loss: 0.5403 - accuracy: 0.7624 - val_loss: 0.4438 - val_accuracy: 0.8095\n",
            "Epoch 32/75\n",
            "93/93 [==============================] - 1s 5ms/step - loss: 0.5267 - accuracy: 0.7645 - val_loss: 0.6620 - val_accuracy: 0.6839\n",
            "Epoch 33/75\n",
            "93/93 [==============================] - 1s 5ms/step - loss: 0.5187 - accuracy: 0.7682 - val_loss: 0.4304 - val_accuracy: 0.8166\n",
            "Epoch 34/75\n",
            "93/93 [==============================] - 0s 5ms/step - loss: 0.5040 - accuracy: 0.7743 - val_loss: 0.5281 - val_accuracy: 0.7745\n",
            "Epoch 35/75\n",
            "93/93 [==============================] - 1s 5ms/step - loss: 0.4942 - accuracy: 0.7808 - val_loss: 0.4276 - val_accuracy: 0.8196\n",
            "Epoch 36/75\n",
            "93/93 [==============================] - 1s 5ms/step - loss: 0.4824 - accuracy: 0.7864 - val_loss: 0.5124 - val_accuracy: 0.7686\n",
            "Epoch 37/75\n",
            "93/93 [==============================] - 1s 6ms/step - loss: 0.4772 - accuracy: 0.7885 - val_loss: 0.6378 - val_accuracy: 0.7241\n",
            "Epoch 38/75\n",
            "93/93 [==============================] - 1s 6ms/step - loss: 0.4682 - accuracy: 0.7933 - val_loss: 0.4424 - val_accuracy: 0.8063\n",
            "Epoch 39/75\n",
            "93/93 [==============================] - 1s 6ms/step - loss: 0.4603 - accuracy: 0.7967 - val_loss: 0.4373 - val_accuracy: 0.8016\n",
            "Epoch 40/75\n",
            "93/93 [==============================] - 1s 5ms/step - loss: 0.4474 - accuracy: 0.8020 - val_loss: 0.4505 - val_accuracy: 0.8086\n",
            "Epoch 41/75\n",
            "93/93 [==============================] - 1s 6ms/step - loss: 0.4471 - accuracy: 0.8026 - val_loss: 0.3852 - val_accuracy: 0.8371\n",
            "Epoch 42/75\n",
            "93/93 [==============================] - 1s 5ms/step - loss: 0.4387 - accuracy: 0.8076 - val_loss: 0.5271 - val_accuracy: 0.7609\n",
            "Epoch 43/75\n",
            "93/93 [==============================] - 1s 5ms/step - loss: 0.4276 - accuracy: 0.8125 - val_loss: 0.4161 - val_accuracy: 0.8080\n",
            "Epoch 44/75\n",
            "93/93 [==============================] - 1s 5ms/step - loss: 0.4249 - accuracy: 0.8130 - val_loss: 0.4291 - val_accuracy: 0.8185\n",
            "Epoch 45/75\n",
            "93/93 [==============================] - 1s 6ms/step - loss: 0.4189 - accuracy: 0.8158 - val_loss: 0.3726 - val_accuracy: 0.8379\n",
            "Epoch 46/75\n",
            "93/93 [==============================] - 1s 6ms/step - loss: 0.4089 - accuracy: 0.8214 - val_loss: 0.5871 - val_accuracy: 0.7432\n",
            "Epoch 47/75\n",
            "93/93 [==============================] - 1s 6ms/step - loss: 0.4128 - accuracy: 0.8209 - val_loss: 0.4056 - val_accuracy: 0.8210\n",
            "Epoch 48/75\n",
            "93/93 [==============================] - 1s 6ms/step - loss: 0.3995 - accuracy: 0.8271 - val_loss: 0.4836 - val_accuracy: 0.7796\n",
            "Epoch 49/75\n",
            "93/93 [==============================] - 1s 5ms/step - loss: 0.3955 - accuracy: 0.8281 - val_loss: 0.3319 - val_accuracy: 0.8617\n",
            "Epoch 50/75\n",
            "93/93 [==============================] - 1s 6ms/step - loss: 0.3937 - accuracy: 0.8287 - val_loss: 0.3750 - val_accuracy: 0.8317\n",
            "Epoch 51/75\n",
            "93/93 [==============================] - 1s 5ms/step - loss: 0.3878 - accuracy: 0.8317 - val_loss: 0.4025 - val_accuracy: 0.8237\n",
            "Epoch 52/75\n",
            "93/93 [==============================] - 1s 6ms/step - loss: 0.3817 - accuracy: 0.8344 - val_loss: 0.4630 - val_accuracy: 0.7874\n",
            "Epoch 53/75\n",
            "93/93 [==============================] - 1s 6ms/step - loss: 0.3761 - accuracy: 0.8370 - val_loss: 0.3342 - val_accuracy: 0.8587\n",
            "Epoch 54/75\n",
            "93/93 [==============================] - 1s 6ms/step - loss: 0.3784 - accuracy: 0.8370 - val_loss: 0.3136 - val_accuracy: 0.8683\n",
            "Epoch 55/75\n",
            "93/93 [==============================] - 0s 5ms/step - loss: 0.3681 - accuracy: 0.8415 - val_loss: 0.4128 - val_accuracy: 0.8183\n",
            "Epoch 56/75\n",
            "93/93 [==============================] - 1s 5ms/step - loss: 0.3703 - accuracy: 0.8425 - val_loss: 0.3601 - val_accuracy: 0.8442\n",
            "Epoch 57/75\n",
            "93/93 [==============================] - 0s 5ms/step - loss: 0.3574 - accuracy: 0.8455 - val_loss: 0.3777 - val_accuracy: 0.8434\n",
            "Epoch 58/75\n",
            "93/93 [==============================] - 1s 6ms/step - loss: 0.3581 - accuracy: 0.8451 - val_loss: 0.3292 - val_accuracy: 0.8612\n",
            "Epoch 59/75\n",
            "93/93 [==============================] - 1s 6ms/step - loss: 0.3571 - accuracy: 0.8472 - val_loss: 0.2906 - val_accuracy: 0.8805\n",
            "Epoch 60/75\n",
            "93/93 [==============================] - 1s 6ms/step - loss: 0.3563 - accuracy: 0.8485 - val_loss: 0.3335 - val_accuracy: 0.8597\n",
            "Epoch 61/75\n",
            "93/93 [==============================] - 1s 6ms/step - loss: 0.3493 - accuracy: 0.8511 - val_loss: 0.3393 - val_accuracy: 0.8559\n",
            "Epoch 62/75\n",
            "93/93 [==============================] - 1s 6ms/step - loss: 0.3425 - accuracy: 0.8532 - val_loss: 0.2824 - val_accuracy: 0.8835\n",
            "Epoch 63/75\n",
            "93/93 [==============================] - 1s 5ms/step - loss: 0.3418 - accuracy: 0.8539 - val_loss: 0.3078 - val_accuracy: 0.8705\n",
            "Epoch 64/75\n",
            "93/93 [==============================] - 1s 6ms/step - loss: 0.3358 - accuracy: 0.8572 - val_loss: 0.3656 - val_accuracy: 0.8423\n",
            "Epoch 65/75\n",
            "93/93 [==============================] - 0s 5ms/step - loss: 0.3371 - accuracy: 0.8560 - val_loss: 0.3218 - val_accuracy: 0.8646\n",
            "Epoch 66/75\n",
            "93/93 [==============================] - 1s 6ms/step - loss: 0.3256 - accuracy: 0.8604 - val_loss: 0.3421 - val_accuracy: 0.8524\n",
            "Epoch 67/75\n",
            "93/93 [==============================] - 1s 6ms/step - loss: 0.3331 - accuracy: 0.8576 - val_loss: 0.3780 - val_accuracy: 0.8390\n",
            "Epoch 68/75\n",
            "93/93 [==============================] - 1s 6ms/step - loss: 0.3223 - accuracy: 0.8626 - val_loss: 0.3592 - val_accuracy: 0.8410\n",
            "Epoch 69/75\n",
            "93/93 [==============================] - 1s 6ms/step - loss: 0.3221 - accuracy: 0.8628 - val_loss: 0.3738 - val_accuracy: 0.8418\n",
            "Epoch 70/75\n",
            "93/93 [==============================] - 1s 6ms/step - loss: 0.3141 - accuracy: 0.8660 - val_loss: 0.3640 - val_accuracy: 0.8502\n",
            "Epoch 71/75\n",
            "93/93 [==============================] - 1s 6ms/step - loss: 0.3210 - accuracy: 0.8646 - val_loss: 0.2804 - val_accuracy: 0.8830\n",
            "Epoch 72/75\n",
            "93/93 [==============================] - 1s 5ms/step - loss: 0.3161 - accuracy: 0.8661 - val_loss: 0.2850 - val_accuracy: 0.8788\n",
            "Epoch 73/75\n",
            "93/93 [==============================] - 1s 6ms/step - loss: 0.3104 - accuracy: 0.8674 - val_loss: 0.3417 - val_accuracy: 0.8551\n",
            "Epoch 74/75\n",
            "93/93 [==============================] - 0s 5ms/step - loss: 0.3063 - accuracy: 0.8695 - val_loss: 0.2931 - val_accuracy: 0.8794\n",
            "Epoch 75/75\n",
            "93/93 [==============================] - 1s 6ms/step - loss: 0.3031 - accuracy: 0.8724 - val_loss: 0.3050 - val_accuracy: 0.8742\n",
            "1816/1816 [==============================] - 4s 2ms/step - loss: 0.3050 - accuracy: 0.8742\n",
            "The dev accuracy is 0.8742362260818481\n"
          ],
          "name": "stdout"
        }
      ]
    },
    {
      "cell_type": "markdown",
      "metadata": {
        "colab_type": "text",
        "id": "A5QQYHaOdTRN"
      },
      "source": [
        "## Plotting Accuracy & Validation Accuracy with Epoch\n"
      ]
    },
    {
      "cell_type": "markdown",
      "metadata": {
        "id": "qkdszO4HmwEO",
        "colab_type": "text"
      },
      "source": [
        "## Plotting Loss & Validation Loss with Epoch"
      ]
    },
    {
      "cell_type": "code",
      "metadata": {
        "colab_type": "code",
        "id": "5UG4My83bsDW",
        "colab": {
          "base_uri": "https://localhost:8080/",
          "height": 899
        },
        "outputId": "1660fc3a-dfda-48df-9df7-0c2615b919f4"
      },
      "source": [
        "plt.figure(figsize = (10,7))\n",
        "plt.plot(forest_history.history['accuracy'], color = 'blue')\n",
        "plt.plot(forest_history.history['val_accuracy'], color = 'red')\n",
        "plt.title('Model accuracy')\n",
        "plt.ylabel('Accuracy')\n",
        "plt.xlabel('Epoch')\n",
        "plt.legend(['Train', 'Validation'], loc='upper left')\n",
        "plt.show()\n",
        "\n",
        "plt.figure(figsize = (10,7))\n",
        "plt.plot(forest_history.history['loss'], color = 'blue')\n",
        "plt.plot(forest_history.history['val_loss'], color = 'red')\n",
        "plt.ylim((0,1))\n",
        "plt.title('Model loss')\n",
        "plt.ylabel('Loss')\n",
        "plt.xlabel('Epoch')\n",
        "plt.legend(['Train', 'Validation'], loc='upper left')\n",
        "plt.show()"
      ],
      "execution_count": null,
      "outputs": [
        {
          "output_type": "display_data",
          "data": {
            "image/png": "[encoded data removed]",
            "text/plain": [
              "<Figure size 720x504 with 1 Axes>"
            ]
          },
          "metadata": {
            "tags": [],
            "needs_background": "light"
          }
        },
        {
          "output_type": "display_data",
          "data": {
            "image/png": "[encoded data removed]",
            "text/plain": [
              "<Figure size 720x504 with 1 Axes>"
            ]
          },
          "metadata": {
            "tags": [],
            "needs_background": "light"
          }
        }
      ]
    },
    {
      "cell_type": "code",
      "metadata": {
        "colab_type": "code",
        "id": "5ontOzYRb3uy",
        "colab": {
          "base_uri": "https://localhost:8080/",
          "height": 51
        },
        "outputId": "7570762d-b8a3-4665-ed11-d5564c84f2d6"
      },
      "source": [
        "for_test_acc = nn_forest.evaluate(x_test, y_test)[1]\n",
        "print('The test accuracy is',for_test_acc)"
      ],
      "execution_count": null,
      "outputs": [
        {
          "output_type": "stream",
          "text": [
            "1816/1816 [==============================] - 3s 2ms/step - loss: 0.3029 - accuracy: 0.8763\n",
            "The test accuracy is 0.8762521147727966\n"
          ],
          "name": "stdout"
        }
      ]
    },
    {
      "cell_type": "markdown",
      "metadata": {
        "colab_type": "text",
        "id": "k488g80SepgH"
      },
      "source": [
        "#Fetch CupKdd99"
      ]
    },
    {
      "cell_type": "markdown",
      "metadata": {
        "colab_type": "text",
        "id": "-YnkajjTeqI7"
      },
      "source": [
        "## Loading and Preprocessing the Data"
      ]
    },
    {
      "cell_type": "code",
      "metadata": {
        "colab_type": "code",
        "id": "oupaHuRqe3dP",
        "colab": {}
      },
      "source": [
        "kddcup99 = fetch_kddcup99()\n",
        "x_fetch_kddcup99 = kddcup99.data\n",
        "y_fetch_kddcup99 = kddcup99.target"
      ],
      "execution_count": null,
      "outputs": []
    },
    {
      "cell_type": "code",
      "metadata": {
        "colab_type": "code",
        "id": "mmtJpHXWfNIP",
        "colab": {
          "base_uri": "https://localhost:8080/",
          "height": 51
        },
        "outputId": "1defcd08-4829-405f-8162-952ab13d7666"
      },
      "source": [
        "x_kdd = pd.DataFrame(x_fetch_kddcup99)\n",
        "y_kdd = pd.DataFrame(y_fetch_kddcup99)\n",
        "print(x_kdd.shape)\n",
        "print(y_kdd.shape)"
      ],
      "execution_count": null,
      "outputs": [
        {
          "output_type": "stream",
          "text": [
            "(494021, 41)\n",
            "(494021, 1)\n"
          ],
          "name": "stdout"
        }
      ]
    },
    {
      "cell_type": "code",
      "metadata": {
        "colab_type": "code",
        "id": "kuhwPWgYowGx",
        "colab": {}
      },
      "source": [
        "le = LabelEncoder()\n",
        "for i in [1,2,3]:\n",
        "  x_kdd[i] = [j.decode('utf-8') for j in x_kdd[i]]\n",
        "  x_kdd[i] = le.fit_transform(x_kdd[i])\n",
        "\n",
        "for i in range(x_kdd.shape[1]):\n",
        "  x_kdd[i] = x_kdd[i].astype('float')"
      ],
      "execution_count": null,
      "outputs": []
    },
    {
      "cell_type": "code",
      "metadata": {
        "colab_type": "code",
        "id": "0qzkpaGGkFvl",
        "colab": {}
      },
      "source": [
        "y_kdd99 = [i.decode('utf-8') for i in y_fetch_kddcup99]\n",
        "y_kdd99 = pd.DataFrame(le.fit_transform(y_kdd99))"
      ],
      "execution_count": null,
      "outputs": []
    },
    {
      "cell_type": "markdown",
      "metadata": {
        "colab_type": "text",
        "id": "HQrMdP9PqE-l"
      },
      "source": [
        "## Making A Neural Network"
      ]
    },
    {
      "cell_type": "code",
      "metadata": {
        "colab_type": "code",
        "id": "23iz8QNifiwF",
        "colab": {
          "base_uri": "https://localhost:8080/",
          "height": 119
        },
        "outputId": "90afabc5-e766-4f56-ba44-66ee873b2d04"
      },
      "source": [
        "y_kdd99 = to_categorical(y_kdd99)\n",
        "x_train, x_test, y_train, y_test = train_test_split(x_kdd, y_kdd99, test_size = 0.2)\n",
        "x_dev, x_test, y_dev, y_test = train_test_split(x_test, y_test, test_size = 0.5)\n",
        "print(x_train.shape)\n",
        "print(x_dev.shape)\n",
        "print(x_test.shape)\n",
        "print(y_train.shape)\n",
        "print(y_dev.shape)\n",
        "print(y_test.shape)"
      ],
      "execution_count": null,
      "outputs": [
        {
          "output_type": "stream",
          "text": [
            "(395216, 41)\n",
            "(49402, 41)\n",
            "(49403, 41)\n",
            "(395216, 23)\n",
            "(49402, 23)\n",
            "(49403, 23)\n"
          ],
          "name": "stdout"
        }
      ]
    },
    {
      "cell_type": "code",
      "metadata": {
        "colab_type": "code",
        "id": "Iry-cstVnTaw",
        "colab": {}
      },
      "source": [
        "nn_kdd99 = models.Sequential()\n",
        "nn_kdd99.add(layers.Dense(256, activation = 'relu', input_shape = (41, )))\n",
        "nn_kdd99.add(layers.Dense(128, activation = 'relu'))\n",
        "nn_kdd99.add(layers.Dense(64, activation = 'relu'))\n",
        "nn_kdd99.add(layers.Dense(32, activation = 'relu'))\n",
        "nn_kdd99.add(layers.Dense(23, activation = 'softmax'))\n",
        "nn_kdd99.compile(optimizer = 'rmsprop', loss = 'categorical_crossentropy', metrics = ['accuracy'])"
      ],
      "execution_count": null,
      "outputs": []
    },
    {
      "cell_type": "code",
      "metadata": {
        "colab_type": "code",
        "id": "us-4qHGuniZo",
        "colab": {
          "base_uri": "https://localhost:8080/",
          "height": 391
        },
        "outputId": "9515e2d9-ca7d-4c94-9523-599430e95894"
      },
      "source": [
        "kdd99_history = nn_kdd99.fit(x_train, y_train, epochs = 10, batch_size = 1000, validation_data = (x_dev, y_dev))\n",
        "kdd99_dev_acc = nn_kdd99.evaluate(x_dev, y_dev)[1]\n",
        "print('The dev accuracy is', kdd99_dev_acc)"
      ],
      "execution_count": null,
      "outputs": [
        {
          "output_type": "stream",
          "text": [
            "Epoch 1/10\n",
            "396/396 [==============================] - 2s 4ms/step - loss: 7.4826 - accuracy: 0.9561 - val_loss: 7.8568 - val_accuracy: 0.9886\n",
            "Epoch 2/10\n",
            "396/396 [==============================] - 1s 4ms/step - loss: 0.8381 - accuracy: 0.9845 - val_loss: 0.1588 - val_accuracy: 0.9893\n",
            "Epoch 3/10\n",
            "396/396 [==============================] - 1s 4ms/step - loss: 0.4325 - accuracy: 0.9892 - val_loss: 0.1350 - val_accuracy: 0.9879\n",
            "Epoch 4/10\n",
            "396/396 [==============================] - 1s 4ms/step - loss: 0.2711 - accuracy: 0.9908 - val_loss: 0.0750 - val_accuracy: 0.9902\n",
            "Epoch 5/10\n",
            "396/396 [==============================] - 1s 4ms/step - loss: 0.2632 - accuracy: 0.9912 - val_loss: 0.0830 - val_accuracy: 0.9858\n",
            "Epoch 6/10\n",
            "396/396 [==============================] - 1s 4ms/step - loss: 0.1518 - accuracy: 0.9913 - val_loss: 0.0519 - val_accuracy: 0.9915\n",
            "Epoch 7/10\n",
            "396/396 [==============================] - 1s 3ms/step - loss: 0.1825 - accuracy: 0.9909 - val_loss: 0.0599 - val_accuracy: 0.9858\n",
            "Epoch 8/10\n",
            "396/396 [==============================] - 1s 3ms/step - loss: 0.1467 - accuracy: 0.9897 - val_loss: 0.0517 - val_accuracy: 0.9897\n",
            "Epoch 9/10\n",
            "396/396 [==============================] - 1s 4ms/step - loss: 0.5149 - accuracy: 0.9896 - val_loss: 0.0357 - val_accuracy: 0.9912\n",
            "Epoch 10/10\n",
            "396/396 [==============================] - 2s 4ms/step - loss: 0.1510 - accuracy: 0.9913 - val_loss: 0.0359 - val_accuracy: 0.9917\n",
            "1544/1544 [==============================] - 3s 2ms/step - loss: 0.0359 - accuracy: 0.9917\n",
            "The dev accuracy is 0.9916602373123169\n"
          ],
          "name": "stdout"
        }
      ]
    },
    {
      "cell_type": "markdown",
      "metadata": {
        "colab_type": "text",
        "id": "LDpXqUZwnz9C"
      },
      "source": [
        "## Plotting Accuracy & Validation Accuracy with Epoch\n"
      ]
    },
    {
      "cell_type": "markdown",
      "metadata": {
        "id": "HVsiw91nnIq8",
        "colab_type": "text"
      },
      "source": [
        "## Plotting Loss & Validation Loss with Epoch"
      ]
    },
    {
      "cell_type": "code",
      "metadata": {
        "colab_type": "code",
        "id": "gXz63xx1n1MH",
        "colab": {
          "base_uri": "https://localhost:8080/",
          "height": 899
        },
        "outputId": "c10e52de-8d85-4a86-fb07-f84f81a24a0e"
      },
      "source": [
        "plt.figure(figsize = (10,7))\n",
        "plt.plot(kdd99_history.history['accuracy'], color = 'blue')\n",
        "plt.plot(kdd99_history.history['val_accuracy'], color = 'red')\n",
        "plt.title('Model accuracy')\n",
        "plt.ylabel('Accuracy')\n",
        "plt.xlabel('Epoch')\n",
        "plt.legend(['Train', 'Validation'], loc='upper left')\n",
        "plt.show()\n",
        "\n",
        "plt.figure(figsize = (10,7))\n",
        "plt.plot(kdd99_history.history['loss'], color = 'blue')\n",
        "plt.plot(kdd99_history.history['val_loss'], color = 'red')\n",
        "plt.ylim((0,3))\n",
        "plt.title('Model loss')\n",
        "plt.ylabel('Loss')\n",
        "plt.xlabel('Epoch')\n",
        "plt.legend(['Train', 'Validation'], loc='upper left')\n",
        "plt.show()"
      ],
      "execution_count": null,
      "outputs": [
        {
          "output_type": "display_data",
          "data": {
            "image/png": "[encoded data removed]",
            "text/plain": [
              "<Figure size 720x504 with 1 Axes>"
            ]
          },
          "metadata": {
            "tags": [],
            "needs_background": "light"
          }
        },
        {
          "output_type": "display_data",
          "data": {
            "image/png": "[encoded data removed]",
            "text/plain": [
              "<Figure size 720x504 with 1 Axes>"
            ]
          },
          "metadata": {
            "tags": [],
            "needs_background": "light"
          }
        }
      ]
    },
    {
      "cell_type": "code",
      "metadata": {
        "colab_type": "code",
        "id": "CeF-VWhYn63U",
        "colab": {
          "base_uri": "https://localhost:8080/",
          "height": 51
        },
        "outputId": "64726ab4-6d1d-4335-f5d7-c6bc121bd228"
      },
      "source": [
        "kdd99_test_acc = nn_kdd99.evaluate(x_test, y_test)[1]\n",
        "print('The test accuracy is', kdd99_test_acc)"
      ],
      "execution_count": null,
      "outputs": [
        {
          "output_type": "stream",
          "text": [
            "1544/1544 [==============================] - 3s 2ms/step - loss: 0.0376 - accuracy: 0.9909\n",
            "The test accuracy is 0.9908912181854248\n"
          ],
          "name": "stdout"
        }
      ]
    },
    {
      "cell_type": "markdown",
      "metadata": {
        "colab_type": "text",
        "id": "Eai1MmVqUkNE"
      },
      "source": [
        "# Fetch Lfw Pairs"
      ]
    },
    {
      "cell_type": "markdown",
      "metadata": {
        "colab_type": "text",
        "id": "r-jrZj5_Umeq"
      },
      "source": [
        "## Loading the data and preprocessing"
      ]
    },
    {
      "cell_type": "code",
      "metadata": {
        "colab_type": "code",
        "id": "KdogW_7cUnrA",
        "colab": {}
      },
      "source": [
        "lfw = fetch_lfw_pairs()\n",
        "x_fetch_lfw_pairs = lfw.data\n",
        "y_fetch_lfw_pairs = lfw.target"
      ],
      "execution_count": null,
      "outputs": []
    },
    {
      "cell_type": "code",
      "metadata": {
        "colab_type": "code",
        "id": "lCaP-u8JUrXF",
        "colab": {
          "base_uri": "https://localhost:8080/",
          "height": 51
        },
        "outputId": "809b3da8-8224-420b-cf2d-5b0efad48091"
      },
      "source": [
        "x_lfw_pairs = pd.DataFrame(x_fetch_lfw_pairs)\n",
        "y_lfw_pairs = pd.DataFrame(y_fetch_lfw_pairs)\n",
        "print(x_lfw_pairs.shape)\n",
        "print(y_lfw_pairs.shape)"
      ],
      "execution_count": null,
      "outputs": [
        {
          "output_type": "stream",
          "text": [
            "(2200, 5828)\n",
            "(2200, 1)\n"
          ],
          "name": "stdout"
        }
      ]
    },
    {
      "cell_type": "markdown",
      "metadata": {
        "id": "g3upoOtq63W8",
        "colab_type": "text"
      },
      "source": [
        "## Making A Neural Network"
      ]
    },
    {
      "cell_type": "code",
      "metadata": {
        "id": "9jEu3c2D63W8",
        "colab_type": "code",
        "colab": {
          "base_uri": "https://localhost:8080/",
          "height": 119
        },
        "outputId": "69f19c20-b430-45ce-a300-2f4c443a4375"
      },
      "source": [
        "# y_fore = y_forest.replace([1,2,3,4,5,6,7], [0,1,2,3,4,5,6])\n",
        "# y_fore = to_categorical(y_fore)\n",
        "x_train, x_test, y_train, y_test = train_test_split(x_lfw_pairs, y_lfw_pairs, test_size = 0.2)\n",
        "x_dev, x_test, y_dev, y_test = train_test_split(x_test, y_test, test_size = 0.5)\n",
        "print(x_train.shape)\n",
        "print(x_dev.shape)\n",
        "print(x_test.shape)\n",
        "print(y_train.shape)\n",
        "print(y_dev.shape)\n",
        "print(y_test.shape)"
      ],
      "execution_count": null,
      "outputs": [
        {
          "output_type": "stream",
          "text": [
            "(1760, 5828)\n",
            "(220, 5828)\n",
            "(220, 5828)\n",
            "(1760, 1)\n",
            "(220, 1)\n",
            "(220, 1)\n"
          ],
          "name": "stdout"
        }
      ]
    },
    {
      "cell_type": "code",
      "metadata": {
        "id": "POPRbwmF63W-",
        "colab_type": "code",
        "colab": {}
      },
      "source": [
        "nn_lfw_pairs = models.Sequential()\n",
        "\n",
        "nn_lfw_pairs.add(layers.Dense(11652, activation = 'relu', input_shape = (5828, )))\n",
        "nn_lfw_pairs.add(layers.Dense(5828, activation = 'relu'))\n",
        "nn_lfw_pairs.add(layers.Dense(2914, activation = 'relu'))\n",
        "nn_lfw_pairs.add(layers.Dense(1457, activation = 'relu'))\n",
        "nn_lfw_pairs.add(layers.Dense(128))\n",
        "nn_lfw_pairs.add(layers.LeakyReLU(alpha = 0.01))\n",
        "nn_lfw_pairs.add(layers.Dense(64, activation = 'relu'))\n",
        "nn_lfw_pairs.add(layers.Dense(1, activation = 'sigmoid'))\n",
        "\n",
        "nn_lfw_pairs.compile(optimizer = 'rmsprop', loss = 'binary_crossentropy', metrics = ['accuracy'])"
      ],
      "execution_count": null,
      "outputs": []
    },
    {
      "cell_type": "code",
      "metadata": {
        "id": "I0DNR6eT63XB",
        "colab_type": "code",
        "colab": {
          "base_uri": "https://localhost:8080/",
          "height": 938
        },
        "outputId": "a84f324c-59b4-45ae-8ad7-8edd7ba9e39c"
      },
      "source": [
        "lfw_pairs_history = nn_lfw_pairs.fit(x_train, y_train, epochs = 25, batch_size = 150,\n",
        "                                     validation_data = (x_dev, y_dev))\n",
        "lfw_pairs_dev_acc = nn_lfw_pairs.evaluate(x_dev, y_dev)[1]\n",
        "print('The dev accuracy is', lfw_pairs_dev_acc)"
      ],
      "execution_count": null,
      "outputs": [
        {
          "output_type": "stream",
          "text": [
            "Epoch 1/25\n",
            " 2/12 [====>.........................] - ETA: 0s - loss: 703940.8750 - accuracy: 0.5167WARNING:tensorflow:Callbacks method `on_train_batch_end` is slow compared to the batch time (batch time: 0.0285s vs `on_train_batch_end` time: 0.0747s). Check your callbacks.\n",
            "12/12 [==============================] - 1s 111ms/step - loss: 121428.8281 - accuracy: 0.4858 - val_loss: 54.1551 - val_accuracy: 0.4364\n",
            "Epoch 2/25\n",
            "12/12 [==============================] - 1s 96ms/step - loss: 172.4114 - accuracy: 0.5131 - val_loss: 17.5275 - val_accuracy: 0.5636\n",
            "Epoch 3/25\n",
            "12/12 [==============================] - 1s 95ms/step - loss: 21.6089 - accuracy: 0.4858 - val_loss: 19.9214 - val_accuracy: 0.4364\n",
            "Epoch 4/25\n",
            "12/12 [==============================] - 1s 95ms/step - loss: 17.2755 - accuracy: 0.5057 - val_loss: 2.1016 - val_accuracy: 0.5636\n",
            "Epoch 5/25\n",
            "12/12 [==============================] - 1s 95ms/step - loss: 10.4724 - accuracy: 0.4824 - val_loss: 1.3963 - val_accuracy: 0.5636\n",
            "Epoch 6/25\n",
            "12/12 [==============================] - 1s 95ms/step - loss: 12.4266 - accuracy: 0.4966 - val_loss: 4.0951 - val_accuracy: 0.5636\n",
            "Epoch 7/25\n",
            "12/12 [==============================] - 1s 95ms/step - loss: 10.5609 - accuracy: 0.4989 - val_loss: 815.1724 - val_accuracy: 0.5636\n",
            "Epoch 8/25\n",
            "12/12 [==============================] - 1s 95ms/step - loss: 115.3086 - accuracy: 0.4818 - val_loss: 3.8138 - val_accuracy: 0.4364\n",
            "Epoch 9/25\n",
            "12/12 [==============================] - 1s 96ms/step - loss: 23.6891 - accuracy: 0.4994 - val_loss: 8.1444 - val_accuracy: 0.5636\n",
            "Epoch 10/25\n",
            "12/12 [==============================] - 1s 95ms/step - loss: 23.8644 - accuracy: 0.5017 - val_loss: 19.5077 - val_accuracy: 0.5636\n",
            "Epoch 11/25\n",
            "12/12 [==============================] - 1s 97ms/step - loss: 9.8697 - accuracy: 0.4949 - val_loss: 4.5645 - val_accuracy: 0.4364\n",
            "Epoch 12/25\n",
            "12/12 [==============================] - 1s 96ms/step - loss: 14.1930 - accuracy: 0.5222 - val_loss: 1.3723 - val_accuracy: 0.4364\n",
            "Epoch 13/25\n",
            "12/12 [==============================] - 1s 96ms/step - loss: 3.3872 - accuracy: 0.5063 - val_loss: 1.8993 - val_accuracy: 0.5636\n",
            "Epoch 14/25\n",
            "12/12 [==============================] - 1s 96ms/step - loss: 1.4115 - accuracy: 0.4966 - val_loss: 1.4159 - val_accuracy: 0.4364\n",
            "Epoch 15/25\n",
            "12/12 [==============================] - 1s 96ms/step - loss: 4.3691 - accuracy: 0.4869 - val_loss: 0.7084 - val_accuracy: 0.4455\n",
            "Epoch 16/25\n",
            "12/12 [==============================] - 1s 95ms/step - loss: 1.9345 - accuracy: 0.4898 - val_loss: 12.8448 - val_accuracy: 0.5636\n",
            "Epoch 17/25\n",
            "12/12 [==============================] - 1s 96ms/step - loss: 3.7387 - accuracy: 0.5244 - val_loss: 0.7241 - val_accuracy: 0.5636\n",
            "Epoch 18/25\n",
            "12/12 [==============================] - 1s 95ms/step - loss: 0.7276 - accuracy: 0.5011 - val_loss: 0.6874 - val_accuracy: 0.5636\n",
            "Epoch 19/25\n",
            "12/12 [==============================] - 1s 96ms/step - loss: 0.6964 - accuracy: 0.4892 - val_loss: 0.7227 - val_accuracy: 0.4364\n",
            "Epoch 20/25\n",
            "12/12 [==============================] - 1s 95ms/step - loss: 0.6953 - accuracy: 0.4989 - val_loss: 0.7028 - val_accuracy: 0.4364\n",
            "Epoch 21/25\n",
            "12/12 [==============================] - 1s 96ms/step - loss: 0.6974 - accuracy: 0.4983 - val_loss: 0.7425 - val_accuracy: 0.4364\n",
            "Epoch 22/25\n",
            "12/12 [==============================] - 1s 96ms/step - loss: 1.5418 - accuracy: 0.4915 - val_loss: 0.8872 - val_accuracy: 0.4364\n",
            "Epoch 23/25\n",
            "12/12 [==============================] - 1s 96ms/step - loss: 2.7024 - accuracy: 0.4909 - val_loss: 0.7222 - val_accuracy: 0.4364\n",
            "Epoch 24/25\n",
            "12/12 [==============================] - 1s 95ms/step - loss: 0.6959 - accuracy: 0.5153 - val_loss: 0.7359 - val_accuracy: 0.4364\n",
            "Epoch 25/25\n",
            "12/12 [==============================] - 1s 95ms/step - loss: 0.7177 - accuracy: 0.4972 - val_loss: 0.6965 - val_accuracy: 0.4364\n",
            "7/7 [==============================] - 0s 5ms/step - loss: 0.6965 - accuracy: 0.4364\n",
            "The dev accuracy is 0.4363636374473572\n"
          ],
          "name": "stdout"
        }
      ]
    },
    {
      "cell_type": "markdown",
      "metadata": {
        "id": "NMtJ1tgpTQOz",
        "colab_type": "text"
      },
      "source": [
        "## Plotting Accuracy & Validation Accuracy with Epoch\n"
      ]
    },
    {
      "cell_type": "markdown",
      "metadata": {
        "id": "q-igJeecnSg4",
        "colab_type": "text"
      },
      "source": [
        "## Plotting Loss & Validation Loss with Epoch"
      ]
    },
    {
      "cell_type": "code",
      "metadata": {
        "id": "QXdd0qsmTQy4",
        "colab_type": "code",
        "colab": {
          "base_uri": "https://localhost:8080/",
          "height": 899
        },
        "outputId": "d8b52aee-86c8-4136-95cf-7c49dfe79445"
      },
      "source": [
        "plt.figure(figsize = (10,7))\n",
        "plt.plot(lfw_pairs_history.history['accuracy'], color = 'blue')\n",
        "plt.plot(lfw_pairs_history.history['val_accuracy'], color = 'red')\n",
        "plt.title('Model accuracy')\n",
        "plt.ylabel('Accuracy')\n",
        "plt.xlabel('Epoch')\n",
        "plt.legend(['Train', 'Validation'], loc='upper left')\n",
        "plt.show()\n",
        "\n",
        "plt.figure(figsize = (10,7))\n",
        "plt.plot(lfw_pairs_history.history['loss'], color = 'blue')\n",
        "plt.plot(lfw_pairs_history.history['val_loss'], color = 'red')\n",
        "# plt.ylim((0,3))\n",
        "plt.title('Model loss')\n",
        "plt.ylabel('Loss')\n",
        "plt.xlabel('Epoch')\n",
        "plt.legend(['Train', 'Validation'], loc='upper left')\n",
        "plt.show()"
      ],
      "execution_count": null,
      "outputs": [
        {
          "output_type": "display_data",
          "data": {
            "image/png": "[encoded data removed]",
            "text/plain": [
              "<Figure size 720x504 with 1 Axes>"
            ]
          },
          "metadata": {
            "tags": [],
            "needs_background": "light"
          }
        },
        {
          "output_type": "display_data",
          "data": {
            "image/png": "[encoded data removed]",
            "text/plain": [
              "<Figure size 720x504 with 1 Axes>"
            ]
          },
          "metadata": {
            "tags": [],
            "needs_background": "light"
          }
        }
      ]
    },
    {
      "cell_type": "code",
      "metadata": {
        "id": "NZGTaq_vTYvQ",
        "colab_type": "code",
        "colab": {
          "base_uri": "https://localhost:8080/",
          "height": 51
        },
        "outputId": "ac769dba-2d2a-4d6c-df2a-afe212e8f5b1"
      },
      "source": [
        "lfw_pairs_test_acc = nn_lfw_pairs.evaluate(x_test, y_test)[1]\n",
        "print('The test accuracy is', lfw_pairs_test_acc)"
      ],
      "execution_count": null,
      "outputs": [
        {
          "output_type": "stream",
          "text": [
            "7/7 [==============================] - 0s 7ms/step - loss: 0.6929 - accuracy: 0.4955\n",
            "The test accuracy is 0.4954545497894287\n"
          ],
          "name": "stdout"
        }
      ]
    },
    {
      "cell_type": "markdown",
      "metadata": {
        "id": "Z8wv_6whTmGr",
        "colab_type": "text"
      },
      "source": [
        "# Fetch LFw People"
      ]
    },
    {
      "cell_type": "markdown",
      "metadata": {
        "id": "Et8NWeYrT2Hm",
        "colab_type": "text"
      },
      "source": [
        "## Loading the Dataset and Preprocessing"
      ]
    },
    {
      "cell_type": "code",
      "metadata": {
        "id": "PmLmDfdO8USI",
        "colab_type": "code",
        "colab": {}
      },
      "source": [
        "lfw = fetch_lfw_pairs()\n",
        "x_fetch_lfw = fetch_lfw_people().data\n",
        "y_fetch_lfw = fetch_lfw_people().target"
      ],
      "execution_count": null,
      "outputs": []
    },
    {
      "cell_type": "code",
      "metadata": {
        "id": "WBgiSx2RUElC",
        "colab_type": "code",
        "colab": {
          "base_uri": "https://localhost:8080/",
          "height": 51
        },
        "outputId": "ab773c2a-53de-45b8-d6ab-de547b42db0e"
      },
      "source": [
        "x_lfw = pd.DataFrame(x_fetch_lfw)\n",
        "y_lfw = pd.DataFrame(y_fetch_lfw)\n",
        "print(x_lfw.shape)\n",
        "print(y_lfw.shape)"
      ],
      "execution_count": null,
      "outputs": [
        {
          "output_type": "stream",
          "text": [
            "(13233, 2914)\n",
            "(13233, 1)\n"
          ],
          "name": "stdout"
        }
      ]
    },
    {
      "cell_type": "code",
      "metadata": {
        "id": "waR3JrjuYbCQ",
        "colab_type": "code",
        "colab": {}
      },
      "source": [
        "for i in range(x_lfw.shape[1]):\n",
        "  x_lfw[i] = x_lfw[i] / 255"
      ],
      "execution_count": null,
      "outputs": []
    },
    {
      "cell_type": "markdown",
      "metadata": {
        "id": "vUf2jirNjmhh",
        "colab_type": "text"
      },
      "source": [
        "## Making a Neural Network"
      ]
    },
    {
      "cell_type": "code",
      "metadata": {
        "id": "CjaA0MGxjXlF",
        "colab_type": "code",
        "colab": {
          "base_uri": "https://localhost:8080/",
          "height": 119
        },
        "outputId": "c5ae1827-065e-4fca-b984-2e7a678821db"
      },
      "source": [
        "y_lfw = to_categorical(y_lfw)\n",
        "x_train, x_test, y_train, y_test = train_test_split(x_lfw, y_lfw, test_size = 0.2)\n",
        "x_dev, x_test, y_dev, y_test = train_test_split(x_test, y_test, test_size = 0.5)\n",
        "print(x_train.shape)\n",
        "print(x_dev.shape)\n",
        "print(x_test.shape)\n",
        "print(y_train.shape)\n",
        "print(y_dev.shape)\n",
        "print(y_test.shape)"
      ],
      "execution_count": null,
      "outputs": [
        {
          "output_type": "stream",
          "text": [
            "(10586, 2914)\n",
            "(1323, 2914)\n",
            "(1324, 2914)\n",
            "(10586, 5749)\n",
            "(1323, 5749)\n",
            "(1324, 5749)\n"
          ],
          "name": "stdout"
        }
      ]
    },
    {
      "cell_type": "code",
      "metadata": {
        "id": "EJmFcGa5j5pQ",
        "colab_type": "code",
        "colab": {}
      },
      "source": [
        "nn_lfw = models.Sequential()\n",
        "\n",
        "nn_lfw.add(layers.Dense(2048, activation = 'relu', input_shape = (2914, )))\n",
        "nn_lfw.add(layers.Dense(8192, activation = 'relu'))\n",
        "nn_lfw.add(layers.Dense(4096, activation = 'relu'))\n",
        "nn_lfw.add(layers.Dense(2048, activation = 'relu'))\n",
        "nn_lfw.add(layers.Dense(4096, activation = 'relu'))\n",
        "nn_lfw.add(layers.Dense(5120, activation = 'relu'))\n",
        "nn_lfw.add(layers.Dense(5749, activation = 'softmax'))\n",
        "\n",
        "nn_lfw.compile(optimizer = 'sgd', loss = 'categorical_crossentropy', metrics = ['accuracy'])"
      ],
      "execution_count": null,
      "outputs": []
    },
    {
      "cell_type": "code",
      "metadata": {
        "id": "5gm3UbHCj_JV",
        "colab_type": "code",
        "colab": {
          "base_uri": "https://localhost:8080/",
          "height": 428
        },
        "outputId": "3ef3ce48-8e36-46db-a521-e17c0faaa4eb"
      },
      "source": [
        "lfw_history = nn_lfw.fit(x_train, y_train, epochs = 10, batch_size = 1000, validation_data = (x_dev, y_dev))\n",
        "\n",
        "lfw_dev_acc = nn_lfw.evaluate(x_dev, y_dev)[1]\n",
        "print('The dev accuracy is', lfw_dev_acc)"
      ],
      "execution_count": null,
      "outputs": [
        {
          "output_type": "stream",
          "text": [
            "Epoch 1/10\n",
            " 2/11 [====>.........................] - ETA: 1s - loss: 8.6514 - accuracy: 0.0000e+00WARNING:tensorflow:Callbacks method `on_train_batch_end` is slow compared to the batch time (batch time: 0.0875s vs `on_train_batch_end` time: 0.1388s). Check your callbacks.\n",
            "11/11 [==============================] - 3s 235ms/step - loss: 8.6466 - accuracy: 0.0180 - val_loss: 8.6399 - val_accuracy: 0.0363\n",
            "Epoch 2/10\n",
            "11/11 [==============================] - 3s 231ms/step - loss: 8.6302 - accuracy: 0.0409 - val_loss: 8.6243 - val_accuracy: 0.0363\n",
            "Epoch 3/10\n",
            "11/11 [==============================] - 3s 230ms/step - loss: 8.6118 - accuracy: 0.0409 - val_loss: 8.6055 - val_accuracy: 0.0363\n",
            "Epoch 4/10\n",
            "11/11 [==============================] - 3s 232ms/step - loss: 8.5881 - accuracy: 0.0409 - val_loss: 8.5799 - val_accuracy: 0.0363\n",
            "Epoch 5/10\n",
            "11/11 [==============================] - 3s 232ms/step - loss: 8.5544 - accuracy: 0.0409 - val_loss: 8.5412 - val_accuracy: 0.0363\n",
            "Epoch 6/10\n",
            "11/11 [==============================] - 3s 234ms/step - loss: 8.5021 - accuracy: 0.0409 - val_loss: 8.4803 - val_accuracy: 0.0363\n",
            "Epoch 7/10\n",
            "11/11 [==============================] - 3s 238ms/step - loss: 8.4218 - accuracy: 0.0409 - val_loss: 8.3963 - val_accuracy: 0.0363\n",
            "Epoch 8/10\n",
            "11/11 [==============================] - 3s 237ms/step - loss: 8.3419 - accuracy: 0.0409 - val_loss: 8.3459 - val_accuracy: 0.0363\n",
            "Epoch 9/10\n",
            "11/11 [==============================] - 3s 238ms/step - loss: 8.2937 - accuracy: 0.0409 - val_loss: 8.2989 - val_accuracy: 0.0363\n",
            "Epoch 10/10\n",
            "11/11 [==============================] - 3s 241ms/step - loss: 8.2441 - accuracy: 0.0409 - val_loss: 8.2508 - val_accuracy: 0.0363\n",
            "42/42 [==============================] - 0s 5ms/step - loss: 8.2508 - accuracy: 0.0363\n",
            "The dev accuracy is 0.03628117963671684\n"
          ],
          "name": "stdout"
        }
      ]
    },
    {
      "cell_type": "markdown",
      "metadata": {
        "id": "YawE-efTkdlW",
        "colab_type": "text"
      },
      "source": [
        "## Plotting Accuracy & Validation Accuracy with Epoch\n"
      ]
    },
    {
      "cell_type": "markdown",
      "metadata": {
        "id": "8SZXzxijn29d",
        "colab_type": "text"
      },
      "source": [
        "## Plotting Loss & Validation Loss with Epoch"
      ]
    },
    {
      "cell_type": "code",
      "metadata": {
        "id": "azc_4kOOkd6w",
        "colab_type": "code",
        "colab": {
          "base_uri": "https://localhost:8080/",
          "height": 899
        },
        "outputId": "38372095-9b56-442a-fc6a-ab2d27fbf495"
      },
      "source": [
        "plt.figure(figsize = (10,7))\n",
        "plt.plot(lfw_history.history['accuracy'], color = 'blue')\n",
        "plt.plot(lfw_history.history['val_accuracy'], color = 'red')\n",
        "plt.title('Model accuracy')\n",
        "plt.ylabel('Accuracy')\n",
        "plt.xlabel('Epoch')\n",
        "plt.legend(['Train', 'Validation'], loc='upper left')\n",
        "plt.show()\n",
        "\n",
        "plt.figure(figsize = (10,7))\n",
        "plt.plot(lfw_history.history['loss'], color = 'blue')\n",
        "plt.plot(lfw_history.history['val_loss'], color = 'red')\n",
        "plt.ylim((0,3))\n",
        "plt.title('Model loss')\n",
        "plt.ylabel('Loss')\n",
        "plt.xlabel('Epoch')\n",
        "plt.legend(['Train', 'Validation'], loc='upper left')\n",
        "plt.show()"
      ],
      "execution_count": null,
      "outputs": [
        {
          "output_type": "display_data",
          "data": {
            "image/png": "[encoded data removed]",
            "text/plain": [
              "<Figure size 720x504 with 1 Axes>"
            ]
          },
          "metadata": {
            "tags": [],
            "needs_background": "light"
          }
        },
        {
          "output_type": "display_data",
          "data": {
            "image/png": "[encoded data removed]",
            "text/plain": [
              "<Figure size 720x504 with 1 Axes>"
            ]
          },
          "metadata": {
            "tags": [],
            "needs_background": "light"
          }
        }
      ]
    },
    {
      "cell_type": "code",
      "metadata": {
        "id": "I839f7r0lL0e",
        "colab_type": "code",
        "colab": {
          "base_uri": "https://localhost:8080/",
          "height": 51
        },
        "outputId": "02dd634d-4edb-485d-8270-a4d35fed62dd"
      },
      "source": [
        "lfw_test_acc = nn_lfw.evaluate(x_test, y_test)[1]\n",
        "print('The test accuracy is', lfw_test_acc)"
      ],
      "execution_count": null,
      "outputs": [
        {
          "output_type": "stream",
          "text": [
            "42/42 [==============================] - 0s 7ms/step - loss: 8.2502 - accuracy: 0.0370\n",
            "The test accuracy is 0.037009064108133316\n"
          ],
          "name": "stdout"
        }
      ]
    },
    {
      "cell_type": "markdown",
      "metadata": {
        "id": "V0JNDH-Doxhn",
        "colab_type": "text"
      },
      "source": [
        "# Olivetti Faces"
      ]
    },
    {
      "cell_type": "markdown",
      "metadata": {
        "id": "Y-XwJkMUo4NC",
        "colab_type": "text"
      },
      "source": [
        "## Loading the data and Preprocessing"
      ]
    },
    {
      "cell_type": "code",
      "metadata": {
        "id": "CnEOIApxozYG",
        "colab_type": "code",
        "colab": {}
      },
      "source": [
        "oli = fetch_olivetti_faces(shuffle = True)\n",
        "x_fetch_olivetti_faces = oli.data\n",
        "y_fetch_olivetti_faces = oli.target"
      ],
      "execution_count": null,
      "outputs": []
    },
    {
      "cell_type": "code",
      "metadata": {
        "id": "CYGtYOCbo8_i",
        "colab_type": "code",
        "colab": {
          "base_uri": "https://localhost:8080/",
          "height": 51
        },
        "outputId": "0f518070-1f45-4288-96f0-4ddab5b1a33f"
      },
      "source": [
        "x_oli = pd.DataFrame(x_fetch_olivetti_faces)\n",
        "y_oli = pd.DataFrame(y_fetch_olivetti_faces)\n",
        "print(x_fetch_olivetti_faces.shape)\n",
        "print(y_oli.shape)"
      ],
      "execution_count": null,
      "outputs": [
        {
          "output_type": "stream",
          "text": [
            "(400, 4096)\n",
            "(400, 1)\n"
          ],
          "name": "stdout"
        }
      ]
    },
    {
      "cell_type": "markdown",
      "metadata": {
        "id": "htd1010ho-ki",
        "colab_type": "text"
      },
      "source": [
        "## Making a Neural Network"
      ]
    },
    {
      "cell_type": "code",
      "metadata": {
        "id": "_SNQYvEDpAe7",
        "colab_type": "code",
        "colab": {
          "base_uri": "https://localhost:8080/",
          "height": 119
        },
        "outputId": "d9756540-5a19-4090-c3dd-8e622d7221fe"
      },
      "source": [
        "y_oli = to_categorical(y_oli)\n",
        "x_train, x_test, y_train, y_test = train_test_split(x_oli, y_oli, test_size = 0.2)\n",
        "x_dev, x_test, y_dev, y_test = train_test_split(x_test, y_test, test_size = 0.5)\n",
        "print(x_train.shape)\n",
        "print(x_dev.shape)\n",
        "print(x_test.shape)\n",
        "print(y_train.shape)\n",
        "print(y_dev.shape)\n",
        "print(y_test.shape)"
      ],
      "execution_count": null,
      "outputs": [
        {
          "output_type": "stream",
          "text": [
            "(320, 4096)\n",
            "(40, 4096)\n",
            "(40, 4096)\n",
            "(320, 40)\n",
            "(40, 40)\n",
            "(40, 40)\n"
          ],
          "name": "stdout"
        }
      ]
    },
    {
      "cell_type": "code",
      "metadata": {
        "id": "ZAR8qbTMpEXv",
        "colab_type": "code",
        "colab": {}
      },
      "source": [
        "nn_oli = models.Sequential()\n",
        "\n",
        "nn_oli.add(layers.Dense(2048, activation = 'relu', input_shape = (4096, )))\n",
        "nn_oli.add(layers.Dense(1024, activation = 'relu'))\n",
        "nn_oli.add(layers.Dense(512, activation = 'relu'))\n",
        "nn_oli.add(layers.Dense(256, activation = 'relu'))\n",
        "nn_oli.add(layers.Dense(40, activation = 'softmax'))\n",
        "\n",
        "nn_oli.compile(optimizer = 'sgd', loss = 'categorical_crossentropy', metrics = ['accuracy'])"
      ],
      "execution_count": null,
      "outputs": []
    },
    {
      "cell_type": "code",
      "metadata": {
        "id": "3aebiyHypG-V",
        "colab_type": "code",
        "colab": {
          "base_uri": "https://localhost:8080/",
          "height": 1000
        },
        "outputId": "7ed3bc49-2c09-4e56-eaf1-078c23ddd381"
      },
      "source": [
        "oli_history = nn_oli.fit(x_train, y_train, epochs = 75, validation_data = (x_dev, y_dev))\n",
        "\n",
        "oli_dev_acc = nn_oli.evaluate(x_dev, y_dev)[1]\n",
        "print('The dev accuracy is', oli_dev_acc)"
      ],
      "execution_count": null,
      "outputs": [
        {
          "output_type": "stream",
          "text": [
            "Epoch 1/75\n",
            "10/10 [==============================] - 0s 28ms/step - loss: 3.7316 - accuracy: 0.0250 - val_loss: 3.6916 - val_accuracy: 0.0000e+00\n",
            "Epoch 2/75\n",
            "10/10 [==============================] - 0s 5ms/step - loss: 3.6400 - accuracy: 0.0812 - val_loss: 3.6568 - val_accuracy: 0.0000e+00\n",
            "Epoch 3/75\n",
            "10/10 [==============================] - 0s 5ms/step - loss: 3.5960 - accuracy: 0.0688 - val_loss: 3.6746 - val_accuracy: 0.0000e+00\n",
            "Epoch 4/75\n",
            "10/10 [==============================] - 0s 5ms/step - loss: 3.5621 - accuracy: 0.0938 - val_loss: 3.6724 - val_accuracy: 0.0000e+00\n",
            "Epoch 5/75\n",
            "10/10 [==============================] - 0s 5ms/step - loss: 3.5058 - accuracy: 0.1063 - val_loss: 3.6123 - val_accuracy: 0.0250\n",
            "Epoch 6/75\n",
            "10/10 [==============================] - 0s 5ms/step - loss: 3.4682 - accuracy: 0.1500 - val_loss: 3.5746 - val_accuracy: 0.0250\n",
            "Epoch 7/75\n",
            "10/10 [==============================] - 0s 5ms/step - loss: 3.4340 - accuracy: 0.1562 - val_loss: 3.6710 - val_accuracy: 0.0000e+00\n",
            "Epoch 8/75\n",
            "10/10 [==============================] - 0s 6ms/step - loss: 3.4000 - accuracy: 0.1437 - val_loss: 3.5516 - val_accuracy: 0.0500\n",
            "Epoch 9/75\n",
            "10/10 [==============================] - 0s 5ms/step - loss: 3.3275 - accuracy: 0.2094 - val_loss: 3.4860 - val_accuracy: 0.1500\n",
            "Epoch 10/75\n",
            "10/10 [==============================] - 0s 6ms/step - loss: 3.2930 - accuracy: 0.2219 - val_loss: 3.4642 - val_accuracy: 0.0500\n",
            "Epoch 11/75\n",
            "10/10 [==============================] - 0s 5ms/step - loss: 3.2484 - accuracy: 0.1906 - val_loss: 3.4497 - val_accuracy: 0.0750\n",
            "Epoch 12/75\n",
            "10/10 [==============================] - 0s 5ms/step - loss: 3.1651 - accuracy: 0.2688 - val_loss: 3.6108 - val_accuracy: 0.0750\n",
            "Epoch 13/75\n",
            "10/10 [==============================] - 0s 5ms/step - loss: 3.1027 - accuracy: 0.2719 - val_loss: 3.3302 - val_accuracy: 0.2000\n",
            "Epoch 14/75\n",
            "10/10 [==============================] - 0s 5ms/step - loss: 3.0721 - accuracy: 0.2719 - val_loss: 3.3010 - val_accuracy: 0.1250\n",
            "Epoch 15/75\n",
            "10/10 [==============================] - 0s 5ms/step - loss: 3.0299 - accuracy: 0.2969 - val_loss: 3.2701 - val_accuracy: 0.2000\n",
            "Epoch 16/75\n",
            "10/10 [==============================] - 0s 5ms/step - loss: 2.9113 - accuracy: 0.3187 - val_loss: 3.2341 - val_accuracy: 0.0750\n",
            "Epoch 17/75\n",
            "10/10 [==============================] - 0s 5ms/step - loss: 2.8662 - accuracy: 0.3031 - val_loss: 3.1965 - val_accuracy: 0.1750\n",
            "Epoch 18/75\n",
            "10/10 [==============================] - 0s 5ms/step - loss: 2.7879 - accuracy: 0.3844 - val_loss: 3.2861 - val_accuracy: 0.0750\n",
            "Epoch 19/75\n",
            "10/10 [==============================] - 0s 5ms/step - loss: 2.7348 - accuracy: 0.3313 - val_loss: 2.9706 - val_accuracy: 0.2250\n",
            "Epoch 20/75\n",
            "10/10 [==============================] - 0s 5ms/step - loss: 2.6466 - accuracy: 0.4219 - val_loss: 2.8569 - val_accuracy: 0.3250\n",
            "Epoch 21/75\n",
            "10/10 [==============================] - 0s 5ms/step - loss: 2.5354 - accuracy: 0.4500 - val_loss: 3.1198 - val_accuracy: 0.0500\n",
            "Epoch 22/75\n",
            "10/10 [==============================] - 0s 5ms/step - loss: 2.5660 - accuracy: 0.3500 - val_loss: 2.9510 - val_accuracy: 0.2250\n",
            "Epoch 23/75\n",
            "10/10 [==============================] - 0s 5ms/step - loss: 2.4077 - accuracy: 0.4406 - val_loss: 2.9979 - val_accuracy: 0.1250\n",
            "Epoch 24/75\n",
            "10/10 [==============================] - 0s 5ms/step - loss: 2.3549 - accuracy: 0.3938 - val_loss: 2.7122 - val_accuracy: 0.2750\n",
            "Epoch 25/75\n",
            "10/10 [==============================] - 0s 5ms/step - loss: 2.2526 - accuracy: 0.4625 - val_loss: 2.8549 - val_accuracy: 0.1500\n",
            "Epoch 26/75\n",
            "10/10 [==============================] - 0s 6ms/step - loss: 2.2660 - accuracy: 0.4375 - val_loss: 2.7669 - val_accuracy: 0.1750\n",
            "Epoch 27/75\n",
            "10/10 [==============================] - 0s 5ms/step - loss: 2.1057 - accuracy: 0.5219 - val_loss: 2.7386 - val_accuracy: 0.2500\n",
            "Epoch 28/75\n",
            "10/10 [==============================] - 0s 5ms/step - loss: 2.1644 - accuracy: 0.4656 - val_loss: 2.4919 - val_accuracy: 0.3250\n",
            "Epoch 29/75\n",
            "10/10 [==============================] - 0s 5ms/step - loss: 2.0384 - accuracy: 0.4906 - val_loss: 2.3188 - val_accuracy: 0.3750\n",
            "Epoch 30/75\n",
            "10/10 [==============================] - 0s 5ms/step - loss: 1.9589 - accuracy: 0.5625 - val_loss: 2.4105 - val_accuracy: 0.3000\n",
            "Epoch 31/75\n",
            "10/10 [==============================] - 0s 5ms/step - loss: 1.9053 - accuracy: 0.5406 - val_loss: 2.5484 - val_accuracy: 0.2250\n",
            "Epoch 32/75\n",
            "10/10 [==============================] - 0s 5ms/step - loss: 1.8676 - accuracy: 0.5688 - val_loss: 2.0914 - val_accuracy: 0.5250\n",
            "Epoch 33/75\n",
            "10/10 [==============================] - 0s 5ms/step - loss: 1.6779 - accuracy: 0.6375 - val_loss: 2.1010 - val_accuracy: 0.4000\n",
            "Epoch 34/75\n",
            "10/10 [==============================] - 0s 5ms/step - loss: 1.6273 - accuracy: 0.6375 - val_loss: 2.3631 - val_accuracy: 0.2000\n",
            "Epoch 35/75\n",
            "10/10 [==============================] - 0s 5ms/step - loss: 1.5279 - accuracy: 0.6406 - val_loss: 2.2338 - val_accuracy: 0.3000\n",
            "Epoch 36/75\n",
            "10/10 [==============================] - 0s 5ms/step - loss: 1.9084 - accuracy: 0.4781 - val_loss: 2.0267 - val_accuracy: 0.4250\n",
            "Epoch 37/75\n",
            "10/10 [==============================] - 0s 5ms/step - loss: 1.4747 - accuracy: 0.6750 - val_loss: 2.1928 - val_accuracy: 0.2750\n",
            "Epoch 38/75\n",
            "10/10 [==============================] - 0s 5ms/step - loss: 1.3826 - accuracy: 0.6812 - val_loss: 1.5797 - val_accuracy: 0.6250\n",
            "Epoch 39/75\n",
            "10/10 [==============================] - 0s 5ms/step - loss: 1.2824 - accuracy: 0.7219 - val_loss: 1.6675 - val_accuracy: 0.6000\n",
            "Epoch 40/75\n",
            "10/10 [==============================] - 0s 5ms/step - loss: 1.1638 - accuracy: 0.7625 - val_loss: 1.7093 - val_accuracy: 0.5250\n",
            "Epoch 41/75\n",
            "10/10 [==============================] - 0s 5ms/step - loss: 1.0488 - accuracy: 0.7750 - val_loss: 1.4695 - val_accuracy: 0.6500\n",
            "Epoch 42/75\n",
            "10/10 [==============================] - 0s 5ms/step - loss: 1.1475 - accuracy: 0.7281 - val_loss: 1.4502 - val_accuracy: 0.6250\n",
            "Epoch 43/75\n",
            "10/10 [==============================] - 0s 6ms/step - loss: 1.1449 - accuracy: 0.7281 - val_loss: 1.4355 - val_accuracy: 0.6750\n",
            "Epoch 44/75\n",
            "10/10 [==============================] - 0s 5ms/step - loss: 1.0121 - accuracy: 0.7906 - val_loss: 1.4014 - val_accuracy: 0.6250\n",
            "Epoch 45/75\n",
            "10/10 [==============================] - 0s 5ms/step - loss: 0.9222 - accuracy: 0.7875 - val_loss: 1.3742 - val_accuracy: 0.5750\n",
            "Epoch 46/75\n",
            "10/10 [==============================] - 0s 5ms/step - loss: 0.9468 - accuracy: 0.8094 - val_loss: 1.4468 - val_accuracy: 0.6000\n",
            "Epoch 47/75\n",
            "10/10 [==============================] - 0s 5ms/step - loss: 0.9999 - accuracy: 0.7750 - val_loss: 1.9483 - val_accuracy: 0.4000\n",
            "Epoch 48/75\n",
            "10/10 [==============================] - 0s 5ms/step - loss: 0.8194 - accuracy: 0.8406 - val_loss: 1.0847 - val_accuracy: 0.8250\n",
            "Epoch 49/75\n",
            "10/10 [==============================] - 0s 5ms/step - loss: 0.7887 - accuracy: 0.8406 - val_loss: 1.4369 - val_accuracy: 0.5500\n",
            "Epoch 50/75\n",
            "10/10 [==============================] - 0s 5ms/step - loss: 1.0204 - accuracy: 0.7563 - val_loss: 1.1325 - val_accuracy: 0.6500\n",
            "Epoch 51/75\n",
            "10/10 [==============================] - 0s 5ms/step - loss: 0.7070 - accuracy: 0.8656 - val_loss: 1.6524 - val_accuracy: 0.5000\n",
            "Epoch 52/75\n",
            "10/10 [==============================] - 0s 5ms/step - loss: 1.0396 - accuracy: 0.7594 - val_loss: 0.8530 - val_accuracy: 0.8500\n",
            "Epoch 53/75\n",
            "10/10 [==============================] - 0s 5ms/step - loss: 0.5925 - accuracy: 0.9094 - val_loss: 1.2682 - val_accuracy: 0.5750\n",
            "Epoch 54/75\n",
            "10/10 [==============================] - 0s 5ms/step - loss: 0.5336 - accuracy: 0.9094 - val_loss: 1.3565 - val_accuracy: 0.5500\n",
            "Epoch 55/75\n",
            "10/10 [==============================] - 0s 5ms/step - loss: 0.9457 - accuracy: 0.7812 - val_loss: 1.3138 - val_accuracy: 0.6500\n",
            "Epoch 56/75\n",
            "10/10 [==============================] - 0s 5ms/step - loss: 0.4727 - accuracy: 0.9219 - val_loss: 0.7103 - val_accuracy: 0.9250\n",
            "Epoch 57/75\n",
            "10/10 [==============================] - 0s 5ms/step - loss: 0.4162 - accuracy: 0.9531 - val_loss: 0.7579 - val_accuracy: 0.8500\n",
            "Epoch 58/75\n",
            "10/10 [==============================] - 0s 5ms/step - loss: 0.4286 - accuracy: 0.9344 - val_loss: 0.5966 - val_accuracy: 0.8250\n",
            "Epoch 59/75\n",
            "10/10 [==============================] - 0s 5ms/step - loss: 0.4215 - accuracy: 0.9094 - val_loss: 0.7928 - val_accuracy: 0.8250\n",
            "Epoch 60/75\n",
            "10/10 [==============================] - 0s 5ms/step - loss: 0.4745 - accuracy: 0.9187 - val_loss: 1.4775 - val_accuracy: 0.5000\n",
            "Epoch 61/75\n",
            "10/10 [==============================] - 0s 6ms/step - loss: 0.6434 - accuracy: 0.8438 - val_loss: 0.7146 - val_accuracy: 0.7500\n",
            "Epoch 62/75\n",
            "10/10 [==============================] - 0s 5ms/step - loss: 0.4080 - accuracy: 0.9187 - val_loss: 0.5059 - val_accuracy: 0.9500\n",
            "Epoch 63/75\n",
            "10/10 [==============================] - 0s 5ms/step - loss: 0.2717 - accuracy: 0.9812 - val_loss: 0.6258 - val_accuracy: 0.8500\n",
            "Epoch 64/75\n",
            "10/10 [==============================] - 0s 5ms/step - loss: 0.2710 - accuracy: 0.9781 - val_loss: 0.6560 - val_accuracy: 0.8250\n",
            "Epoch 65/75\n",
            "10/10 [==============================] - 0s 5ms/step - loss: 0.2884 - accuracy: 0.9688 - val_loss: 0.6851 - val_accuracy: 0.8000\n",
            "Epoch 66/75\n",
            "10/10 [==============================] - 0s 5ms/step - loss: 0.2736 - accuracy: 0.9625 - val_loss: 0.5388 - val_accuracy: 0.8500\n",
            "Epoch 67/75\n",
            "10/10 [==============================] - 0s 5ms/step - loss: 0.2258 - accuracy: 0.9844 - val_loss: 0.4754 - val_accuracy: 0.9750\n",
            "Epoch 68/75\n",
            "10/10 [==============================] - 0s 5ms/step - loss: 0.2507 - accuracy: 0.9594 - val_loss: 0.4639 - val_accuracy: 0.9000\n",
            "Epoch 69/75\n",
            "10/10 [==============================] - 0s 5ms/step - loss: 0.1936 - accuracy: 0.9906 - val_loss: 0.4382 - val_accuracy: 0.9000\n",
            "Epoch 70/75\n",
            "10/10 [==============================] - 0s 5ms/step - loss: 0.1817 - accuracy: 1.0000 - val_loss: 0.6041 - val_accuracy: 0.8500\n",
            "Epoch 71/75\n",
            "10/10 [==============================] - 0s 5ms/step - loss: 0.2147 - accuracy: 0.9719 - val_loss: 0.4186 - val_accuracy: 0.9250\n",
            "Epoch 72/75\n",
            "10/10 [==============================] - 0s 5ms/step - loss: 0.1672 - accuracy: 0.9969 - val_loss: 0.4073 - val_accuracy: 0.9000\n",
            "Epoch 73/75\n",
            "10/10 [==============================] - 0s 5ms/step - loss: 0.1615 - accuracy: 0.9969 - val_loss: 0.4046 - val_accuracy: 0.9500\n",
            "Epoch 74/75\n",
            "10/10 [==============================] - 0s 5ms/step - loss: 0.1512 - accuracy: 1.0000 - val_loss: 0.4616 - val_accuracy: 0.8750\n",
            "Epoch 75/75\n",
            "10/10 [==============================] - 0s 5ms/step - loss: 0.1555 - accuracy: 0.9969 - val_loss: 0.3535 - val_accuracy: 0.9500\n",
            "2/2 [==============================] - 0s 3ms/step - loss: 0.3535 - accuracy: 0.9500\n",
            "The dev accuracy is 0.949999988079071\n"
          ],
          "name": "stdout"
        }
      ]
    },
    {
      "cell_type": "markdown",
      "metadata": {
        "id": "NHNfe2BlpMmY",
        "colab_type": "text"
      },
      "source": [
        "## Plotting Accuracy & Validation Accuracy with Epoch\n"
      ]
    },
    {
      "cell_type": "markdown",
      "metadata": {
        "id": "c8R3rRtVn8oN",
        "colab_type": "text"
      },
      "source": [
        "## Plotting Loss & Validation Loss with Epoch"
      ]
    },
    {
      "cell_type": "code",
      "metadata": {
        "id": "pcLX3GxYpM--",
        "colab_type": "code",
        "colab": {
          "base_uri": "https://localhost:8080/",
          "height": 899
        },
        "outputId": "66021cee-983c-48d2-da53-a96974b87b66"
      },
      "source": [
        "plt.figure(figsize = (10,7))\n",
        "plt.plot(oli_history.history['accuracy'], color = 'blue')\n",
        "plt.plot(oli_history.history['val_accuracy'], color = 'red')\n",
        "plt.title('Model accuracy')\n",
        "plt.ylabel('Accuracy')\n",
        "plt.xlabel('Epoch')\n",
        "plt.legend(['Train', 'Validation'], loc='upper left')\n",
        "plt.show()\n",
        "\n",
        "plt.figure(figsize = (10,7))\n",
        "plt.plot(oli_history.history['loss'], color = 'blue')\n",
        "plt.plot(oli_history.history['val_loss'], color = 'red')\n",
        "plt.ylim((0,3))\n",
        "plt.title('Model loss')\n",
        "plt.ylabel('Loss')\n",
        "plt.xlabel('Epoch')\n",
        "plt.legend(['Train', 'Validation'], loc='upper left')\n",
        "plt.show()"
      ],
      "execution_count": null,
      "outputs": [
        {
          "output_type": "display_data",
          "data": {
            "image/png": "[encoded data removed]",
            "text/plain": [
              "<Figure size 720x504 with 1 Axes>"
            ]
          },
          "metadata": {
            "tags": [],
            "needs_background": "light"
          }
        },
        {
          "output_type": "display_data",
          "data": {
            "image/png": "[encoded data removed]",
            "text/plain": [
              "<Figure size 720x504 with 1 Axes>"
            ]
          },
          "metadata": {
            "tags": [],
            "needs_background": "light"
          }
        }
      ]
    },
    {
      "cell_type": "code",
      "metadata": {
        "id": "nmp-m5MapS5x",
        "colab_type": "code",
        "colab": {
          "base_uri": "https://localhost:8080/",
          "height": 51
        },
        "outputId": "d985a145-eac8-4582-a102-4ad003a8bac8"
      },
      "source": [
        "oli_test_acc = nn_oli.evaluate(x_test, y_test)[1]\n",
        "print('The test accuracy is', oli_test_acc)"
      ],
      "execution_count": null,
      "outputs": [
        {
          "output_type": "stream",
          "text": [
            "2/2 [==============================] - 0s 3ms/step - loss: 0.3693 - accuracy: 0.8750\n",
            "The test accuracy is 0.875\n"
          ],
          "name": "stdout"
        }
      ]
    },
    {
      "cell_type": "markdown",
      "metadata": {
        "id": "AyKSN9ZD8A_F",
        "colab_type": "text"
      },
      "source": [
        "# RCV1 Dataset"
      ]
    },
    {
      "cell_type": "markdown",
      "metadata": {
        "id": "SWjqa2i48Wae",
        "colab_type": "text"
      },
      "source": [
        "##  Loading The Dataset and Preprocessing"
      ]
    },
    {
      "cell_type": "code",
      "metadata": {
        "id": "RzMuNfUU8VMu",
        "colab_type": "code",
        "colab": {}
      },
      "source": [
        "rcv1 = fetch_rcv1()\n",
        "x_fetch_rcv1 = rcv1.data\n",
        "y_fetch_rcv1 = rcv1.target"
      ],
      "execution_count": null,
      "outputs": []
    },
    {
      "cell_type": "code",
      "metadata": {
        "id": "VsbfshsR-9Zo",
        "colab_type": "code",
        "colab": {
          "base_uri": "https://localhost:8080/",
          "height": 51
        },
        "outputId": "c1357cce-2432-4280-880a-5c607c37bb8d"
      },
      "source": [
        "x_rcv1 = x_fetch_rcv1\n",
        "y_rcv1 = y_fetch_rcv1\n",
        "print(x_rcv1.shape)\n",
        "print(y_rcv1.shape)"
      ],
      "execution_count": null,
      "outputs": [
        {
          "output_type": "stream",
          "text": [
            "(804414, 47236)\n",
            "(804414, 103)\n"
          ],
          "name": "stdout"
        }
      ]
    },
    {
      "cell_type": "markdown",
      "metadata": {
        "id": "Tuqh9sS58iu8",
        "colab_type": "text"
      },
      "source": [
        "## Making a Neural Network"
      ]
    },
    {
      "cell_type": "code",
      "metadata": {
        "id": "X4xIwEHo8iAr",
        "colab_type": "code",
        "colab": {
          "base_uri": "https://localhost:8080/",
          "height": 119
        },
        "outputId": "84e60cb3-98e2-4530-e648-be02492b6b34"
      },
      "source": [
        "x_train, x_test, y_train, y_test = train_test_split(x_rcv1, y_rcv1, test_size = 0.2)\n",
        "x_dev, x_test, y_dev, y_test = train_test_split(x_test, y_test, test_size = 0.5)\n",
        "print(x_train.shape)\n",
        "print(x_dev.shape)\n",
        "print(x_test.shape)\n",
        "print(y_train.shape)\n",
        "print(y_dev.shape)\n",
        "print(y_test.shape)"
      ],
      "execution_count": null,
      "outputs": [
        {
          "output_type": "stream",
          "text": [
            "(643531, 47236)\n",
            "(80441, 47236)\n",
            "(80442, 47236)\n",
            "(643531, 103)\n",
            "(80441, 103)\n",
            "(80442, 103)\n"
          ],
          "name": "stdout"
        }
      ]
    },
    {
      "cell_type": "code",
      "metadata": {
        "id": "mPZjvYqn8oFu",
        "colab_type": "code",
        "colab": {}
      },
      "source": [
        "nn_rcv1 = models.Sequential()\n",
        "\n",
        "nn_rcv1.add(layers.Dense(100, activation = 'relu', input_shape = (47236, )))\n",
        "nn_rcv1.add(layers.Dense(2500, activation = 'relu'))\n",
        "nn_rcv1.add(layers.Dense(1024, activation = 'relu'))\n",
        "nn_rcv1.add(layers.Dense(512, activation = 'relu'))\n",
        "nn_rcv1.add(layers.Dense(256, activation = 'relu'))\n",
        "nn_rcv1.add(layers.Dense(103, activation = 'softmax'))\n",
        "\n",
        "nn_rcv1.compile(optimizer = 'sgd', loss = 'categorical_crossentropy', metrics = ['accuracy'])"
      ],
      "execution_count": null,
      "outputs": []
    },
    {
      "cell_type": "code",
      "metadata": {
        "id": "FiCOvTET8p86",
        "colab_type": "code",
        "colab": {}
      },
      "source": [
        "rcv1_history = nn_rcv1.fit(x_train, y_train, epochs = 75, validation_data = (x_dev, y_dev))\n",
        "\n",
        "rcv1_dev_acc = nn_rcv1.evaluate(x_dev, y_dev)[1]\n",
        "print('The dev accuracy is', rcv1_dev_acc)"
      ],
      "execution_count": null,
      "outputs": []
    },
    {
      "cell_type": "markdown",
      "metadata": {
        "id": "PnkkLQUf8rqT",
        "colab_type": "text"
      },
      "source": [
        "## Plotting Accuracy & Validation Accuracy with Epoch"
      ]
    },
    {
      "cell_type": "markdown",
      "metadata": {
        "id": "zShJ0idloEBT",
        "colab_type": "text"
      },
      "source": [
        "## Plotting Loss & Validation Loss with Epoch"
      ]
    },
    {
      "cell_type": "code",
      "metadata": {
        "id": "C8mHOFVs8u_t",
        "colab_type": "code",
        "colab": {}
      },
      "source": [
        "plt.figure(figsize = (10,7))\n",
        "plt.plot(rcv1_history.history['accuracy'], color = 'blue')\n",
        "plt.plot(rcv1_history.history['val_accuracy'], color = 'red')\n",
        "plt.title('Model accuracy')\n",
        "plt.ylabel('Accuracy')\n",
        "plt.xlabel('Epoch')\n",
        "plt.legend(['Train', 'Validation'], loc='upper left')\n",
        "plt.show()\n",
        "\n",
        "plt.figure(figsize = (10,7))\n",
        "plt.plot(rcv1_history.history['loss'], color = 'blue')\n",
        "plt.plot(rcv1_history.history['val_loss'], color = 'red')\n",
        "plt.ylim((0,3))\n",
        "plt.title('Model loss')\n",
        "plt.ylabel('Loss')\n",
        "plt.xlabel('Epoch')\n",
        "plt.legend(['Train', 'Validation'], loc='upper left')\n",
        "plt.show()"
      ],
      "execution_count": null,
      "outputs": []
    },
    {
      "cell_type": "code",
      "metadata": {
        "id": "P4GK1a-f8xtw",
        "colab_type": "code",
        "colab": {}
      },
      "source": [
        "rcv1_test_acc = nn_rcv1.evaluate(x_test, y_test)[1]\n",
        "print('The test accuracy is', rcv1_test_acc)"
      ],
      "execution_count": null,
      "outputs": []
    },
    {
      "cell_type": "markdown",
      "metadata": {
        "id": "Il4XUxkLFR8s",
        "colab_type": "text"
      },
      "source": [
        "# Breast Cancer Dataset"
      ]
    },
    {
      "cell_type": "markdown",
      "metadata": {
        "id": "ZLzSTxCAFc4R",
        "colab_type": "text"
      },
      "source": [
        "## Loading the Dataset and Preprocessing "
      ]
    },
    {
      "cell_type": "code",
      "metadata": {
        "id": "9z2B-lakFPL4",
        "colab_type": "code",
        "colab": {}
      },
      "source": [
        "cancer = load_breast_cancer()\n",
        "x_load_breast_cancer = cancer.data\n",
        "y_load_breast_cancer = cancer.target"
      ],
      "execution_count": null,
      "outputs": []
    },
    {
      "cell_type": "code",
      "metadata": {
        "id": "Sg0OdQzBFX2L",
        "colab_type": "code",
        "colab": {
          "base_uri": "https://localhost:8080/",
          "height": 51
        },
        "outputId": "3c3dda8a-784d-48ab-d455-7243cff95fc6"
      },
      "source": [
        "x_cancer = pd.DataFrame(x_load_breast_cancer)\n",
        "y_cancer = pd.DataFrame(y_load_breast_cancer)\n",
        "print(x_cancer.shape)\n",
        "print(y_cancer.shape)"
      ],
      "execution_count": null,
      "outputs": [
        {
          "output_type": "stream",
          "text": [
            "(569, 30)\n",
            "(569, 1)\n"
          ],
          "name": "stdout"
        }
      ]
    },
    {
      "cell_type": "code",
      "metadata": {
        "id": "o6mnfcBaH8QC",
        "colab_type": "code",
        "colab": {}
      },
      "source": [
        "sc = StandardScaler()\n",
        "x_cancer = pd.DataFrame(sc.fit_transform(x_cancer))"
      ],
      "execution_count": null,
      "outputs": []
    },
    {
      "cell_type": "markdown",
      "metadata": {
        "id": "qZoSX8b8FjDG",
        "colab_type": "text"
      },
      "source": [
        "## Making a Neural Network"
      ]
    },
    {
      "cell_type": "code",
      "metadata": {
        "id": "yJEUlRCpFjVp",
        "colab_type": "code",
        "colab": {
          "base_uri": "https://localhost:8080/",
          "height": 119
        },
        "outputId": "35fb9080-a418-4c56-c3b1-baceafc2b1c5"
      },
      "source": [
        "x_train, x_test, y_train, y_test = train_test_split(x_cancer, y_cancer, test_size = 0.2, shuffle = True)\n",
        "x_dev, x_test, y_dev, y_test = train_test_split(x_test, y_test, test_size = 0.5, shuffle = True)\n",
        "print(x_train.shape)\n",
        "print(x_dev.shape)\n",
        "print(x_test.shape)\n",
        "print(y_train.shape)\n",
        "print(y_dev.shape)\n",
        "print(y_test.shape)"
      ],
      "execution_count": null,
      "outputs": [
        {
          "output_type": "stream",
          "text": [
            "(455, 30)\n",
            "(57, 30)\n",
            "(57, 30)\n",
            "(455, 1)\n",
            "(57, 1)\n",
            "(57, 1)\n"
          ],
          "name": "stdout"
        }
      ]
    },
    {
      "cell_type": "code",
      "metadata": {
        "id": "nG7wUh6gFniy",
        "colab_type": "code",
        "colab": {}
      },
      "source": [
        "nn_cancer = models.Sequential()\n",
        "\n",
        "nn_cancer.add(layers.Dense(128, activation = 'relu', input_shape = (30, )))\n",
        "nn_cancer.add(layers.Dense(64, activation = 'relu'))\n",
        "nn_cancer.add(layers.Dense(1, activation = 'sigmoid'))\n",
        "\n",
        "nn_cancer.compile(optimizer = 'sgd', loss = 'binary_crossentropy', metrics = ['accuracy'])"
      ],
      "execution_count": null,
      "outputs": []
    },
    {
      "cell_type": "code",
      "metadata": {
        "id": "AXjhgwG2FptR",
        "colab_type": "code",
        "colab": {
          "base_uri": "https://localhost:8080/",
          "height": 1000
        },
        "outputId": "0a3868e6-8cc0-4ec0-bb0b-6b7df08b2ad9"
      },
      "source": [
        "cancer_history = nn_cancer.fit(x_train, y_train, epochs = 30, validation_data = (x_dev, y_dev))\n",
        "\n",
        "cancer_dev_acc = nn_cancer.evaluate(x_dev, y_dev)[1]\n",
        "print('The dev accuracy is', cancer_dev_acc)"
      ],
      "execution_count": null,
      "outputs": [
        {
          "output_type": "stream",
          "text": [
            "Epoch 1/30\n",
            "15/15 [==============================] - 0s 14ms/step - loss: 0.5590 - accuracy: 0.8088 - val_loss: 0.4481 - val_accuracy: 0.8947\n",
            "Epoch 2/30\n",
            "15/15 [==============================] - 0s 3ms/step - loss: 0.4438 - accuracy: 0.9121 - val_loss: 0.3667 - val_accuracy: 0.9298\n",
            "Epoch 3/30\n",
            "15/15 [==============================] - 0s 3ms/step - loss: 0.3711 - accuracy: 0.9297 - val_loss: 0.3118 - val_accuracy: 0.9474\n",
            "Epoch 4/30\n",
            "15/15 [==============================] - 0s 3ms/step - loss: 0.3197 - accuracy: 0.9407 - val_loss: 0.2720 - val_accuracy: 0.9474\n",
            "Epoch 5/30\n",
            "15/15 [==============================] - 0s 3ms/step - loss: 0.2820 - accuracy: 0.9473 - val_loss: 0.2427 - val_accuracy: 0.9649\n",
            "Epoch 6/30\n",
            "15/15 [==============================] - 0s 3ms/step - loss: 0.2534 - accuracy: 0.9495 - val_loss: 0.2201 - val_accuracy: 0.9649\n",
            "Epoch 7/30\n",
            "15/15 [==============================] - 0s 4ms/step - loss: 0.2308 - accuracy: 0.9516 - val_loss: 0.2019 - val_accuracy: 0.9649\n",
            "Epoch 8/30\n",
            "15/15 [==============================] - 0s 3ms/step - loss: 0.2123 - accuracy: 0.9516 - val_loss: 0.1873 - val_accuracy: 0.9649\n",
            "Epoch 9/30\n",
            "15/15 [==============================] - 0s 3ms/step - loss: 0.1976 - accuracy: 0.9560 - val_loss: 0.1754 - val_accuracy: 0.9649\n",
            "Epoch 10/30\n",
            "15/15 [==============================] - 0s 3ms/step - loss: 0.1854 - accuracy: 0.9560 - val_loss: 0.1657 - val_accuracy: 0.9649\n",
            "Epoch 11/30\n",
            "15/15 [==============================] - 0s 3ms/step - loss: 0.1750 - accuracy: 0.9560 - val_loss: 0.1571 - val_accuracy: 0.9649\n",
            "Epoch 12/30\n",
            "15/15 [==============================] - 0s 3ms/step - loss: 0.1660 - accuracy: 0.9560 - val_loss: 0.1494 - val_accuracy: 0.9825\n",
            "Epoch 13/30\n",
            "15/15 [==============================] - 0s 3ms/step - loss: 0.1582 - accuracy: 0.9560 - val_loss: 0.1431 - val_accuracy: 0.9825\n",
            "Epoch 14/30\n",
            "15/15 [==============================] - 0s 3ms/step - loss: 0.1514 - accuracy: 0.9560 - val_loss: 0.1375 - val_accuracy: 0.9825\n",
            "Epoch 15/30\n",
            "15/15 [==============================] - 0s 3ms/step - loss: 0.1455 - accuracy: 0.9560 - val_loss: 0.1325 - val_accuracy: 0.9649\n",
            "Epoch 16/30\n",
            "15/15 [==============================] - 0s 3ms/step - loss: 0.1402 - accuracy: 0.9604 - val_loss: 0.1278 - val_accuracy: 0.9649\n",
            "Epoch 17/30\n",
            "15/15 [==============================] - 0s 3ms/step - loss: 0.1355 - accuracy: 0.9604 - val_loss: 0.1237 - val_accuracy: 0.9649\n",
            "Epoch 18/30\n",
            "15/15 [==============================] - 0s 3ms/step - loss: 0.1311 - accuracy: 0.9626 - val_loss: 0.1199 - val_accuracy: 0.9649\n",
            "Epoch 19/30\n",
            "15/15 [==============================] - 0s 3ms/step - loss: 0.1272 - accuracy: 0.9626 - val_loss: 0.1164 - val_accuracy: 0.9649\n",
            "Epoch 20/30\n",
            "15/15 [==============================] - 0s 3ms/step - loss: 0.1237 - accuracy: 0.9626 - val_loss: 0.1134 - val_accuracy: 0.9649\n",
            "Epoch 21/30\n",
            "15/15 [==============================] - 0s 3ms/step - loss: 0.1205 - accuracy: 0.9648 - val_loss: 0.1107 - val_accuracy: 0.9649\n",
            "Epoch 22/30\n",
            "15/15 [==============================] - 0s 3ms/step - loss: 0.1176 - accuracy: 0.9648 - val_loss: 0.1080 - val_accuracy: 0.9649\n",
            "Epoch 23/30\n",
            "15/15 [==============================] - 0s 3ms/step - loss: 0.1149 - accuracy: 0.9670 - val_loss: 0.1055 - val_accuracy: 0.9825\n",
            "Epoch 24/30\n",
            "15/15 [==============================] - 0s 3ms/step - loss: 0.1124 - accuracy: 0.9670 - val_loss: 0.1033 - val_accuracy: 0.9825\n",
            "Epoch 25/30\n",
            "15/15 [==============================] - 0s 3ms/step - loss: 0.1101 - accuracy: 0.9670 - val_loss: 0.1014 - val_accuracy: 0.9825\n",
            "Epoch 26/30\n",
            "15/15 [==============================] - 0s 3ms/step - loss: 0.1079 - accuracy: 0.9670 - val_loss: 0.0999 - val_accuracy: 0.9825\n",
            "Epoch 27/30\n",
            "15/15 [==============================] - 0s 3ms/step - loss: 0.1058 - accuracy: 0.9692 - val_loss: 0.0980 - val_accuracy: 0.9825\n",
            "Epoch 28/30\n",
            "15/15 [==============================] - 0s 3ms/step - loss: 0.1040 - accuracy: 0.9714 - val_loss: 0.0963 - val_accuracy: 0.9825\n",
            "Epoch 29/30\n",
            "15/15 [==============================] - 0s 3ms/step - loss: 0.1021 - accuracy: 0.9714 - val_loss: 0.0951 - val_accuracy: 0.9825\n",
            "Epoch 30/30\n",
            "15/15 [==============================] - 0s 3ms/step - loss: 0.1003 - accuracy: 0.9736 - val_loss: 0.0934 - val_accuracy: 0.9825\n",
            "2/2 [==============================] - 0s 2ms/step - loss: 0.0934 - accuracy: 0.9825\n",
            "The dev accuracy is 0.9824561476707458\n"
          ],
          "name": "stdout"
        }
      ]
    },
    {
      "cell_type": "markdown",
      "metadata": {
        "id": "tpPB80RNFs07",
        "colab_type": "text"
      },
      "source": [
        "## Plotting Accuracy & Validation Accuracy with Epoch"
      ]
    },
    {
      "cell_type": "markdown",
      "metadata": {
        "id": "iDD3cjBmoUQM",
        "colab_type": "text"
      },
      "source": [
        "## Plotting Loss & Validation Loss with Epoch"
      ]
    },
    {
      "cell_type": "code",
      "metadata": {
        "id": "TzHb2x3IFtKR",
        "colab_type": "code",
        "colab": {
          "base_uri": "https://localhost:8080/",
          "height": 899
        },
        "outputId": "1bd8096b-9bf7-4c87-bb98-5a40cf4e4481"
      },
      "source": [
        "plt.figure(figsize = (10,7))\n",
        "plt.plot(cancer_history.history['accuracy'], color = 'blue')\n",
        "plt.plot(cancer_history.history['val_accuracy'], color = 'red')\n",
        "plt.title('Model accuracy')\n",
        "plt.ylabel('Accuracy')\n",
        "plt.xlabel('Epoch')\n",
        "plt.legend(['Train', 'Validation'], loc='upper left')\n",
        "plt.show()\n",
        "\n",
        "plt.figure(figsize = (10,7))\n",
        "plt.plot(cancer_history.history['loss'], color = 'blue')\n",
        "plt.plot(cancer_history.history['val_loss'], color = 'red')\n",
        "# plt.ylim((0,3))\n",
        "plt.title('Model loss')\n",
        "plt.ylabel('Loss')\n",
        "plt.xlabel('Epoch')\n",
        "plt.legend(['Train', 'Validation'], loc='upper left')\n",
        "plt.show()"
      ],
      "execution_count": null,
      "outputs": [
        {
          "output_type": "display_data",
          "data": {
            "image/png": "[encoded data removed]",
            "text/plain": [
              "<Figure size 720x504 with 1 Axes>"
            ]
          },
          "metadata": {
            "tags": [],
            "needs_background": "light"
          }
        },
        {
          "output_type": "display_data",
          "data": {
            "image/png": "[encoded data removed]",
            "text/plain": [
              "<Figure size 720x504 with 1 Axes>"
            ]
          },
          "metadata": {
            "tags": [],
            "needs_background": "light"
          }
        }
      ]
    },
    {
      "cell_type": "code",
      "metadata": {
        "id": "dxztPM_tFxJC",
        "colab_type": "code",
        "colab": {
          "base_uri": "https://localhost:8080/",
          "height": 51
        },
        "outputId": "b725a147-6547-46ce-c38a-8e747a6d1ec9"
      },
      "source": [
        "cancer_test_acc = nn_cancer.evaluate(x_test, y_test)[1]\n",
        "print('The test accuracy is', cancer_test_acc)"
      ],
      "execution_count": null,
      "outputs": [
        {
          "output_type": "stream",
          "text": [
            "2/2 [==============================] - 0s 2ms/step - loss: 0.1200 - accuracy: 0.9298\n",
            "The test accuracy is 0.9298245906829834\n"
          ],
          "name": "stdout"
        }
      ]
    },
    {
      "cell_type": "markdown",
      "metadata": {
        "colab_type": "text",
        "id": "Fk2ubQss1p-H"
      },
      "source": [
        "# Digits Dataset"
      ]
    },
    {
      "cell_type": "markdown",
      "metadata": {
        "colab_type": "text",
        "id": "kQQ9g6da1p-M"
      },
      "source": [
        "## Loading the Dataset and Preprocessing "
      ]
    },
    {
      "cell_type": "code",
      "metadata": {
        "colab_type": "code",
        "id": "nahKnUq51p-N",
        "colab": {}
      },
      "source": [
        "digits = load_digits()\n",
        "x_load_digits = digits.data\n",
        "y_load_digits = digits.target"
      ],
      "execution_count": null,
      "outputs": []
    },
    {
      "cell_type": "code",
      "metadata": {
        "colab_type": "code",
        "id": "fYnb8gFt1p-S",
        "colab": {
          "base_uri": "https://localhost:8080/",
          "height": 51
        },
        "outputId": "569f1f4c-9f61-41d6-9bf7-f42dedf302e4"
      },
      "source": [
        "x_digits = pd.DataFrame(x_load_digits)\n",
        "y_digits = pd.DataFrame(y_load_digits)\n",
        "print(x_digits.shape)\n",
        "print(y_digits.shape)"
      ],
      "execution_count": null,
      "outputs": [
        {
          "output_type": "stream",
          "text": [
            "(1797, 64)\n",
            "(1797, 1)\n"
          ],
          "name": "stdout"
        }
      ]
    },
    {
      "cell_type": "code",
      "metadata": {
        "colab_type": "code",
        "id": "KjnicJ4H1p-W",
        "colab": {}
      },
      "source": [
        "sc = StandardScaler()\n",
        "x_digits = pd.DataFrame(sc.fit_transform(x_digits))"
      ],
      "execution_count": null,
      "outputs": []
    },
    {
      "cell_type": "markdown",
      "metadata": {
        "colab_type": "text",
        "id": "HXKUNSrC1p-Z"
      },
      "source": [
        "## Making a Neural Network"
      ]
    },
    {
      "cell_type": "code",
      "metadata": {
        "colab_type": "code",
        "id": "3QpfIrjj1p-a",
        "colab": {
          "base_uri": "https://localhost:8080/",
          "height": 68
        },
        "outputId": "167f8ae7-ee02-481b-8fe2-c2d83933eff9"
      },
      "source": [
        "y_digits = to_categorical(y_digits)\n",
        "x_train, x_test, y_train, y_test = train_test_split(x_digits, y_digits, test_size = 0.2, shuffle = True)\n",
        "x_dev, x_test, y_dev, y_test = train_test_split(x_test, y_test, test_size = 0.5, shuffle = True)\n",
        "print(x_train.shape, y_train.shape)\n",
        "print(x_dev.shape, y_dev.shape)\n",
        "print(x_test.shape, y_test.shape)"
      ],
      "execution_count": null,
      "outputs": [
        {
          "output_type": "stream",
          "text": [
            "(1437, 64) (1437, 10)\n",
            "(180, 64) (180, 10)\n",
            "(180, 64) (180, 10)\n"
          ],
          "name": "stdout"
        }
      ]
    },
    {
      "cell_type": "code",
      "metadata": {
        "colab_type": "code",
        "id": "dxS_XzYT1p-i",
        "colab": {}
      },
      "source": [
        "nn_digits = models.Sequential()\n",
        "\n",
        "nn_digits.add(layers.Dense(128, activation = 'relu', input_shape = (64, )))\n",
        "nn_digits.add(layers.Dense(64, activation = 'relu'))\n",
        "nn_digits.add(layers.Dense(10, activation = 'softmax'))\n",
        "\n",
        "nn_digits.compile(optimizer = 'sgd', loss = 'categorical_crossentropy', metrics = ['accuracy'])"
      ],
      "execution_count": null,
      "outputs": []
    },
    {
      "cell_type": "code",
      "metadata": {
        "colab_type": "code",
        "id": "y83Q61rP1p-m",
        "colab": {
          "base_uri": "https://localhost:8080/",
          "height": 1000
        },
        "outputId": "7bbd4017-8113-470d-978c-6887888f0647"
      },
      "source": [
        "digits_history = nn_digits.fit(x_train, y_train, epochs = 30, validation_data = (x_dev, y_dev))\n",
        "\n",
        "digits_dev_acc = nn_digits.evaluate(x_dev, y_dev)[1]\n",
        "print('The dev accuracy is', digits_dev_acc)"
      ],
      "execution_count": null,
      "outputs": [
        {
          "output_type": "stream",
          "text": [
            "Epoch 1/30\n",
            "45/45 [==============================] - 0s 6ms/step - loss: 2.2481 - accuracy: 0.2199 - val_loss: 1.9781 - val_accuracy: 0.3667\n",
            "Epoch 2/30\n",
            "45/45 [==============================] - 0s 3ms/step - loss: 1.7980 - accuracy: 0.5261 - val_loss: 1.5921 - val_accuracy: 0.6444\n",
            "Epoch 3/30\n",
            "45/45 [==============================] - 0s 3ms/step - loss: 1.4265 - accuracy: 0.7314 - val_loss: 1.2615 - val_accuracy: 0.7778\n",
            "Epoch 4/30\n",
            "45/45 [==============================] - 0s 3ms/step - loss: 1.1148 - accuracy: 0.7975 - val_loss: 1.0000 - val_accuracy: 0.8389\n",
            "Epoch 5/30\n",
            "45/45 [==============================] - 0s 2ms/step - loss: 0.8789 - accuracy: 0.8448 - val_loss: 0.8096 - val_accuracy: 0.8722\n",
            "Epoch 6/30\n",
            "45/45 [==============================] - 0s 2ms/step - loss: 0.7103 - accuracy: 0.8671 - val_loss: 0.6720 - val_accuracy: 0.8944\n",
            "Epoch 7/30\n",
            "45/45 [==============================] - 0s 3ms/step - loss: 0.5898 - accuracy: 0.8914 - val_loss: 0.5730 - val_accuracy: 0.9056\n",
            "Epoch 8/30\n",
            "45/45 [==============================] - 0s 2ms/step - loss: 0.5011 - accuracy: 0.9088 - val_loss: 0.5018 - val_accuracy: 0.9111\n",
            "Epoch 9/30\n",
            "45/45 [==============================] - 0s 2ms/step - loss: 0.4333 - accuracy: 0.9186 - val_loss: 0.4457 - val_accuracy: 0.9222\n",
            "Epoch 10/30\n",
            "45/45 [==============================] - 0s 2ms/step - loss: 0.3797 - accuracy: 0.9241 - val_loss: 0.4045 - val_accuracy: 0.9278\n",
            "Epoch 11/30\n",
            "45/45 [==============================] - 0s 3ms/step - loss: 0.3370 - accuracy: 0.9311 - val_loss: 0.3671 - val_accuracy: 0.9278\n",
            "Epoch 12/30\n",
            "45/45 [==============================] - 0s 3ms/step - loss: 0.3017 - accuracy: 0.9388 - val_loss: 0.3395 - val_accuracy: 0.9333\n",
            "Epoch 13/30\n",
            "45/45 [==============================] - 0s 2ms/step - loss: 0.2725 - accuracy: 0.9450 - val_loss: 0.3157 - val_accuracy: 0.9333\n",
            "Epoch 14/30\n",
            "45/45 [==============================] - 0s 2ms/step - loss: 0.2481 - accuracy: 0.9520 - val_loss: 0.2950 - val_accuracy: 0.9333\n",
            "Epoch 15/30\n",
            "45/45 [==============================] - 0s 2ms/step - loss: 0.2270 - accuracy: 0.9541 - val_loss: 0.2762 - val_accuracy: 0.9333\n",
            "Epoch 16/30\n",
            "45/45 [==============================] - 0s 2ms/step - loss: 0.2092 - accuracy: 0.9589 - val_loss: 0.2629 - val_accuracy: 0.9333\n",
            "Epoch 17/30\n",
            "45/45 [==============================] - 0s 2ms/step - loss: 0.1935 - accuracy: 0.9638 - val_loss: 0.2511 - val_accuracy: 0.9333\n",
            "Epoch 18/30\n",
            "45/45 [==============================] - 0s 2ms/step - loss: 0.1797 - accuracy: 0.9673 - val_loss: 0.2405 - val_accuracy: 0.9389\n",
            "Epoch 19/30\n",
            "45/45 [==============================] - 0s 2ms/step - loss: 0.1675 - accuracy: 0.9701 - val_loss: 0.2293 - val_accuracy: 0.9333\n",
            "Epoch 20/30\n",
            "45/45 [==============================] - 0s 3ms/step - loss: 0.1568 - accuracy: 0.9715 - val_loss: 0.2217 - val_accuracy: 0.9333\n",
            "Epoch 21/30\n",
            "45/45 [==============================] - 0s 3ms/step - loss: 0.1472 - accuracy: 0.9736 - val_loss: 0.2141 - val_accuracy: 0.9333\n",
            "Epoch 22/30\n",
            "45/45 [==============================] - 0s 2ms/step - loss: 0.1386 - accuracy: 0.9756 - val_loss: 0.2077 - val_accuracy: 0.9333\n",
            "Epoch 23/30\n",
            "45/45 [==============================] - 0s 2ms/step - loss: 0.1308 - accuracy: 0.9770 - val_loss: 0.2015 - val_accuracy: 0.9333\n",
            "Epoch 24/30\n",
            "45/45 [==============================] - 0s 2ms/step - loss: 0.1238 - accuracy: 0.9784 - val_loss: 0.1968 - val_accuracy: 0.9333\n",
            "Epoch 25/30\n",
            "45/45 [==============================] - 0s 2ms/step - loss: 0.1174 - accuracy: 0.9826 - val_loss: 0.1921 - val_accuracy: 0.9333\n",
            "Epoch 26/30\n",
            "45/45 [==============================] - 0s 2ms/step - loss: 0.1116 - accuracy: 0.9833 - val_loss: 0.1876 - val_accuracy: 0.9389\n",
            "Epoch 27/30\n",
            "45/45 [==============================] - 0s 2ms/step - loss: 0.1062 - accuracy: 0.9840 - val_loss: 0.1829 - val_accuracy: 0.9389\n",
            "Epoch 28/30\n",
            "45/45 [==============================] - 0s 2ms/step - loss: 0.1012 - accuracy: 0.9868 - val_loss: 0.1790 - val_accuracy: 0.9444\n",
            "Epoch 29/30\n",
            "45/45 [==============================] - 0s 3ms/step - loss: 0.0967 - accuracy: 0.9868 - val_loss: 0.1755 - val_accuracy: 0.9444\n",
            "Epoch 30/30\n",
            "45/45 [==============================] - 0s 2ms/step - loss: 0.0925 - accuracy: 0.9875 - val_loss: 0.1716 - val_accuracy: 0.9444\n",
            "6/6 [==============================] - 0s 2ms/step - loss: 0.1716 - accuracy: 0.9444\n",
            "The dev accuracy is 0.9444444179534912\n"
          ],
          "name": "stdout"
        }
      ]
    },
    {
      "cell_type": "markdown",
      "metadata": {
        "colab_type": "text",
        "id": "zHn5qxxr1p-o"
      },
      "source": [
        "## Plotting Accuracy & Validation Accuracy with Epoch"
      ]
    },
    {
      "cell_type": "markdown",
      "metadata": {
        "id": "njeYnrt7ocXT",
        "colab_type": "text"
      },
      "source": [
        "## Plotting Loss & Validation Loss with Epoch"
      ]
    },
    {
      "cell_type": "code",
      "metadata": {
        "colab_type": "code",
        "id": "okOo2Hzm1p-p",
        "colab": {
          "base_uri": "https://localhost:8080/",
          "height": 899
        },
        "outputId": "777edc4d-4d11-4d09-bd40-a34ae0daaca7"
      },
      "source": [
        "plt.figure(figsize = (10,7))\n",
        "plt.plot(digits_history.history['accuracy'], color = 'blue')\n",
        "plt.plot(digits_history.history['val_accuracy'], color = 'red')\n",
        "plt.title('Model accuracy')\n",
        "plt.ylabel('Accuracy')\n",
        "plt.xlabel('Epoch')\n",
        "plt.legend(['Train', 'Validation'], loc='upper left')\n",
        "plt.show()\n",
        "\n",
        "plt.figure(figsize = (10,7))\n",
        "plt.plot(digits_history.history['loss'], color = 'blue')\n",
        "plt.plot(digits_history.history['val_loss'], color = 'red')\n",
        "# plt.ylim((0,3))\n",
        "plt.title('Model loss')\n",
        "plt.ylabel('Loss')\n",
        "plt.xlabel('Epoch')\n",
        "plt.legend(['Train', 'Validation'], loc='upper left')\n",
        "plt.show()"
      ],
      "execution_count": null,
      "outputs": [
        {
          "output_type": "display_data",
          "data": {
            "image/png": "[encoded data removed]",
            "text/plain": [
              "<Figure size 720x504 with 1 Axes>"
            ]
          },
          "metadata": {
            "tags": [],
            "needs_background": "light"
          }
        },
        {
          "output_type": "display_data",
          "data": {
            "image/png": "[encoded data removed]",
            "text/plain": [
              "<Figure size 720x504 with 1 Axes>"
            ]
          },
          "metadata": {
            "tags": [],
            "needs_background": "light"
          }
        }
      ]
    },
    {
      "cell_type": "code",
      "metadata": {
        "colab_type": "code",
        "id": "QlPRogVY1p-t",
        "colab": {
          "base_uri": "https://localhost:8080/",
          "height": 51
        },
        "outputId": "983d12b9-a000-4428-ae54-7b88fb96256f"
      },
      "source": [
        "digits_test_acc = nn_digits.evaluate(x_test, y_test)[1]\n",
        "print('The test accuracy is', digits_test_acc)"
      ],
      "execution_count": null,
      "outputs": [
        {
          "output_type": "stream",
          "text": [
            "6/6 [==============================] - 0s 2ms/step - loss: 0.1533 - accuracy: 0.9500\n",
            "The test accuracy is 0.949999988079071\n"
          ],
          "name": "stdout"
        }
      ]
    },
    {
      "cell_type": "markdown",
      "metadata": {
        "colab_type": "text",
        "id": "TNPLboC_1sli"
      },
      "source": [
        "# Wine Dataset"
      ]
    },
    {
      "cell_type": "markdown",
      "metadata": {
        "colab_type": "text",
        "id": "aJbDLcfl1slj"
      },
      "source": [
        "## Loading the Dataset and Preprocessing "
      ]
    },
    {
      "cell_type": "code",
      "metadata": {
        "colab_type": "code",
        "id": "DfodpdkP1slj",
        "colab": {}
      },
      "source": [
        "wine = load_wine()\n",
        "x_load_wine = wine.data\n",
        "y_load_wine = wine.target"
      ],
      "execution_count": null,
      "outputs": []
    },
    {
      "cell_type": "code",
      "metadata": {
        "colab_type": "code",
        "id": "bqr6BXUs1sll",
        "colab": {
          "base_uri": "https://localhost:8080/",
          "height": 51
        },
        "outputId": "6a18b0f9-ef1c-4237-ae8c-e179f3672bd2"
      },
      "source": [
        "x_wine = pd.DataFrame(x_load_wine)\n",
        "y_wine = pd.DataFrame(y_load_wine)\n",
        "print(x_wine.shape)\n",
        "print(y_wine.shape)"
      ],
      "execution_count": null,
      "outputs": [
        {
          "output_type": "stream",
          "text": [
            "(178, 13)\n",
            "(178, 1)\n"
          ],
          "name": "stdout"
        }
      ]
    },
    {
      "cell_type": "code",
      "metadata": {
        "colab_type": "code",
        "id": "2Bh3RkXb1sln",
        "colab": {}
      },
      "source": [
        "sc = StandardScaler()\n",
        "x_wine = pd.DataFrame(sc.fit_transform(x_wine))"
      ],
      "execution_count": null,
      "outputs": []
    },
    {
      "cell_type": "markdown",
      "metadata": {
        "colab_type": "text",
        "id": "QGYKWD8i1slo"
      },
      "source": [
        "## Making a Neural Network"
      ]
    },
    {
      "cell_type": "code",
      "metadata": {
        "colab_type": "code",
        "id": "1w-fMWoJ1slo",
        "colab": {
          "base_uri": "https://localhost:8080/",
          "height": 68
        },
        "outputId": "f7f82b42-cc58-4489-9d6d-65f213ae3ce7"
      },
      "source": [
        "y_wine = to_categorical(y_wine)\n",
        "x_train, x_test, y_train, y_test = train_test_split(x_wine, y_wine, test_size = 0.2, shuffle = True)\n",
        "x_dev, x_test, y_dev, y_test = train_test_split(x_test, y_test, test_size = 0.5, shuffle = True)\n",
        "print(x_train.shape, y_train.shape)\n",
        "print(x_dev.shape, y_dev.shape)\n",
        "print(x_test.shape, y_test.shape)"
      ],
      "execution_count": null,
      "outputs": [
        {
          "output_type": "stream",
          "text": [
            "(142, 13) (142, 3)\n",
            "(18, 13) (18, 3)\n",
            "(18, 13) (18, 3)\n"
          ],
          "name": "stdout"
        }
      ]
    },
    {
      "cell_type": "code",
      "metadata": {
        "colab_type": "code",
        "id": "fe-3p9o41slr",
        "colab": {}
      },
      "source": [
        "nn_wine = models.Sequential()\n",
        "\n",
        "nn_wine.add(layers.Dense(128, activation = 'relu', input_shape = (13, )))\n",
        "nn_wine.add(layers.Dense(32, activation = 'relu'))\n",
        "nn_wine.add(layers.Dense(3, activation = 'sigmoid'))\n",
        "\n",
        "nn_wine.compile(optimizer = 'sgd', loss = 'categorical_crossentropy', metrics = ['accuracy'])"
      ],
      "execution_count": null,
      "outputs": []
    },
    {
      "cell_type": "code",
      "metadata": {
        "colab_type": "code",
        "id": "JQdlOSkG1sls",
        "colab": {
          "base_uri": "https://localhost:8080/",
          "height": 1000
        },
        "outputId": "f1b8e0da-7a69-4283-bcd4-fa28dd48371b"
      },
      "source": [
        "wine_history = nn_wine.fit(x_train, y_train, epochs = 75, validation_data = (x_dev, y_dev))\n",
        "\n",
        "wine_dev_acc = nn_wine.evaluate(x_dev, y_dev)[1]\n",
        "print('The dev accuracy is', wine_dev_acc)"
      ],
      "execution_count": null,
      "outputs": [
        {
          "output_type": "stream",
          "text": [
            "Epoch 1/75\n",
            "5/5 [==============================] - 0s 35ms/step - loss: 1.0770 - accuracy: 0.4437 - val_loss: 1.0842 - val_accuracy: 0.2778\n",
            "Epoch 2/75\n",
            "5/5 [==============================] - 0s 5ms/step - loss: 1.0607 - accuracy: 0.4718 - val_loss: 1.0726 - val_accuracy: 0.3333\n",
            "Epoch 3/75\n",
            "5/5 [==============================] - 0s 4ms/step - loss: 1.0447 - accuracy: 0.5211 - val_loss: 1.0611 - val_accuracy: 0.3333\n",
            "Epoch 4/75\n",
            "5/5 [==============================] - 0s 4ms/step - loss: 1.0288 - accuracy: 0.5845 - val_loss: 1.0497 - val_accuracy: 0.4444\n",
            "Epoch 5/75\n",
            "5/5 [==============================] - 0s 4ms/step - loss: 1.0134 - accuracy: 0.6268 - val_loss: 1.0387 - val_accuracy: 0.4444\n",
            "Epoch 6/75\n",
            "5/5 [==============================] - 0s 5ms/step - loss: 0.9985 - accuracy: 0.6901 - val_loss: 1.0280 - val_accuracy: 0.5000\n",
            "Epoch 7/75\n",
            "5/5 [==============================] - 0s 4ms/step - loss: 0.9840 - accuracy: 0.7394 - val_loss: 1.0178 - val_accuracy: 0.6667\n",
            "Epoch 8/75\n",
            "5/5 [==============================] - 0s 4ms/step - loss: 0.9705 - accuracy: 0.7676 - val_loss: 1.0077 - val_accuracy: 0.7222\n",
            "Epoch 9/75\n",
            "5/5 [==============================] - 0s 4ms/step - loss: 0.9570 - accuracy: 0.8169 - val_loss: 0.9977 - val_accuracy: 0.7222\n",
            "Epoch 10/75\n",
            "5/5 [==============================] - 0s 5ms/step - loss: 0.9439 - accuracy: 0.8592 - val_loss: 0.9875 - val_accuracy: 0.7222\n",
            "Epoch 11/75\n",
            "5/5 [==============================] - 0s 4ms/step - loss: 0.9311 - accuracy: 0.8732 - val_loss: 0.9777 - val_accuracy: 0.7778\n",
            "Epoch 12/75\n",
            "5/5 [==============================] - 0s 4ms/step - loss: 0.9187 - accuracy: 0.8803 - val_loss: 0.9679 - val_accuracy: 0.7778\n",
            "Epoch 13/75\n",
            "5/5 [==============================] - 0s 4ms/step - loss: 0.9060 - accuracy: 0.9014 - val_loss: 0.9583 - val_accuracy: 0.7778\n",
            "Epoch 14/75\n",
            "5/5 [==============================] - 0s 4ms/step - loss: 0.8937 - accuracy: 0.9155 - val_loss: 0.9489 - val_accuracy: 0.8333\n",
            "Epoch 15/75\n",
            "5/5 [==============================] - 0s 4ms/step - loss: 0.8812 - accuracy: 0.9155 - val_loss: 0.9395 - val_accuracy: 0.8333\n",
            "Epoch 16/75\n",
            "5/5 [==============================] - 0s 4ms/step - loss: 0.8694 - accuracy: 0.9225 - val_loss: 0.9303 - val_accuracy: 0.8333\n",
            "Epoch 17/75\n",
            "5/5 [==============================] - 0s 4ms/step - loss: 0.8576 - accuracy: 0.9225 - val_loss: 0.9207 - val_accuracy: 0.8333\n",
            "Epoch 18/75\n",
            "5/5 [==============================] - 0s 4ms/step - loss: 0.8457 - accuracy: 0.9225 - val_loss: 0.9110 - val_accuracy: 0.8333\n",
            "Epoch 19/75\n",
            "5/5 [==============================] - 0s 4ms/step - loss: 0.8341 - accuracy: 0.9225 - val_loss: 0.9008 - val_accuracy: 0.8333\n",
            "Epoch 20/75\n",
            "5/5 [==============================] - 0s 4ms/step - loss: 0.8222 - accuracy: 0.9225 - val_loss: 0.8908 - val_accuracy: 0.8333\n",
            "Epoch 21/75\n",
            "5/5 [==============================] - 0s 6ms/step - loss: 0.8102 - accuracy: 0.9296 - val_loss: 0.8806 - val_accuracy: 0.8333\n",
            "Epoch 22/75\n",
            "5/5 [==============================] - 0s 4ms/step - loss: 0.7983 - accuracy: 0.9296 - val_loss: 0.8706 - val_accuracy: 0.8333\n",
            "Epoch 23/75\n",
            "5/5 [==============================] - 0s 4ms/step - loss: 0.7862 - accuracy: 0.9225 - val_loss: 0.8607 - val_accuracy: 0.8333\n",
            "Epoch 24/75\n",
            "5/5 [==============================] - 0s 4ms/step - loss: 0.7744 - accuracy: 0.9225 - val_loss: 0.8505 - val_accuracy: 0.8333\n",
            "Epoch 25/75\n",
            "5/5 [==============================] - 0s 5ms/step - loss: 0.7622 - accuracy: 0.9225 - val_loss: 0.8405 - val_accuracy: 0.8333\n",
            "Epoch 26/75\n",
            "5/5 [==============================] - 0s 4ms/step - loss: 0.7505 - accuracy: 0.9225 - val_loss: 0.8302 - val_accuracy: 0.8333\n",
            "Epoch 27/75\n",
            "5/5 [==============================] - 0s 5ms/step - loss: 0.7382 - accuracy: 0.9225 - val_loss: 0.8200 - val_accuracy: 0.8333\n",
            "Epoch 28/75\n",
            "5/5 [==============================] - 0s 4ms/step - loss: 0.7260 - accuracy: 0.9225 - val_loss: 0.8099 - val_accuracy: 0.8333\n",
            "Epoch 29/75\n",
            "5/5 [==============================] - 0s 5ms/step - loss: 0.7140 - accuracy: 0.9225 - val_loss: 0.7995 - val_accuracy: 0.8333\n",
            "Epoch 30/75\n",
            "5/5 [==============================] - 0s 4ms/step - loss: 0.7021 - accuracy: 0.9225 - val_loss: 0.7892 - val_accuracy: 0.8333\n",
            "Epoch 31/75\n",
            "5/5 [==============================] - 0s 4ms/step - loss: 0.6906 - accuracy: 0.9225 - val_loss: 0.7788 - val_accuracy: 0.8333\n",
            "Epoch 32/75\n",
            "5/5 [==============================] - 0s 5ms/step - loss: 0.6788 - accuracy: 0.9225 - val_loss: 0.7686 - val_accuracy: 0.8333\n",
            "Epoch 33/75\n",
            "5/5 [==============================] - 0s 4ms/step - loss: 0.6674 - accuracy: 0.9296 - val_loss: 0.7584 - val_accuracy: 0.8333\n",
            "Epoch 34/75\n",
            "5/5 [==============================] - 0s 4ms/step - loss: 0.6558 - accuracy: 0.9296 - val_loss: 0.7480 - val_accuracy: 0.8333\n",
            "Epoch 35/75\n",
            "5/5 [==============================] - 0s 4ms/step - loss: 0.6442 - accuracy: 0.9296 - val_loss: 0.7378 - val_accuracy: 0.8889\n",
            "Epoch 36/75\n",
            "5/5 [==============================] - 0s 4ms/step - loss: 0.6330 - accuracy: 0.9225 - val_loss: 0.7278 - val_accuracy: 0.8889\n",
            "Epoch 37/75\n",
            "5/5 [==============================] - 0s 4ms/step - loss: 0.6215 - accuracy: 0.9225 - val_loss: 0.7176 - val_accuracy: 0.8889\n",
            "Epoch 38/75\n",
            "5/5 [==============================] - 0s 4ms/step - loss: 0.6103 - accuracy: 0.9225 - val_loss: 0.7075 - val_accuracy: 0.8889\n",
            "Epoch 39/75\n",
            "5/5 [==============================] - 0s 4ms/step - loss: 0.5994 - accuracy: 0.9225 - val_loss: 0.6976 - val_accuracy: 0.8889\n",
            "Epoch 40/75\n",
            "5/5 [==============================] - 0s 4ms/step - loss: 0.5886 - accuracy: 0.9225 - val_loss: 0.6878 - val_accuracy: 0.8889\n",
            "Epoch 41/75\n",
            "5/5 [==============================] - 0s 5ms/step - loss: 0.5780 - accuracy: 0.9296 - val_loss: 0.6780 - val_accuracy: 0.8889\n",
            "Epoch 42/75\n",
            "5/5 [==============================] - 0s 5ms/step - loss: 0.5673 - accuracy: 0.9296 - val_loss: 0.6681 - val_accuracy: 0.8889\n",
            "Epoch 43/75\n",
            "5/5 [==============================] - 0s 4ms/step - loss: 0.5570 - accuracy: 0.9296 - val_loss: 0.6585 - val_accuracy: 0.8889\n",
            "Epoch 44/75\n",
            "5/5 [==============================] - 0s 5ms/step - loss: 0.5468 - accuracy: 0.9296 - val_loss: 0.6490 - val_accuracy: 0.8889\n",
            "Epoch 45/75\n",
            "5/5 [==============================] - 0s 4ms/step - loss: 0.5368 - accuracy: 0.9296 - val_loss: 0.6395 - val_accuracy: 0.8889\n",
            "Epoch 46/75\n",
            "5/5 [==============================] - 0s 4ms/step - loss: 0.5269 - accuracy: 0.9296 - val_loss: 0.6302 - val_accuracy: 0.8889\n",
            "Epoch 47/75\n",
            "5/5 [==============================] - 0s 4ms/step - loss: 0.5172 - accuracy: 0.9296 - val_loss: 0.6207 - val_accuracy: 0.8889\n",
            "Epoch 48/75\n",
            "5/5 [==============================] - 0s 4ms/step - loss: 0.5077 - accuracy: 0.9296 - val_loss: 0.6116 - val_accuracy: 0.8889\n",
            "Epoch 49/75\n",
            "5/5 [==============================] - 0s 5ms/step - loss: 0.4984 - accuracy: 0.9366 - val_loss: 0.6023 - val_accuracy: 0.8889\n",
            "Epoch 50/75\n",
            "5/5 [==============================] - 0s 4ms/step - loss: 0.4892 - accuracy: 0.9437 - val_loss: 0.5932 - val_accuracy: 0.8889\n",
            "Epoch 51/75\n",
            "5/5 [==============================] - 0s 4ms/step - loss: 0.4800 - accuracy: 0.9507 - val_loss: 0.5841 - val_accuracy: 0.8889\n",
            "Epoch 52/75\n",
            "5/5 [==============================] - 0s 5ms/step - loss: 0.4711 - accuracy: 0.9507 - val_loss: 0.5753 - val_accuracy: 0.8889\n",
            "Epoch 53/75\n",
            "5/5 [==============================] - 0s 4ms/step - loss: 0.4622 - accuracy: 0.9507 - val_loss: 0.5667 - val_accuracy: 0.8889\n",
            "Epoch 54/75\n",
            "5/5 [==============================] - 0s 5ms/step - loss: 0.4534 - accuracy: 0.9507 - val_loss: 0.5580 - val_accuracy: 0.8889\n",
            "Epoch 55/75\n",
            "5/5 [==============================] - 0s 4ms/step - loss: 0.4449 - accuracy: 0.9507 - val_loss: 0.5494 - val_accuracy: 0.8889\n",
            "Epoch 56/75\n",
            "5/5 [==============================] - 0s 4ms/step - loss: 0.4365 - accuracy: 0.9507 - val_loss: 0.5413 - val_accuracy: 0.8889\n",
            "Epoch 57/75\n",
            "5/5 [==============================] - 0s 4ms/step - loss: 0.4282 - accuracy: 0.9507 - val_loss: 0.5330 - val_accuracy: 0.8889\n",
            "Epoch 58/75\n",
            "5/5 [==============================] - 0s 5ms/step - loss: 0.4202 - accuracy: 0.9507 - val_loss: 0.5247 - val_accuracy: 0.8889\n",
            "Epoch 59/75\n",
            "5/5 [==============================] - 0s 4ms/step - loss: 0.4123 - accuracy: 0.9507 - val_loss: 0.5165 - val_accuracy: 0.8889\n",
            "Epoch 60/75\n",
            "5/5 [==============================] - 0s 5ms/step - loss: 0.4041 - accuracy: 0.9507 - val_loss: 0.5082 - val_accuracy: 0.8889\n",
            "Epoch 61/75\n",
            "5/5 [==============================] - 0s 5ms/step - loss: 0.3961 - accuracy: 0.9577 - val_loss: 0.5000 - val_accuracy: 0.8889\n",
            "Epoch 62/75\n",
            "5/5 [==============================] - 0s 4ms/step - loss: 0.3883 - accuracy: 0.9577 - val_loss: 0.4922 - val_accuracy: 0.8889\n",
            "Epoch 63/75\n",
            "5/5 [==============================] - 0s 5ms/step - loss: 0.3806 - accuracy: 0.9577 - val_loss: 0.4845 - val_accuracy: 0.8889\n",
            "Epoch 64/75\n",
            "5/5 [==============================] - 0s 4ms/step - loss: 0.3731 - accuracy: 0.9577 - val_loss: 0.4766 - val_accuracy: 0.8889\n",
            "Epoch 65/75\n",
            "5/5 [==============================] - 0s 4ms/step - loss: 0.3656 - accuracy: 0.9577 - val_loss: 0.4686 - val_accuracy: 0.8889\n",
            "Epoch 66/75\n",
            "5/5 [==============================] - 0s 5ms/step - loss: 0.3580 - accuracy: 0.9577 - val_loss: 0.4607 - val_accuracy: 0.8889\n",
            "Epoch 67/75\n",
            "5/5 [==============================] - 0s 4ms/step - loss: 0.3507 - accuracy: 0.9577 - val_loss: 0.4533 - val_accuracy: 0.8889\n",
            "Epoch 68/75\n",
            "5/5 [==============================] - 0s 4ms/step - loss: 0.3436 - accuracy: 0.9577 - val_loss: 0.4457 - val_accuracy: 0.8889\n",
            "Epoch 69/75\n",
            "5/5 [==============================] - 0s 5ms/step - loss: 0.3361 - accuracy: 0.9648 - val_loss: 0.4382 - val_accuracy: 0.8889\n",
            "Epoch 70/75\n",
            "5/5 [==============================] - 0s 4ms/step - loss: 0.3289 - accuracy: 0.9648 - val_loss: 0.4308 - val_accuracy: 0.8889\n",
            "Epoch 71/75\n",
            "5/5 [==============================] - 0s 4ms/step - loss: 0.3219 - accuracy: 0.9648 - val_loss: 0.4236 - val_accuracy: 0.8889\n",
            "Epoch 72/75\n",
            "5/5 [==============================] - 0s 4ms/step - loss: 0.3149 - accuracy: 0.9718 - val_loss: 0.4161 - val_accuracy: 0.8889\n",
            "Epoch 73/75\n",
            "5/5 [==============================] - 0s 4ms/step - loss: 0.3077 - accuracy: 0.9718 - val_loss: 0.4090 - val_accuracy: 0.8889\n",
            "Epoch 74/75\n",
            "5/5 [==============================] - 0s 4ms/step - loss: 0.3008 - accuracy: 0.9718 - val_loss: 0.4020 - val_accuracy: 0.9444\n",
            "Epoch 75/75\n",
            "5/5 [==============================] - 0s 4ms/step - loss: 0.2940 - accuracy: 0.9718 - val_loss: 0.3950 - val_accuracy: 0.9444\n",
            "1/1 [==============================] - 0s 2ms/step - loss: 0.3950 - accuracy: 0.9444\n",
            "The dev accuracy is 0.9444444179534912\n"
          ],
          "name": "stdout"
        }
      ]
    },
    {
      "cell_type": "markdown",
      "metadata": {
        "colab_type": "text",
        "id": "X2IU2Z2f1slu"
      },
      "source": [
        "## Plotting Accuracy & Validation Accuracy with Epoch"
      ]
    },
    {
      "cell_type": "markdown",
      "metadata": {
        "id": "SwSBozF3om8I",
        "colab_type": "text"
      },
      "source": [
        "## Plotting Loss & Validation Loss with Epoch"
      ]
    },
    {
      "cell_type": "code",
      "metadata": {
        "colab_type": "code",
        "id": "JBIjT_rO1slv",
        "colab": {
          "base_uri": "https://localhost:8080/",
          "height": 899
        },
        "outputId": "3d1b802e-f1ed-4264-d50e-b89299ca7a1e"
      },
      "source": [
        "plt.figure(figsize = (10,7))\n",
        "plt.plot(wine_history.history['accuracy'], color = 'blue')\n",
        "plt.plot(wine_history.history['val_accuracy'], color = 'red')\n",
        "plt.title('Model accuracy')\n",
        "plt.ylabel('Accuracy')\n",
        "plt.xlabel('Epoch')\n",
        "plt.legend(['Train', 'Validation'], loc='upper left')\n",
        "plt.show()\n",
        "\n",
        "plt.figure(figsize = (10,7))\n",
        "plt.plot(wine_history.history['loss'], color = 'blue')\n",
        "plt.plot(wine_history.history['val_loss'], color = 'red')\n",
        "# plt.ylim((0,3))\n",
        "plt.title('Model loss')\n",
        "plt.ylabel('Loss')\n",
        "plt.xlabel('Epoch')\n",
        "plt.legend(['Train', 'Validation'], loc='upper left')\n",
        "plt.show()"
      ],
      "execution_count": null,
      "outputs": [
        {
          "output_type": "display_data",
          "data": {
            "image/png": "[encoded data removed]",
            "text/plain": [
              "<Figure size 720x504 with 1 Axes>"
            ]
          },
          "metadata": {
            "tags": [],
            "needs_background": "light"
          }
        },
        {
          "output_type": "display_data",
          "data": {
            "image/png": "[encoded data removed]",
            "text/plain": [
              "<Figure size 720x504 with 1 Axes>"
            ]
          },
          "metadata": {
            "tags": [],
            "needs_background": "light"
          }
        }
      ]
    },
    {
      "cell_type": "code",
      "metadata": {
        "colab_type": "code",
        "id": "i4edNRv61sly",
        "colab": {
          "base_uri": "https://localhost:8080/",
          "height": 51
        },
        "outputId": "0ac43e9a-8745-4797-f126-d8af157efdc1"
      },
      "source": [
        "wine_test_acc = nn_wine.evaluate(x_test, y_test)[1]\n",
        "print('The test accuracy is', wine_test_acc)"
      ],
      "execution_count": null,
      "outputs": [
        {
          "output_type": "stream",
          "text": [
            "1/1 [==============================] - 0s 1ms/step - loss: 0.3213 - accuracy: 1.0000\n",
            "The test accuracy is 1.0\n"
          ],
          "name": "stdout"
        }
      ]
    }
  ]
}