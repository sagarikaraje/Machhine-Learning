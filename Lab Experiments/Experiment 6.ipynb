{
  "nbformat": 4,
  "nbformat_minor": 0,
  "metadata": {
    "colab": {
      "name": "Experiment 6",
      "provenance": [],
      "collapsed_sections": [],
      "toc_visible": true,
      "include_colab_link": true
    },
    "kernelspec": {
      "name": "python3",
      "display_name": "Python 3"
    }
  },
  "cells": [
    {
      "cell_type": "markdown",
      "metadata": {
        "id": "view-in-github",
        "colab_type": "text"
      },
      "source": [
        "<a href=\"https://colab.research.google.com/github/sagarikaraje/Machine-Learning/blob/master/Lab%20Experiments/Experiment%206.ipynb\" target=\"_parent\"><img src=\"https://colab.research.google.com/assets/colab-badge.svg\" alt=\"Open In Colab\"/></a>"
      ]
    },
    {
      "cell_type": "markdown",
      "metadata": {
        "id": "eyQyelMpKu8L",
        "colab_type": "text"
      },
      "source": [
        "#NEURAL NETWORKS"
      ]
    },
    {
      "cell_type": "markdown",
      "metadata": {
        "id": "XccdkjVyBgNi",
        "colab_type": "text"
      },
      "source": [
        "##IMPORTING PACKAGES"
      ]
    },
    {
      "cell_type": "code",
      "metadata": {
        "id": "hhV6CTMUBjDi",
        "colab_type": "code",
        "colab": {
          "base_uri": "https://localhost:8080/",
          "height": 72
        },
        "outputId": "f785d880-3b3a-4a5d-afe6-4d9b683bb874"
      },
      "source": [
        "import numpy as np\n",
        "import pandas as pd\n",
        "\n",
        "import matplotlib.pyplot as plt\n",
        "import seaborn as sns\n",
        "\n",
        "from sklearn.model_selection import train_test_split, cross_val_score\n",
        "from sklearn.preprocessing import StandardScaler\n",
        "\n",
        "import warnings\n",
        "warnings.filterwarnings('ignore')\n",
        "\n",
        "np.random.seed(27)"
      ],
      "execution_count": 1,
      "outputs": [
        {
          "output_type": "stream",
          "text": [
            "/usr/local/lib/python3.6/dist-packages/statsmodels/tools/_testing.py:19: FutureWarning: pandas.util.testing is deprecated. Use the functions in the public API at pandas.testing instead.\n",
            "  import pandas.util.testing as tm\n"
          ],
          "name": "stderr"
        }
      ]
    },
    {
      "cell_type": "markdown",
      "metadata": {
        "id": "MNslkxeABeSU",
        "colab_type": "text"
      },
      "source": [
        "##IMPORTING DATA"
      ]
    },
    {
      "cell_type": "code",
      "metadata": {
        "id": "DY9PLC1gAxXm",
        "colab_type": "code",
        "colab": {
          "base_uri": "https://localhost:8080/",
          "height": 609
        },
        "outputId": "a0af866d-4e04-47a0-ea9f-b052e0d3c063"
      },
      "source": [
        "!wget -O 2011gcn.csv https://raw.githubusercontent.com/pranavn91/blockchain/master/2011gcn.csv\n",
        "!wget -O tx2011partvertices_new.csv https://raw.githubusercontent.com/pranavn91/blockchain/master/tx2011partvertices_new.csv\n",
        "!wget -O tx2011partvertices.csv https://raw.githubusercontent.com/pranavn91/blockchain/master/tx2011partvertices.csv\n",
        " \n",
        "train1 = pd.read_csv('2011gcn.csv')\n",
        "train2 = pd.read_csv('tx2011partvertices_new.csv')\n",
        "train3 = pd.read_csv('tx2011partvertices.csv')\n"
      ],
      "execution_count": 2,
      "outputs": [
        {
          "output_type": "stream",
          "text": [
            "--2020-08-30 16:28:07--  https://raw.githubusercontent.com/pranavn91/blockchain/master/2011gcn.csv\n",
            "Resolving raw.githubusercontent.com (raw.githubusercontent.com)... 151.101.0.133, 151.101.64.133, 151.101.128.133, ...\n",
            "Connecting to raw.githubusercontent.com (raw.githubusercontent.com)|151.101.0.133|:443... connected.\n",
            "HTTP request sent, awaiting response... 200 OK\n",
            "Length: 12563086 (12M) [text/plain]\n",
            "Saving to: ‘2011gcn.csv’\n",
            "\n",
            "2011gcn.csv         100%[===================>]  11.98M  22.0MB/s    in 0.5s    \n",
            "\n",
            "2020-08-30 16:28:07 (22.0 MB/s) - ‘2011gcn.csv’ saved [12563086/12563086]\n",
            "\n",
            "--2020-08-30 16:28:07--  https://raw.githubusercontent.com/pranavn91/blockchain/master/tx2011partvertices_new.csv\n",
            "Resolving raw.githubusercontent.com (raw.githubusercontent.com)... 151.101.0.133, 151.101.64.133, 151.101.128.133, ...\n",
            "Connecting to raw.githubusercontent.com (raw.githubusercontent.com)|151.101.0.133|:443... connected.\n",
            "HTTP request sent, awaiting response... 200 OK\n",
            "Length: 12501458 (12M) [text/plain]\n",
            "Saving to: ‘tx2011partvertices_new.csv’\n",
            "\n",
            "tx2011partvertices_ 100%[===================>]  11.92M  21.4MB/s    in 0.6s    \n",
            "\n",
            "2020-08-30 16:28:08 (21.4 MB/s) - ‘tx2011partvertices_new.csv’ saved [12501458/12501458]\n",
            "\n",
            "--2020-08-30 16:28:08--  https://raw.githubusercontent.com/pranavn91/blockchain/master/tx2011partvertices.csv\n",
            "Resolving raw.githubusercontent.com (raw.githubusercontent.com)... 151.101.0.133, 151.101.64.133, 151.101.128.133, ...\n",
            "Connecting to raw.githubusercontent.com (raw.githubusercontent.com)|151.101.0.133|:443... connected.\n",
            "HTTP request sent, awaiting response... 200 OK\n",
            "Length: 1934257 (1.8M) [text/plain]\n",
            "Saving to: ‘tx2011partvertices.csv’\n",
            "\n",
            "tx2011partvertices. 100%[===================>]   1.84M  --.-KB/s    in 0.1s    \n",
            "\n",
            "2020-08-30 16:28:08 (12.8 MB/s) - ‘tx2011partvertices.csv’ saved [1934257/1934257]\n",
            "\n"
          ],
          "name": "stdout"
        }
      ]
    },
    {
      "cell_type": "markdown",
      "metadata": {
        "id": "ylvs6e8yHt7u",
        "colab_type": "text"
      },
      "source": [
        "##DATA PREPROCESSING"
      ]
    },
    {
      "cell_type": "code",
      "metadata": {
        "id": "MfkYDKFdB5P5",
        "colab_type": "code",
        "colab": {
          "base_uri": "https://localhost:8080/",
          "height": 69
        },
        "outputId": "44bb513b-14b6-4b74-a7b8-ab5a300622c3"
      },
      "source": [
        "print('Train 1 Shape: ', train1.shape)\n",
        "print('Train 2 Shape: ', train2.shape)\n",
        "print('Train 3 Shape: ', train3.shape)"
      ],
      "execution_count": 3,
      "outputs": [
        {
          "output_type": "stream",
          "text": [
            "Train 1 Shape:  (96498, 17)\n",
            "Train 2 Shape:  (96498, 20)\n",
            "Train 3 Shape:  (96498, 2)\n"
          ],
          "name": "stdout"
        }
      ]
    },
    {
      "cell_type": "code",
      "metadata": {
        "id": "iX1MFPhDB9ty",
        "colab_type": "code",
        "colab": {
          "base_uri": "https://localhost:8080/",
          "height": 222
        },
        "outputId": "3353a53f-15e6-4e94-ef9a-5c80dee5dc81"
      },
      "source": [
        "train1.rename(columns={'Unnamed: 0':'index'}, inplace=True)\n",
        "train1['index'] = train1['index'] + 1\n",
        "train1.head()"
      ],
      "execution_count": 4,
      "outputs": [
        {
          "output_type": "execute_result",
          "data": {
            "text/html": [
              "<div>\n",
              "<style scoped>\n",
              "    .dataframe tbody tr th:only-of-type {\n",
              "        vertical-align: middle;\n",
              "    }\n",
              "\n",
              "    .dataframe tbody tr th {\n",
              "        vertical-align: top;\n",
              "    }\n",
              "\n",
              "    .dataframe thead th {\n",
              "        text-align: right;\n",
              "    }\n",
              "</style>\n",
              "<table border=\"1\" class=\"dataframe\">\n",
              "  <thead>\n",
              "    <tr style=\"text-align: right;\">\n",
              "      <th></th>\n",
              "      <th>index</th>\n",
              "      <th>0</th>\n",
              "      <th>1</th>\n",
              "      <th>2</th>\n",
              "      <th>3</th>\n",
              "      <th>4</th>\n",
              "      <th>5</th>\n",
              "      <th>6</th>\n",
              "      <th>7</th>\n",
              "      <th>8</th>\n",
              "      <th>9</th>\n",
              "      <th>10</th>\n",
              "      <th>11</th>\n",
              "      <th>12</th>\n",
              "      <th>13</th>\n",
              "      <th>14</th>\n",
              "      <th>15</th>\n",
              "    </tr>\n",
              "  </thead>\n",
              "  <tbody>\n",
              "    <tr>\n",
              "      <th>0</th>\n",
              "      <td>1</td>\n",
              "      <td>0.0</td>\n",
              "      <td>4.811244e+07</td>\n",
              "      <td>0.0</td>\n",
              "      <td>0.0</td>\n",
              "      <td>5.298934e+07</td>\n",
              "      <td>0.0</td>\n",
              "      <td>5.215435e+07</td>\n",
              "      <td>0.0</td>\n",
              "      <td>0.0</td>\n",
              "      <td>4.293262e+05</td>\n",
              "      <td>3.994267e+07</td>\n",
              "      <td>6.251989e+07</td>\n",
              "      <td>0.0</td>\n",
              "      <td>0.0</td>\n",
              "      <td>2.670458e+07</td>\n",
              "      <td>8.313858e+07</td>\n",
              "    </tr>\n",
              "    <tr>\n",
              "      <th>1</th>\n",
              "      <td>2</td>\n",
              "      <td>0.0</td>\n",
              "      <td>3.477977e+05</td>\n",
              "      <td>0.0</td>\n",
              "      <td>0.0</td>\n",
              "      <td>3.777575e+05</td>\n",
              "      <td>0.0</td>\n",
              "      <td>3.757520e+05</td>\n",
              "      <td>0.0</td>\n",
              "      <td>0.0</td>\n",
              "      <td>6.889133e+03</td>\n",
              "      <td>3.001618e+05</td>\n",
              "      <td>4.527358e+05</td>\n",
              "      <td>0.0</td>\n",
              "      <td>0.0</td>\n",
              "      <td>1.915057e+05</td>\n",
              "      <td>6.009039e+05</td>\n",
              "    </tr>\n",
              "    <tr>\n",
              "      <th>2</th>\n",
              "      <td>3</td>\n",
              "      <td>0.0</td>\n",
              "      <td>6.455196e+07</td>\n",
              "      <td>0.0</td>\n",
              "      <td>0.0</td>\n",
              "      <td>7.110790e+07</td>\n",
              "      <td>0.0</td>\n",
              "      <td>6.997804e+07</td>\n",
              "      <td>0.0</td>\n",
              "      <td>0.0</td>\n",
              "      <td>5.670157e+05</td>\n",
              "      <td>5.356332e+07</td>\n",
              "      <td>8.388026e+07</td>\n",
              "      <td>0.0</td>\n",
              "      <td>0.0</td>\n",
              "      <td>3.583296e+07</td>\n",
              "      <td>1.115463e+08</td>\n",
              "    </tr>\n",
              "    <tr>\n",
              "      <th>3</th>\n",
              "      <td>4</td>\n",
              "      <td>0.0</td>\n",
              "      <td>2.009876e+08</td>\n",
              "      <td>0.0</td>\n",
              "      <td>0.0</td>\n",
              "      <td>2.214679e+08</td>\n",
              "      <td>0.0</td>\n",
              "      <td>2.174101e+08</td>\n",
              "      <td>0.0</td>\n",
              "      <td>0.0</td>\n",
              "      <td>1.342720e+06</td>\n",
              "      <td>1.665389e+08</td>\n",
              "      <td>2.614420e+08</td>\n",
              "      <td>0.0</td>\n",
              "      <td>0.0</td>\n",
              "      <td>1.116514e+08</td>\n",
              "      <td>3.472892e+08</td>\n",
              "    </tr>\n",
              "    <tr>\n",
              "      <th>4</th>\n",
              "      <td>5</td>\n",
              "      <td>0.0</td>\n",
              "      <td>2.384675e+05</td>\n",
              "      <td>0.0</td>\n",
              "      <td>0.0</td>\n",
              "      <td>2.597246e+05</td>\n",
              "      <td>0.0</td>\n",
              "      <td>2.577884e+05</td>\n",
              "      <td>0.0</td>\n",
              "      <td>0.0</td>\n",
              "      <td>4.202993e+03</td>\n",
              "      <td>2.042845e+05</td>\n",
              "      <td>3.103489e+05</td>\n",
              "      <td>0.0</td>\n",
              "      <td>0.0</td>\n",
              "      <td>1.315073e+05</td>\n",
              "      <td>4.120424e+05</td>\n",
              "    </tr>\n",
              "  </tbody>\n",
              "</table>\n",
              "</div>"
            ],
            "text/plain": [
              "   index    0             1    2  ...   12   13            14            15\n",
              "0      1  0.0  4.811244e+07  0.0  ...  0.0  0.0  2.670458e+07  8.313858e+07\n",
              "1      2  0.0  3.477977e+05  0.0  ...  0.0  0.0  1.915057e+05  6.009039e+05\n",
              "2      3  0.0  6.455196e+07  0.0  ...  0.0  0.0  3.583296e+07  1.115463e+08\n",
              "3      4  0.0  2.009876e+08  0.0  ...  0.0  0.0  1.116514e+08  3.472892e+08\n",
              "4      5  0.0  2.384675e+05  0.0  ...  0.0  0.0  1.315073e+05  4.120424e+05\n",
              "\n",
              "[5 rows x 17 columns]"
            ]
          },
          "metadata": {
            "tags": []
          },
          "execution_count": 4
        }
      ]
    },
    {
      "cell_type": "code",
      "metadata": {
        "id": "c6_hgsozCACW",
        "colab_type": "code",
        "colab": {
          "base_uri": "https://localhost:8080/",
          "height": 222
        },
        "outputId": "451052cb-717d-446d-b01a-75f7f329aaf9"
      },
      "source": [
        "train2.rename(columns={'Unnamed: 0':'index'}, inplace=True)\n",
        "train2.head()"
      ],
      "execution_count": 5,
      "outputs": [
        {
          "output_type": "execute_result",
          "data": {
            "text/html": [
              "<div>\n",
              "<style scoped>\n",
              "    .dataframe tbody tr th:only-of-type {\n",
              "        vertical-align: middle;\n",
              "    }\n",
              "\n",
              "    .dataframe tbody tr th {\n",
              "        vertical-align: top;\n",
              "    }\n",
              "\n",
              "    .dataframe thead th {\n",
              "        text-align: right;\n",
              "    }\n",
              "</style>\n",
              "<table border=\"1\" class=\"dataframe\">\n",
              "  <thead>\n",
              "    <tr style=\"text-align: right;\">\n",
              "      <th></th>\n",
              "      <th>index</th>\n",
              "      <th>txsize</th>\n",
              "      <th>txvirtualsize</th>\n",
              "      <th>txinputs_count</th>\n",
              "      <th>txoutputs_count</th>\n",
              "      <th>txinput_val</th>\n",
              "      <th>txoutput_val</th>\n",
              "      <th>txfee</th>\n",
              "      <th>Min_received</th>\n",
              "      <th>Max_received</th>\n",
              "      <th>Avg_received</th>\n",
              "      <th>Total_received</th>\n",
              "      <th>Stdev_received</th>\n",
              "      <th>Var_received</th>\n",
              "      <th>Min_sent</th>\n",
              "      <th>Max_sent</th>\n",
              "      <th>Avg_sent</th>\n",
              "      <th>Total_sent</th>\n",
              "      <th>Stdev_sent</th>\n",
              "      <th>Var_sent</th>\n",
              "    </tr>\n",
              "  </thead>\n",
              "  <tbody>\n",
              "    <tr>\n",
              "      <th>0</th>\n",
              "      <td>1</td>\n",
              "      <td>7369</td>\n",
              "      <td>7369</td>\n",
              "      <td>5</td>\n",
              "      <td>190</td>\n",
              "      <td>215000000.0</td>\n",
              "      <td>214600000.0</td>\n",
              "      <td>400000</td>\n",
              "      <td>0.0005</td>\n",
              "      <td>1.0000</td>\n",
              "      <td>0.011295</td>\n",
              "      <td>2.1460</td>\n",
              "      <td>0.081163</td>\n",
              "      <td>0.006587</td>\n",
              "      <td>0.0005</td>\n",
              "      <td>1.6700</td>\n",
              "      <td>0.4300</td>\n",
              "      <td>2.1500</td>\n",
              "      <td>0.703445</td>\n",
              "      <td>0.494835</td>\n",
              "    </tr>\n",
              "    <tr>\n",
              "      <th>1</th>\n",
              "      <td>2</td>\n",
              "      <td>293</td>\n",
              "      <td>293</td>\n",
              "      <td>1</td>\n",
              "      <td>3</td>\n",
              "      <td>4400000.0</td>\n",
              "      <td>4350000.0</td>\n",
              "      <td>50000</td>\n",
              "      <td>0.0010</td>\n",
              "      <td>0.0415</td>\n",
              "      <td>0.014500</td>\n",
              "      <td>0.0435</td>\n",
              "      <td>0.023383</td>\n",
              "      <td>0.000547</td>\n",
              "      <td>0.0440</td>\n",
              "      <td>0.0440</td>\n",
              "      <td>0.0440</td>\n",
              "      <td>0.0440</td>\n",
              "      <td>0.000000</td>\n",
              "      <td>0.000000</td>\n",
              "    </tr>\n",
              "    <tr>\n",
              "      <th>2</th>\n",
              "      <td>3</td>\n",
              "      <td>11139</td>\n",
              "      <td>11139</td>\n",
              "      <td>1</td>\n",
              "      <td>322</td>\n",
              "      <td>125000000.0</td>\n",
              "      <td>124400000.0</td>\n",
              "      <td>600000</td>\n",
              "      <td>0.0010</td>\n",
              "      <td>0.4460</td>\n",
              "      <td>0.003863</td>\n",
              "      <td>1.2440</td>\n",
              "      <td>0.024941</td>\n",
              "      <td>0.000622</td>\n",
              "      <td>1.2500</td>\n",
              "      <td>1.2500</td>\n",
              "      <td>1.2500</td>\n",
              "      <td>1.2500</td>\n",
              "      <td>0.000000</td>\n",
              "      <td>0.000000</td>\n",
              "    </tr>\n",
              "    <tr>\n",
              "      <th>3</th>\n",
              "      <td>4</td>\n",
              "      <td>495</td>\n",
              "      <td>495</td>\n",
              "      <td>1</td>\n",
              "      <td>9</td>\n",
              "      <td>27450000.0</td>\n",
              "      <td>27400000.0</td>\n",
              "      <td>50000</td>\n",
              "      <td>0.0010</td>\n",
              "      <td>0.2660</td>\n",
              "      <td>0.030444</td>\n",
              "      <td>0.2740</td>\n",
              "      <td>0.088333</td>\n",
              "      <td>0.007803</td>\n",
              "      <td>0.2745</td>\n",
              "      <td>0.2745</td>\n",
              "      <td>0.2745</td>\n",
              "      <td>0.2745</td>\n",
              "      <td>0.000000</td>\n",
              "      <td>0.000000</td>\n",
              "    </tr>\n",
              "    <tr>\n",
              "      <th>4</th>\n",
              "      <td>5</td>\n",
              "      <td>462</td>\n",
              "      <td>462</td>\n",
              "      <td>1</td>\n",
              "      <td>8</td>\n",
              "      <td>3000000.0</td>\n",
              "      <td>2950000.0</td>\n",
              "      <td>50000</td>\n",
              "      <td>0.0010</td>\n",
              "      <td>0.0225</td>\n",
              "      <td>0.003687</td>\n",
              "      <td>0.0295</td>\n",
              "      <td>0.007601</td>\n",
              "      <td>0.000058</td>\n",
              "      <td>0.0300</td>\n",
              "      <td>0.0300</td>\n",
              "      <td>0.0300</td>\n",
              "      <td>0.0300</td>\n",
              "      <td>0.000000</td>\n",
              "      <td>0.000000</td>\n",
              "    </tr>\n",
              "  </tbody>\n",
              "</table>\n",
              "</div>"
            ],
            "text/plain": [
              "   index  txsize  txvirtualsize  ...  Total_sent  Stdev_sent  Var_sent\n",
              "0      1    7369           7369  ...      2.1500    0.703445  0.494835\n",
              "1      2     293            293  ...      0.0440    0.000000  0.000000\n",
              "2      3   11139          11139  ...      1.2500    0.000000  0.000000\n",
              "3      4     495            495  ...      0.2745    0.000000  0.000000\n",
              "4      5     462            462  ...      0.0300    0.000000  0.000000\n",
              "\n",
              "[5 rows x 20 columns]"
            ]
          },
          "metadata": {
            "tags": []
          },
          "execution_count": 5
        }
      ]
    },
    {
      "cell_type": "code",
      "metadata": {
        "id": "XX7l55XECF-N",
        "colab_type": "code",
        "colab": {
          "base_uri": "https://localhost:8080/",
          "height": 202
        },
        "outputId": "6435dedd-0b36-4350-c6ae-62d2d7e80521"
      },
      "source": [
        "train3.rename(columns={'Unnamed: 0':'index'}, inplace=True)\n",
        "train3.head()"
      ],
      "execution_count": 6,
      "outputs": [
        {
          "output_type": "execute_result",
          "data": {
            "text/html": [
              "<div>\n",
              "<style scoped>\n",
              "    .dataframe tbody tr th:only-of-type {\n",
              "        vertical-align: middle;\n",
              "    }\n",
              "\n",
              "    .dataframe tbody tr th {\n",
              "        vertical-align: top;\n",
              "    }\n",
              "\n",
              "    .dataframe thead th {\n",
              "        text-align: right;\n",
              "    }\n",
              "</style>\n",
              "<table border=\"1\" class=\"dataframe\">\n",
              "  <thead>\n",
              "    <tr style=\"text-align: right;\">\n",
              "      <th></th>\n",
              "      <th>index</th>\n",
              "      <th>label</th>\n",
              "    </tr>\n",
              "  </thead>\n",
              "  <tbody>\n",
              "    <tr>\n",
              "      <th>0</th>\n",
              "      <td>1</td>\n",
              "      <td>unclassified</td>\n",
              "    </tr>\n",
              "    <tr>\n",
              "      <th>1</th>\n",
              "      <td>2</td>\n",
              "      <td>donations</td>\n",
              "    </tr>\n",
              "    <tr>\n",
              "      <th>2</th>\n",
              "      <td>3</td>\n",
              "      <td>unclassified</td>\n",
              "    </tr>\n",
              "    <tr>\n",
              "      <th>3</th>\n",
              "      <td>4</td>\n",
              "      <td>donations</td>\n",
              "    </tr>\n",
              "    <tr>\n",
              "      <th>4</th>\n",
              "      <td>5</td>\n",
              "      <td>donations</td>\n",
              "    </tr>\n",
              "  </tbody>\n",
              "</table>\n",
              "</div>"
            ],
            "text/plain": [
              "   index         label\n",
              "0      1  unclassified\n",
              "1      2     donations\n",
              "2      3  unclassified\n",
              "3      4     donations\n",
              "4      5     donations"
            ]
          },
          "metadata": {
            "tags": []
          },
          "execution_count": 6
        }
      ]
    },
    {
      "cell_type": "code",
      "metadata": {
        "id": "ILqtlKz2CZNZ",
        "colab_type": "code",
        "colab": {
          "base_uri": "https://localhost:8080/",
          "height": 433
        },
        "outputId": "26ff1807-01e2-4e3b-8dea-e00548459d76"
      },
      "source": [
        "train1.info()"
      ],
      "execution_count": 7,
      "outputs": [
        {
          "output_type": "stream",
          "text": [
            "<class 'pandas.core.frame.DataFrame'>\n",
            "RangeIndex: 96498 entries, 0 to 96497\n",
            "Data columns (total 17 columns):\n",
            " #   Column  Non-Null Count  Dtype  \n",
            "---  ------  --------------  -----  \n",
            " 0   index   96498 non-null  int64  \n",
            " 1   0       96498 non-null  float64\n",
            " 2   1       96498 non-null  float64\n",
            " 3   2       96498 non-null  float64\n",
            " 4   3       96498 non-null  float64\n",
            " 5   4       96498 non-null  float64\n",
            " 6   5       96498 non-null  float64\n",
            " 7   6       96498 non-null  float64\n",
            " 8   7       96498 non-null  float64\n",
            " 9   8       96498 non-null  float64\n",
            " 10  9       96498 non-null  float64\n",
            " 11  10      96498 non-null  float64\n",
            " 12  11      96498 non-null  float64\n",
            " 13  12      96498 non-null  float64\n",
            " 14  13      96498 non-null  float64\n",
            " 15  14      96498 non-null  float64\n",
            " 16  15      96498 non-null  float64\n",
            "dtypes: float64(16), int64(1)\n",
            "memory usage: 12.5 MB\n"
          ],
          "name": "stdout"
        }
      ]
    },
    {
      "cell_type": "code",
      "metadata": {
        "id": "YQiHmTacCbIl",
        "colab_type": "code",
        "colab": {
          "base_uri": "https://localhost:8080/",
          "height": 329
        },
        "outputId": "454c17b7-ac0b-47e4-a12b-8cd1d5391be3"
      },
      "source": [
        "train1.nunique()"
      ],
      "execution_count": 8,
      "outputs": [
        {
          "output_type": "execute_result",
          "data": {
            "text/plain": [
              "index    96498\n",
              "0         1346\n",
              "1        91076\n",
              "2            1\n",
              "3            6\n",
              "4        91097\n",
              "5          544\n",
              "6        91130\n",
              "7            1\n",
              "8          118\n",
              "9        88871\n",
              "10       91233\n",
              "11       91135\n",
              "12           1\n",
              "13           1\n",
              "14       90486\n",
              "15       91001\n",
              "dtype: int64"
            ]
          },
          "metadata": {
            "tags": []
          },
          "execution_count": 8
        }
      ]
    },
    {
      "cell_type": "code",
      "metadata": {
        "id": "qKlXIK10Ceau",
        "colab_type": "code",
        "colab": {
          "base_uri": "https://localhost:8080/",
          "height": 485
        },
        "outputId": "81c18d55-d74a-4ef9-9d15-4b580b5c1f02"
      },
      "source": [
        "train2.info()"
      ],
      "execution_count": 9,
      "outputs": [
        {
          "output_type": "stream",
          "text": [
            "<class 'pandas.core.frame.DataFrame'>\n",
            "RangeIndex: 96498 entries, 0 to 96497\n",
            "Data columns (total 20 columns):\n",
            " #   Column           Non-Null Count  Dtype  \n",
            "---  ------           --------------  -----  \n",
            " 0   index            96498 non-null  int64  \n",
            " 1   txsize           96498 non-null  int64  \n",
            " 2   txvirtualsize    96498 non-null  int64  \n",
            " 3   txinputs_count   96498 non-null  int64  \n",
            " 4   txoutputs_count  96498 non-null  int64  \n",
            " 5   txinput_val      96498 non-null  float64\n",
            " 6   txoutput_val     96498 non-null  float64\n",
            " 7   txfee            96498 non-null  int64  \n",
            " 8   Min_received     96498 non-null  float64\n",
            " 9   Max_received     96498 non-null  float64\n",
            " 10  Avg_received     96498 non-null  float64\n",
            " 11  Total_received   96498 non-null  float64\n",
            " 12  Stdev_received   96498 non-null  float64\n",
            " 13  Var_received     96498 non-null  float64\n",
            " 14  Min_sent         96498 non-null  float64\n",
            " 15  Max_sent         96498 non-null  float64\n",
            " 16  Avg_sent         96498 non-null  float64\n",
            " 17  Total_sent       96498 non-null  float64\n",
            " 18  Stdev_sent       96498 non-null  float64\n",
            " 19  Var_sent         96498 non-null  float64\n",
            "dtypes: float64(14), int64(6)\n",
            "memory usage: 14.7 MB\n"
          ],
          "name": "stdout"
        }
      ]
    },
    {
      "cell_type": "code",
      "metadata": {
        "id": "dpJBez2qCqe0",
        "colab_type": "code",
        "colab": {
          "base_uri": "https://localhost:8080/",
          "height": 173
        },
        "outputId": "353f395a-9492-4274-8a4d-58e85f020763"
      },
      "source": [
        "train3.info()"
      ],
      "execution_count": 10,
      "outputs": [
        {
          "output_type": "stream",
          "text": [
            "<class 'pandas.core.frame.DataFrame'>\n",
            "RangeIndex: 96498 entries, 0 to 96497\n",
            "Data columns (total 2 columns):\n",
            " #   Column  Non-Null Count  Dtype \n",
            "---  ------  --------------  ----- \n",
            " 0   index   96498 non-null  int64 \n",
            " 1   label   96498 non-null  object\n",
            "dtypes: int64(1), object(1)\n",
            "memory usage: 1.5+ MB\n"
          ],
          "name": "stdout"
        }
      ]
    },
    {
      "cell_type": "code",
      "metadata": {
        "id": "GUztUycoCuYz",
        "colab_type": "code",
        "colab": {}
      },
      "source": [
        "results = pd.merge(train3, train1, on='index', how='inner')\n",
        "\n",
        "# split data into X and y\n",
        "X = results.iloc[:,2:18]\n",
        "Y1 = results['label']"
      ],
      "execution_count": 11,
      "outputs": []
    },
    {
      "cell_type": "code",
      "metadata": {
        "id": "l2PEbTuhCyQG",
        "colab_type": "code",
        "colab": {
          "base_uri": "https://localhost:8080/",
          "height": 415
        },
        "outputId": "e2adea50-22d6-4e9e-97ec-e5f9f39767f6"
      },
      "source": [
        "#from sklearn import preprocessing\n",
        "#le = preprocessing.LabelEncoder()\n",
        "#le.fit(results['label'].unique())\n",
        "Y_dummies = pd.get_dummies(Y1)\n",
        "#Y_tranform = le.transform(Y)\n",
        "#Y = pd.DataFrame(Y_transform)\n",
        "Y = Y_dummies\n",
        "Y"
      ],
      "execution_count": 12,
      "outputs": [
        {
          "output_type": "execute_result",
          "data": {
            "text/html": [
              "<div>\n",
              "<style scoped>\n",
              "    .dataframe tbody tr th:only-of-type {\n",
              "        vertical-align: middle;\n",
              "    }\n",
              "\n",
              "    .dataframe tbody tr th {\n",
              "        vertical-align: top;\n",
              "    }\n",
              "\n",
              "    .dataframe thead th {\n",
              "        text-align: right;\n",
              "    }\n",
              "</style>\n",
              "<table border=\"1\" class=\"dataframe\">\n",
              "  <thead>\n",
              "    <tr style=\"text-align: right;\">\n",
              "      <th></th>\n",
              "      <th>donations</th>\n",
              "      <th>exchange</th>\n",
              "      <th>mixer</th>\n",
              "      <th>paymentgateway</th>\n",
              "      <th>unclassified</th>\n",
              "      <th>wallets</th>\n",
              "    </tr>\n",
              "  </thead>\n",
              "  <tbody>\n",
              "    <tr>\n",
              "      <th>0</th>\n",
              "      <td>0</td>\n",
              "      <td>0</td>\n",
              "      <td>0</td>\n",
              "      <td>0</td>\n",
              "      <td>1</td>\n",
              "      <td>0</td>\n",
              "    </tr>\n",
              "    <tr>\n",
              "      <th>1</th>\n",
              "      <td>1</td>\n",
              "      <td>0</td>\n",
              "      <td>0</td>\n",
              "      <td>0</td>\n",
              "      <td>0</td>\n",
              "      <td>0</td>\n",
              "    </tr>\n",
              "    <tr>\n",
              "      <th>2</th>\n",
              "      <td>0</td>\n",
              "      <td>0</td>\n",
              "      <td>0</td>\n",
              "      <td>0</td>\n",
              "      <td>1</td>\n",
              "      <td>0</td>\n",
              "    </tr>\n",
              "    <tr>\n",
              "      <th>3</th>\n",
              "      <td>1</td>\n",
              "      <td>0</td>\n",
              "      <td>0</td>\n",
              "      <td>0</td>\n",
              "      <td>0</td>\n",
              "      <td>0</td>\n",
              "    </tr>\n",
              "    <tr>\n",
              "      <th>4</th>\n",
              "      <td>1</td>\n",
              "      <td>0</td>\n",
              "      <td>0</td>\n",
              "      <td>0</td>\n",
              "      <td>0</td>\n",
              "      <td>0</td>\n",
              "    </tr>\n",
              "    <tr>\n",
              "      <th>...</th>\n",
              "      <td>...</td>\n",
              "      <td>...</td>\n",
              "      <td>...</td>\n",
              "      <td>...</td>\n",
              "      <td>...</td>\n",
              "      <td>...</td>\n",
              "    </tr>\n",
              "    <tr>\n",
              "      <th>96493</th>\n",
              "      <td>1</td>\n",
              "      <td>0</td>\n",
              "      <td>0</td>\n",
              "      <td>0</td>\n",
              "      <td>0</td>\n",
              "      <td>0</td>\n",
              "    </tr>\n",
              "    <tr>\n",
              "      <th>96494</th>\n",
              "      <td>1</td>\n",
              "      <td>0</td>\n",
              "      <td>0</td>\n",
              "      <td>0</td>\n",
              "      <td>0</td>\n",
              "      <td>0</td>\n",
              "    </tr>\n",
              "    <tr>\n",
              "      <th>96495</th>\n",
              "      <td>1</td>\n",
              "      <td>0</td>\n",
              "      <td>0</td>\n",
              "      <td>0</td>\n",
              "      <td>0</td>\n",
              "      <td>0</td>\n",
              "    </tr>\n",
              "    <tr>\n",
              "      <th>96496</th>\n",
              "      <td>0</td>\n",
              "      <td>1</td>\n",
              "      <td>0</td>\n",
              "      <td>0</td>\n",
              "      <td>0</td>\n",
              "      <td>0</td>\n",
              "    </tr>\n",
              "    <tr>\n",
              "      <th>96497</th>\n",
              "      <td>0</td>\n",
              "      <td>1</td>\n",
              "      <td>0</td>\n",
              "      <td>0</td>\n",
              "      <td>0</td>\n",
              "      <td>0</td>\n",
              "    </tr>\n",
              "  </tbody>\n",
              "</table>\n",
              "<p>96498 rows × 6 columns</p>\n",
              "</div>"
            ],
            "text/plain": [
              "       donations  exchange  mixer  paymentgateway  unclassified  wallets\n",
              "0              0         0      0               0             1        0\n",
              "1              1         0      0               0             0        0\n",
              "2              0         0      0               0             1        0\n",
              "3              1         0      0               0             0        0\n",
              "4              1         0      0               0             0        0\n",
              "...          ...       ...    ...             ...           ...      ...\n",
              "96493          1         0      0               0             0        0\n",
              "96494          1         0      0               0             0        0\n",
              "96495          1         0      0               0             0        0\n",
              "96496          0         1      0               0             0        0\n",
              "96497          0         1      0               0             0        0\n",
              "\n",
              "[96498 rows x 6 columns]"
            ]
          },
          "metadata": {
            "tags": []
          },
          "execution_count": 12
        }
      ]
    },
    {
      "cell_type": "code",
      "metadata": {
        "id": "Yng4U7LACz_W",
        "colab_type": "code",
        "colab": {
          "base_uri": "https://localhost:8080/",
          "height": 121
        },
        "outputId": "013775c5-dd68-4103-a890-3eff1793dfb2"
      },
      "source": [
        "seed = 7\n",
        "test_size = 0.4\n",
        "x_train, x_test, y_train, y_test = train_test_split(X, Y, test_size=test_size, random_state=seed)\n",
        "x_val, x_test, y_val, y_test = train_test_split(x_test, y_test, test_size= 0.5, random_state=seed)\n",
        "print(x_train.shape)\n",
        "print(x_val.shape)\n",
        "print(x_test.shape)\n",
        "print(y_train.shape)\n",
        "print(y_val.shape)\n",
        "print(y_test.shape)"
      ],
      "execution_count": 13,
      "outputs": [
        {
          "output_type": "stream",
          "text": [
            "(57898, 16)\n",
            "(19300, 16)\n",
            "(19300, 16)\n",
            "(57898, 6)\n",
            "(19300, 6)\n",
            "(19300, 6)\n"
          ],
          "name": "stdout"
        }
      ]
    },
    {
      "cell_type": "markdown",
      "metadata": {
        "id": "kVpJ9ZoJQLTU",
        "colab_type": "text"
      },
      "source": [
        "##NEURAL NETWORKS"
      ]
    },
    {
      "cell_type": "code",
      "metadata": {
        "id": "DV_2JyS4DSvj",
        "colab_type": "code",
        "colab": {}
      },
      "source": [
        "from keras import models\n",
        "from keras import layers\n",
        "nn=models.Sequential()"
      ],
      "execution_count": 14,
      "outputs": []
    },
    {
      "cell_type": "code",
      "metadata": {
        "id": "mYT4IfcgDqVr",
        "colab_type": "code",
        "colab": {}
      },
      "source": [
        "nn.add(layers.Dense(1024,activation = \"relu\",input_shape=(16,))) \n",
        "nn.add(layers.Dense(512,activation='tanh'))\n",
        "nn.add(layers.Dense(6,activation='softmax'))"
      ],
      "execution_count": 15,
      "outputs": []
    },
    {
      "cell_type": "code",
      "metadata": {
        "id": "MyJ1_Pz_EYfl",
        "colab_type": "code",
        "colab": {
          "base_uri": "https://localhost:8080/",
          "height": 260
        },
        "outputId": "cb6c282b-1aa8-471c-cc9b-c1696dd4d133"
      },
      "source": [
        "nn.summary()"
      ],
      "execution_count": 16,
      "outputs": [
        {
          "output_type": "stream",
          "text": [
            "Model: \"sequential\"\n",
            "_________________________________________________________________\n",
            "Layer (type)                 Output Shape              Param #   \n",
            "=================================================================\n",
            "dense (Dense)                (None, 1024)              17408     \n",
            "_________________________________________________________________\n",
            "dense_1 (Dense)              (None, 512)               524800    \n",
            "_________________________________________________________________\n",
            "dense_2 (Dense)              (None, 6)                 3078      \n",
            "=================================================================\n",
            "Total params: 545,286\n",
            "Trainable params: 545,286\n",
            "Non-trainable params: 0\n",
            "_________________________________________________________________\n"
          ],
          "name": "stdout"
        }
      ]
    },
    {
      "cell_type": "code",
      "metadata": {
        "id": "PYCi5sN6EbJn",
        "colab_type": "code",
        "colab": {}
      },
      "source": [
        "nn.compile(optimizer='sgd',\n",
        "           loss='categorical_crossentropy',\n",
        "           metrics=['accuracy'])"
      ],
      "execution_count": 17,
      "outputs": []
    },
    {
      "cell_type": "code",
      "metadata": {
        "id": "9XAkCQf6GPle",
        "colab_type": "code",
        "colab": {
          "base_uri": "https://localhost:8080/",
          "height": 1000
        },
        "outputId": "49bcc648-d916-4bc0-b98e-f444fbc2b820"
      },
      "source": [
        "history = nn.fit(x_train, y_train,batch_size=128,epochs =50,validation_data=(x_val, y_val))"
      ],
      "execution_count": 18,
      "outputs": [
        {
          "output_type": "stream",
          "text": [
            "Epoch 1/50\n",
            "453/453 [==============================] - 7s 15ms/step - loss: 0.6036 - accuracy: 0.8405 - val_loss: 0.5684 - val_accuracy: 0.8576\n",
            "Epoch 2/50\n",
            "453/453 [==============================] - 7s 15ms/step - loss: 0.5978 - accuracy: 0.8417 - val_loss: 0.5986 - val_accuracy: 0.8628\n",
            "Epoch 3/50\n",
            "453/453 [==============================] - 7s 15ms/step - loss: 0.5809 - accuracy: 0.8518 - val_loss: 0.5972 - val_accuracy: 0.8386\n",
            "Epoch 4/50\n",
            "453/453 [==============================] - 7s 15ms/step - loss: 0.5827 - accuracy: 0.8471 - val_loss: 0.5774 - val_accuracy: 0.8557\n",
            "Epoch 5/50\n",
            "453/453 [==============================] - 7s 15ms/step - loss: 0.6051 - accuracy: 0.8406 - val_loss: 0.6040 - val_accuracy: 0.8350\n",
            "Epoch 6/50\n",
            "453/453 [==============================] - 7s 15ms/step - loss: 0.5864 - accuracy: 0.8422 - val_loss: 0.6151 - val_accuracy: 0.8347\n",
            "Epoch 7/50\n",
            "453/453 [==============================] - 7s 15ms/step - loss: 0.6058 - accuracy: 0.8358 - val_loss: 0.6307 - val_accuracy: 0.8347\n",
            "Epoch 8/50\n",
            "453/453 [==============================] - 7s 15ms/step - loss: 0.6321 - accuracy: 0.8332 - val_loss: 0.6302 - val_accuracy: 0.8349\n",
            "Epoch 9/50\n",
            "453/453 [==============================] - 7s 15ms/step - loss: 0.6302 - accuracy: 0.8333 - val_loss: 0.6283 - val_accuracy: 0.8349\n",
            "Epoch 10/50\n",
            "453/453 [==============================] - 7s 15ms/step - loss: 0.6276 - accuracy: 0.8333 - val_loss: 0.6327 - val_accuracy: 0.8349\n",
            "Epoch 11/50\n",
            "453/453 [==============================] - 7s 15ms/step - loss: 0.6263 - accuracy: 0.8335 - val_loss: 0.6249 - val_accuracy: 0.8349\n",
            "Epoch 12/50\n",
            "453/453 [==============================] - 7s 15ms/step - loss: 0.6249 - accuracy: 0.8341 - val_loss: 0.6364 - val_accuracy: 0.8386\n",
            "Epoch 13/50\n",
            "453/453 [==============================] - 7s 15ms/step - loss: 0.6246 - accuracy: 0.8347 - val_loss: 0.6345 - val_accuracy: 0.8349\n",
            "Epoch 14/50\n",
            "453/453 [==============================] - 7s 15ms/step - loss: 0.6250 - accuracy: 0.8355 - val_loss: 0.6749 - val_accuracy: 0.8394\n",
            "Epoch 15/50\n",
            "453/453 [==============================] - 7s 15ms/step - loss: 0.6244 - accuracy: 0.8361 - val_loss: 0.6299 - val_accuracy: 0.8349\n",
            "Epoch 16/50\n",
            "453/453 [==============================] - 7s 15ms/step - loss: 0.6242 - accuracy: 0.8366 - val_loss: 0.6249 - val_accuracy: 0.8380\n",
            "Epoch 17/50\n",
            "453/453 [==============================] - 7s 15ms/step - loss: 0.6235 - accuracy: 0.8369 - val_loss: 0.6722 - val_accuracy: 0.8394\n",
            "Epoch 18/50\n",
            "453/453 [==============================] - 7s 15ms/step - loss: 0.6224 - accuracy: 0.8370 - val_loss: 0.6264 - val_accuracy: 0.8382\n",
            "Epoch 19/50\n",
            "453/453 [==============================] - 7s 15ms/step - loss: 0.6229 - accuracy: 0.8371 - val_loss: 0.6301 - val_accuracy: 0.8382\n",
            "Epoch 20/50\n",
            "453/453 [==============================] - 7s 15ms/step - loss: 0.6223 - accuracy: 0.8371 - val_loss: 0.6463 - val_accuracy: 0.8394\n",
            "Epoch 21/50\n",
            "453/453 [==============================] - 7s 15ms/step - loss: 0.6223 - accuracy: 0.8371 - val_loss: 0.6237 - val_accuracy: 0.8382\n",
            "Epoch 22/50\n",
            "453/453 [==============================] - 7s 15ms/step - loss: 0.6224 - accuracy: 0.8372 - val_loss: 0.6335 - val_accuracy: 0.8382\n",
            "Epoch 23/50\n",
            "453/453 [==============================] - 7s 15ms/step - loss: 0.6229 - accuracy: 0.8372 - val_loss: 0.6403 - val_accuracy: 0.8394\n",
            "Epoch 24/50\n",
            "453/453 [==============================] - 7s 15ms/step - loss: 0.6217 - accuracy: 0.8372 - val_loss: 0.6465 - val_accuracy: 0.8394\n",
            "Epoch 25/50\n",
            "453/453 [==============================] - 7s 15ms/step - loss: 0.6217 - accuracy: 0.8373 - val_loss: 0.6433 - val_accuracy: 0.8394\n",
            "Epoch 26/50\n",
            "453/453 [==============================] - 7s 15ms/step - loss: 0.6226 - accuracy: 0.8373 - val_loss: 0.6197 - val_accuracy: 0.8382\n",
            "Epoch 27/50\n",
            "453/453 [==============================] - 7s 15ms/step - loss: 0.6221 - accuracy: 0.8373 - val_loss: 0.6243 - val_accuracy: 0.8394\n",
            "Epoch 28/50\n",
            "453/453 [==============================] - 7s 15ms/step - loss: 0.6220 - accuracy: 0.8372 - val_loss: 0.6198 - val_accuracy: 0.8382\n",
            "Epoch 29/50\n",
            "453/453 [==============================] - 7s 15ms/step - loss: 0.6214 - accuracy: 0.8372 - val_loss: 0.6577 - val_accuracy: 0.8394\n",
            "Epoch 30/50\n",
            "453/453 [==============================] - 7s 15ms/step - loss: 0.6215 - accuracy: 0.8374 - val_loss: 0.6850 - val_accuracy: 0.8394\n",
            "Epoch 31/50\n",
            "453/453 [==============================] - 7s 15ms/step - loss: 0.6215 - accuracy: 0.8374 - val_loss: 0.6237 - val_accuracy: 0.8382\n",
            "Epoch 32/50\n",
            "453/453 [==============================] - 7s 15ms/step - loss: 0.6210 - accuracy: 0.8374 - val_loss: 0.6471 - val_accuracy: 0.8394\n",
            "Epoch 33/50\n",
            "453/453 [==============================] - 7s 15ms/step - loss: 0.6213 - accuracy: 0.8373 - val_loss: 0.6264 - val_accuracy: 0.8383\n",
            "Epoch 34/50\n",
            "453/453 [==============================] - 7s 15ms/step - loss: 0.6215 - accuracy: 0.8375 - val_loss: 0.6310 - val_accuracy: 0.8394\n",
            "Epoch 35/50\n",
            "453/453 [==============================] - 7s 15ms/step - loss: 0.6215 - accuracy: 0.8377 - val_loss: 0.6210 - val_accuracy: 0.8383\n",
            "Epoch 36/50\n",
            "453/453 [==============================] - 7s 15ms/step - loss: 0.6213 - accuracy: 0.8374 - val_loss: 0.6207 - val_accuracy: 0.8382\n",
            "Epoch 37/50\n",
            "453/453 [==============================] - 7s 15ms/step - loss: 0.6217 - accuracy: 0.8376 - val_loss: 0.6686 - val_accuracy: 0.8394\n",
            "Epoch 38/50\n",
            "453/453 [==============================] - 7s 15ms/step - loss: 0.6219 - accuracy: 0.8376 - val_loss: 0.6309 - val_accuracy: 0.8394\n",
            "Epoch 39/50\n",
            "453/453 [==============================] - 7s 16ms/step - loss: 0.6215 - accuracy: 0.8376 - val_loss: 0.6220 - val_accuracy: 0.8384\n",
            "Epoch 40/50\n",
            "453/453 [==============================] - 7s 15ms/step - loss: 0.6213 - accuracy: 0.8376 - val_loss: 0.6359 - val_accuracy: 0.8355\n",
            "Epoch 41/50\n",
            "453/453 [==============================] - 7s 15ms/step - loss: 0.6221 - accuracy: 0.8376 - val_loss: 0.6230 - val_accuracy: 0.8393\n",
            "Epoch 42/50\n",
            "453/453 [==============================] - 7s 15ms/step - loss: 0.6217 - accuracy: 0.8376 - val_loss: 0.6295 - val_accuracy: 0.8378\n",
            "Epoch 43/50\n",
            "453/453 [==============================] - 7s 15ms/step - loss: 0.6206 - accuracy: 0.8380 - val_loss: 0.6203 - val_accuracy: 0.8390\n",
            "Epoch 44/50\n",
            "453/453 [==============================] - 7s 15ms/step - loss: 0.6211 - accuracy: 0.8377 - val_loss: 0.6275 - val_accuracy: 0.8378\n",
            "Epoch 45/50\n",
            "453/453 [==============================] - 7s 15ms/step - loss: 0.6215 - accuracy: 0.8380 - val_loss: 0.6416 - val_accuracy: 0.8390\n",
            "Epoch 46/50\n",
            "453/453 [==============================] - 7s 15ms/step - loss: 0.6214 - accuracy: 0.8377 - val_loss: 0.6291 - val_accuracy: 0.8397\n",
            "Epoch 47/50\n",
            "453/453 [==============================] - 7s 15ms/step - loss: 0.6213 - accuracy: 0.8382 - val_loss: 0.6192 - val_accuracy: 0.8390\n",
            "Epoch 48/50\n",
            "453/453 [==============================] - 7s 15ms/step - loss: 0.6211 - accuracy: 0.8379 - val_loss: 0.6259 - val_accuracy: 0.8394\n",
            "Epoch 49/50\n",
            "453/453 [==============================] - 7s 15ms/step - loss: 0.6212 - accuracy: 0.8383 - val_loss: 0.6247 - val_accuracy: 0.8395\n",
            "Epoch 50/50\n",
            "453/453 [==============================] - 7s 15ms/step - loss: 0.6207 - accuracy: 0.8381 - val_loss: 0.6859 - val_accuracy: 0.8393\n"
          ],
          "name": "stdout"
        }
      ]
    },
    {
      "cell_type": "code",
      "metadata": {
        "id": "2Gn_sK9tPcr8",
        "colab_type": "code",
        "colab": {
          "base_uri": "https://localhost:8080/",
          "height": 295
        },
        "outputId": "4ed5c482-b1b9-4d23-abc8-9717a069aa25"
      },
      "source": [
        "loss_train = history.history['accuracy']\n",
        "loss_val = history.history['val_accuracy']\n",
        "epochs = range(1,51)\n",
        "plt.plot(epochs, loss_train, 'g', label='Training accuracy')\n",
        "plt.plot(epochs, loss_val, 'b', label='validation accuracy')\n",
        "plt.title('Training and Validation accuracy')\n",
        "plt.xlabel('Epochs')\n",
        "plt.ylabel('Accuracy')\n",
        "plt.legend()\n",
        "plt.show()"
      ],
      "execution_count": 22,
      "outputs": [
        {
          "output_type": "display_data",
          "data": {
            "image/png": "[encoded data removed]",
            "text/plain": [
              "<Figure size 432x288 with 1 Axes>"
            ]
          },
          "metadata": {
            "tags": [],
            "needs_background": "light"
          }
        }
      ]
    },
    {
      "cell_type": "code",
      "metadata": {
        "id": "TsDXcuZPGjvm",
        "colab_type": "code",
        "colab": {
          "base_uri": "https://localhost:8080/",
          "height": 295
        },
        "outputId": "19693569-f1f2-49b8-d811-8c600444a2d7"
      },
      "source": [
        "loss_train = history.history['accuracy']\n",
        "loss_val = history.history['val_accuracy']\n",
        "epochs = range(1,51)\n",
        "plt.plot(epochs, loss_train, 'g', label='Training accuracy')\n",
        "plt.plot(epochs, loss_val, 'b', label='validation accuracy')\n",
        "plt.title('Training and Validation accuracy')\n",
        "plt.xlabel('Epochs')\n",
        "plt.ylabel('Accuracy')\n",
        "plt.legend()\n",
        "plt.show()"
      ],
      "execution_count": 23,
      "outputs": [
        {
          "output_type": "display_data",
          "data": {
            "image/png": "[encoded data removed]",
            "text/plain": [
              "<Figure size 432x288 with 1 Axes>"
            ]
          },
          "metadata": {
            "tags": [],
            "needs_background": "light"
          }
        }
      ]
    },
    {
      "cell_type": "code",
      "metadata": {
        "id": "UkFeBRpoNvAH",
        "colab_type": "code",
        "colab": {
          "base_uri": "https://localhost:8080/",
          "height": 121
        },
        "outputId": "1f3c1437-ffaa-48a6-e59e-f0f073108b0e"
      },
      "source": [
        "train_loss,train_accuracy = nn.evaluate(x_train,y_train)\n",
        "val_loss,val_accuracy = nn.evaluate(x_val,y_val)\n",
        "test_loss,test_accuracy = nn.evaluate(x_test,y_test)\n",
        "print('Training Accuracy : ',train_accuracy*100,\"%\")\n",
        "print('Val Accuracy : ',val_accuracy*100,\"%\")\n",
        "print('Test Accuracy : ',test_accuracy*100,\"%\")"
      ],
      "execution_count": 24,
      "outputs": [
        {
          "output_type": "stream",
          "text": [
            "1810/1810 [==============================] - 4s 2ms/step - loss: 0.6802 - accuracy: 0.8380\n",
            "604/604 [==============================] - 1s 2ms/step - loss: 0.6859 - accuracy: 0.8393\n",
            "604/604 [==============================] - 1s 2ms/step - loss: 0.6823 - accuracy: 0.8387\n",
            "Training Accuracy :  83.79736542701721 %\n",
            "Val Accuracy :  83.93264412879944 %\n",
            "Test Accuracy :  83.87046456336975 %\n"
          ],
          "name": "stdout"
        }
      ]
    }
  ]
}